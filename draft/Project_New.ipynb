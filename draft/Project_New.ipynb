{
 "cells": [
  {
   "cell_type": "markdown",
   "id": "2a4fa795",
   "metadata": {},
   "source": [
    "# 1. Import Libraries and Configure Settings"
   ]
  },
  {
   "cell_type": "code",
   "execution_count": 37,
   "id": "87181a38",
   "metadata": {},
   "outputs": [],
   "source": [
    "import pandas as pd\n",
    "import numpy as np\n",
    "import matplotlib.pyplot as plt\n",
    "import seaborn as sb\n",
    "from sklearn import preprocessing\n",
    "from sklearn.decomposition import PCA"
   ]
  },
  {
   "cell_type": "markdown",
   "id": "6ba52593",
   "metadata": {},
   "source": [
    "# 2. Import Dataset"
   ]
  },
  {
   "cell_type": "code",
   "execution_count": 2,
   "id": "217c9e24",
   "metadata": {},
   "outputs": [
    {
     "data": {
      "text/html": [
       "<div>\n",
       "<style scoped>\n",
       "    .dataframe tbody tr th:only-of-type {\n",
       "        vertical-align: middle;\n",
       "    }\n",
       "\n",
       "    .dataframe tbody tr th {\n",
       "        vertical-align: top;\n",
       "    }\n",
       "\n",
       "    .dataframe thead th {\n",
       "        text-align: right;\n",
       "    }\n",
       "</style>\n",
       "<table border=\"1\" class=\"dataframe\">\n",
       "  <thead>\n",
       "    <tr style=\"text-align: right;\">\n",
       "      <th></th>\n",
       "      <th>id</th>\n",
       "      <th>listing_url</th>\n",
       "      <th>scrape_id</th>\n",
       "      <th>last_scraped</th>\n",
       "      <th>name</th>\n",
       "      <th>description</th>\n",
       "      <th>neighborhood_overview</th>\n",
       "      <th>picture_url</th>\n",
       "      <th>host_id</th>\n",
       "      <th>host_url</th>\n",
       "      <th>...</th>\n",
       "      <th>review_scores_communication</th>\n",
       "      <th>review_scores_location</th>\n",
       "      <th>review_scores_value</th>\n",
       "      <th>license</th>\n",
       "      <th>instant_bookable</th>\n",
       "      <th>calculated_host_listings_count</th>\n",
       "      <th>calculated_host_listings_count_entire_homes</th>\n",
       "      <th>calculated_host_listings_count_private_rooms</th>\n",
       "      <th>calculated_host_listings_count_shared_rooms</th>\n",
       "      <th>reviews_per_month</th>\n",
       "    </tr>\n",
       "  </thead>\n",
       "  <tbody>\n",
       "    <tr>\n",
       "      <th>0</th>\n",
       "      <td>2384</td>\n",
       "      <td>https://www.airbnb.com/rooms/2384</td>\n",
       "      <td>20210710185946</td>\n",
       "      <td>2021-07-11</td>\n",
       "      <td>Hyde Park - Walk to University of Chicago</td>\n",
       "      <td>If you have been fully vaccinated, you are inv...</td>\n",
       "      <td>The apartment is less than one block from beau...</td>\n",
       "      <td>https://a0.muscache.com/pictures/acf6b3c0-47f2...</td>\n",
       "      <td>2613</td>\n",
       "      <td>https://www.airbnb.com/users/show/2613</td>\n",
       "      <td>...</td>\n",
       "      <td>4.98</td>\n",
       "      <td>4.95</td>\n",
       "      <td>4.94</td>\n",
       "      <td>R17000015609</td>\n",
       "      <td>f</td>\n",
       "      <td>1</td>\n",
       "      <td>0</td>\n",
       "      <td>1</td>\n",
       "      <td>0</td>\n",
       "      <td>2.45</td>\n",
       "    </tr>\n",
       "    <tr>\n",
       "      <th>1</th>\n",
       "      <td>7126</td>\n",
       "      <td>https://www.airbnb.com/rooms/7126</td>\n",
       "      <td>20210710185946</td>\n",
       "      <td>2021-07-11</td>\n",
       "      <td>Tiny Studio Apartment 94 Walk Score</td>\n",
       "      <td>A very small studio in a wonderful neighborhoo...</td>\n",
       "      <td>Ukrainian Village was just named \"Hottest Neig...</td>\n",
       "      <td>https://a0.muscache.com/pictures/51073/16c81c7...</td>\n",
       "      <td>17928</td>\n",
       "      <td>https://www.airbnb.com/users/show/17928</td>\n",
       "      <td>...</td>\n",
       "      <td>4.85</td>\n",
       "      <td>4.87</td>\n",
       "      <td>4.72</td>\n",
       "      <td>R18000034991</td>\n",
       "      <td>f</td>\n",
       "      <td>1</td>\n",
       "      <td>1</td>\n",
       "      <td>0</td>\n",
       "      <td>0</td>\n",
       "      <td>3.32</td>\n",
       "    </tr>\n",
       "    <tr>\n",
       "      <th>2</th>\n",
       "      <td>10945</td>\n",
       "      <td>https://www.airbnb.com/rooms/10945</td>\n",
       "      <td>20210710185946</td>\n",
       "      <td>2021-07-11</td>\n",
       "      <td>The Biddle House (#1)</td>\n",
       "      <td>Beautiful first floor apartment in Historic Ol...</td>\n",
       "      <td>NaN</td>\n",
       "      <td>https://a0.muscache.com/pictures/58d1a420-a24b...</td>\n",
       "      <td>33004</td>\n",
       "      <td>https://www.airbnb.com/users/show/33004</td>\n",
       "      <td>...</td>\n",
       "      <td>4.64</td>\n",
       "      <td>4.96</td>\n",
       "      <td>4.54</td>\n",
       "      <td>2120297</td>\n",
       "      <td>t</td>\n",
       "      <td>10</td>\n",
       "      <td>10</td>\n",
       "      <td>0</td>\n",
       "      <td>0</td>\n",
       "      <td>0.32</td>\n",
       "    </tr>\n",
       "    <tr>\n",
       "      <th>3</th>\n",
       "      <td>12068</td>\n",
       "      <td>https://www.airbnb.com/rooms/12068</td>\n",
       "      <td>20210710185946</td>\n",
       "      <td>2021-07-10</td>\n",
       "      <td>Chicago GOLD COAST 1 Bedroom Condo</td>\n",
       "      <td>Available as extended stay rental located in C...</td>\n",
       "      <td>The condo is on Lasalle just off of Division; ...</td>\n",
       "      <td>https://a0.muscache.com/pictures/110562313/69f...</td>\n",
       "      <td>40731</td>\n",
       "      <td>https://www.airbnb.com/users/show/40731</td>\n",
       "      <td>...</td>\n",
       "      <td>4.73</td>\n",
       "      <td>4.73</td>\n",
       "      <td>4.73</td>\n",
       "      <td>City registration pending</td>\n",
       "      <td>f</td>\n",
       "      <td>1</td>\n",
       "      <td>1</td>\n",
       "      <td>0</td>\n",
       "      <td>0</td>\n",
       "      <td>0.14</td>\n",
       "    </tr>\n",
       "    <tr>\n",
       "      <th>4</th>\n",
       "      <td>12140</td>\n",
       "      <td>https://www.airbnb.com/rooms/12140</td>\n",
       "      <td>20210710185946</td>\n",
       "      <td>2021-07-10</td>\n",
       "      <td>Lincoln Park Guest House</td>\n",
       "      <td>Bed and Breakfast license issued by the City o...</td>\n",
       "      <td>The Guest House is in the heart of Chicago's m...</td>\n",
       "      <td>https://a0.muscache.com/pictures/55126/6a4f01b...</td>\n",
       "      <td>46734</td>\n",
       "      <td>https://www.airbnb.com/users/show/46734</td>\n",
       "      <td>...</td>\n",
       "      <td>5.00</td>\n",
       "      <td>5.00</td>\n",
       "      <td>5.00</td>\n",
       "      <td>R20000055258</td>\n",
       "      <td>f</td>\n",
       "      <td>1</td>\n",
       "      <td>0</td>\n",
       "      <td>1</td>\n",
       "      <td>0</td>\n",
       "      <td>0.10</td>\n",
       "    </tr>\n",
       "  </tbody>\n",
       "</table>\n",
       "<p>5 rows × 74 columns</p>\n",
       "</div>"
      ],
      "text/plain": [
       "      id                         listing_url       scrape_id last_scraped  \\\n",
       "0   2384   https://www.airbnb.com/rooms/2384  20210710185946   2021-07-11   \n",
       "1   7126   https://www.airbnb.com/rooms/7126  20210710185946   2021-07-11   \n",
       "2  10945  https://www.airbnb.com/rooms/10945  20210710185946   2021-07-11   \n",
       "3  12068  https://www.airbnb.com/rooms/12068  20210710185946   2021-07-10   \n",
       "4  12140  https://www.airbnb.com/rooms/12140  20210710185946   2021-07-10   \n",
       "\n",
       "                                        name  \\\n",
       "0  Hyde Park - Walk to University of Chicago   \n",
       "1        Tiny Studio Apartment 94 Walk Score   \n",
       "2                      The Biddle House (#1)   \n",
       "3         Chicago GOLD COAST 1 Bedroom Condo   \n",
       "4                   Lincoln Park Guest House   \n",
       "\n",
       "                                         description  \\\n",
       "0  If you have been fully vaccinated, you are inv...   \n",
       "1  A very small studio in a wonderful neighborhoo...   \n",
       "2  Beautiful first floor apartment in Historic Ol...   \n",
       "3  Available as extended stay rental located in C...   \n",
       "4  Bed and Breakfast license issued by the City o...   \n",
       "\n",
       "                               neighborhood_overview  \\\n",
       "0  The apartment is less than one block from beau...   \n",
       "1  Ukrainian Village was just named \"Hottest Neig...   \n",
       "2                                                NaN   \n",
       "3  The condo is on Lasalle just off of Division; ...   \n",
       "4  The Guest House is in the heart of Chicago's m...   \n",
       "\n",
       "                                         picture_url  host_id  \\\n",
       "0  https://a0.muscache.com/pictures/acf6b3c0-47f2...     2613   \n",
       "1  https://a0.muscache.com/pictures/51073/16c81c7...    17928   \n",
       "2  https://a0.muscache.com/pictures/58d1a420-a24b...    33004   \n",
       "3  https://a0.muscache.com/pictures/110562313/69f...    40731   \n",
       "4  https://a0.muscache.com/pictures/55126/6a4f01b...    46734   \n",
       "\n",
       "                                  host_url  ... review_scores_communication  \\\n",
       "0   https://www.airbnb.com/users/show/2613  ...                        4.98   \n",
       "1  https://www.airbnb.com/users/show/17928  ...                        4.85   \n",
       "2  https://www.airbnb.com/users/show/33004  ...                        4.64   \n",
       "3  https://www.airbnb.com/users/show/40731  ...                        4.73   \n",
       "4  https://www.airbnb.com/users/show/46734  ...                        5.00   \n",
       "\n",
       "  review_scores_location review_scores_value                    license  \\\n",
       "0                   4.95                4.94               R17000015609   \n",
       "1                   4.87                4.72               R18000034991   \n",
       "2                   4.96                4.54                    2120297   \n",
       "3                   4.73                4.73  City registration pending   \n",
       "4                   5.00                5.00               R20000055258   \n",
       "\n",
       "  instant_bookable calculated_host_listings_count  \\\n",
       "0                f                              1   \n",
       "1                f                              1   \n",
       "2                t                             10   \n",
       "3                f                              1   \n",
       "4                f                              1   \n",
       "\n",
       "  calculated_host_listings_count_entire_homes  \\\n",
       "0                                           0   \n",
       "1                                           1   \n",
       "2                                          10   \n",
       "3                                           1   \n",
       "4                                           0   \n",
       "\n",
       "  calculated_host_listings_count_private_rooms  \\\n",
       "0                                            1   \n",
       "1                                            0   \n",
       "2                                            0   \n",
       "3                                            0   \n",
       "4                                            1   \n",
       "\n",
       "  calculated_host_listings_count_shared_rooms reviews_per_month  \n",
       "0                                           0              2.45  \n",
       "1                                           0              3.32  \n",
       "2                                           0              0.32  \n",
       "3                                           0              0.14  \n",
       "4                                           0              0.10  \n",
       "\n",
       "[5 rows x 74 columns]"
      ]
     },
     "execution_count": 2,
     "metadata": {},
     "output_type": "execute_result"
    }
   ],
   "source": [
    "nl = pd.read_csv('datas/listings 2.csv')\n",
    "nl.head()"
   ]
  },
  {
   "cell_type": "markdown",
   "id": "f8e96254",
   "metadata": {},
   "source": [
    "# 3. Further Cleanse and Transform Data"
   ]
  },
  {
   "cell_type": "markdown",
   "id": "cdeb3d28",
   "metadata": {},
   "source": [
    "## 3.1 Remove irrelavant column:"
   ]
  },
  {
   "cell_type": "markdown",
   "id": "6e587b6f",
   "metadata": {},
   "source": [
    "### Data Selection\n",
    "Raw listings data contained 74 columns and 6366 rows, but the data was narrowed down to 59 features that have meaningful impact on price predict, recommendation system, and customer satisfication predict. The features that were removed were the following:\n",
    "- listing_url, picture_url, host_url, host_thumbnail_url, host_picture_url: url is not useful for our project\n",
    "- scrape_id, last_scraped, calendar_updated, calendar_last_scraped\n",
    "- neighbourhood_group_cleansed, "
   ]
  },
  {
   "cell_type": "code",
   "execution_count": 3,
   "id": "dddcd64f",
   "metadata": {},
   "outputs": [
    {
     "name": "stdout",
     "output_type": "stream",
     "text": [
      "<class 'pandas.core.frame.DataFrame'>\n",
      "RangeIndex: 6366 entries, 0 to 6365\n",
      "Data columns (total 61 columns):\n",
      " #   Column                                        Non-Null Count  Dtype  \n",
      "---  ------                                        --------------  -----  \n",
      " 0   id                                            6366 non-null   int64  \n",
      " 1   last_scraped                                  6366 non-null   object \n",
      " 2   name                                          6366 non-null   object \n",
      " 3   description                                   6352 non-null   object \n",
      " 4   neighborhood_overview                         4663 non-null   object \n",
      " 5   host_id                                       6366 non-null   int64  \n",
      " 6   host_name                                     6365 non-null   object \n",
      " 7   host_since                                    6365 non-null   object \n",
      " 8   host_about                                    4381 non-null   object \n",
      " 9   host_response_time                            5187 non-null   object \n",
      " 10  host_response_rate                            5187 non-null   object \n",
      " 11  host_acceptance_rate                          5381 non-null   object \n",
      " 12  host_is_superhost                             6365 non-null   object \n",
      " 13  host_total_listings_count                     6365 non-null   float64\n",
      " 14  host_verifications                            6366 non-null   object \n",
      " 15  host_has_profile_pic                          6365 non-null   object \n",
      " 16  host_identity_verified                        6365 non-null   object \n",
      " 17  neighbourhood_cleansed                        6366 non-null   object \n",
      " 18  latitude                                      6366 non-null   float64\n",
      " 19  longitude                                     6366 non-null   float64\n",
      " 20  property_type                                 6366 non-null   object \n",
      " 21  room_type                                     6366 non-null   object \n",
      " 22  accommodates                                  6366 non-null   int64  \n",
      " 23  bathrooms_text                                6362 non-null   object \n",
      " 24  bedrooms                                      5829 non-null   float64\n",
      " 25  beds                                          6285 non-null   float64\n",
      " 26  amenities                                     6366 non-null   object \n",
      " 27  price                                         6366 non-null   object \n",
      " 28  minimum_nights                                6366 non-null   int64  \n",
      " 29  maximum_nights                                6366 non-null   int64  \n",
      " 30  minimum_minimum_nights                        6366 non-null   int64  \n",
      " 31  maximum_minimum_nights                        6366 non-null   int64  \n",
      " 32  minimum_maximum_nights                        6366 non-null   int64  \n",
      " 33  maximum_maximum_nights                        6366 non-null   int64  \n",
      " 34  minimum_nights_avg_ntm                        6366 non-null   float64\n",
      " 35  maximum_nights_avg_ntm                        6366 non-null   float64\n",
      " 36  has_availability                              6366 non-null   object \n",
      " 37  availability_30                               6366 non-null   int64  \n",
      " 38  availability_60                               6366 non-null   int64  \n",
      " 39  availability_90                               6366 non-null   int64  \n",
      " 40  availability_365                              6366 non-null   int64  \n",
      " 41  calendar_last_scraped                         6366 non-null   object \n",
      " 42  number_of_reviews                             6366 non-null   int64  \n",
      " 43  number_of_reviews_ltm                         6366 non-null   int64  \n",
      " 44  number_of_reviews_l30d                        6366 non-null   int64  \n",
      " 45  first_review                                  5282 non-null   object \n",
      " 46  last_review                                   5282 non-null   object \n",
      " 47  review_scores_rating                          5282 non-null   float64\n",
      " 48  review_scores_accuracy                        5246 non-null   float64\n",
      " 49  review_scores_cleanliness                     5246 non-null   float64\n",
      " 50  review_scores_checkin                         5245 non-null   float64\n",
      " 51  review_scores_communication                   5244 non-null   float64\n",
      " 52  review_scores_location                        5245 non-null   float64\n",
      " 53  review_scores_value                           5245 non-null   float64\n",
      " 54  license                                       6031 non-null   object \n",
      " 55  instant_bookable                              6366 non-null   object \n",
      " 56  calculated_host_listings_count                6366 non-null   int64  \n",
      " 57  calculated_host_listings_count_entire_homes   6366 non-null   int64  \n",
      " 58  calculated_host_listings_count_private_rooms  6366 non-null   int64  \n",
      " 59  calculated_host_listings_count_shared_rooms   6366 non-null   int64  \n",
      " 60  reviews_per_month                             5282 non-null   float64\n",
      "dtypes: float64(15), int64(20), object(26)\n",
      "memory usage: 3.0+ MB\n"
     ]
    }
   ],
   "source": [
    "nl = nl.drop(['listing_url', 'scrape_id', 'picture_url', 'host_url', 'host_location', 'host_thumbnail_url', 'host_picture_url', 'host_neighbourhood', 'neighbourhood', 'neighbourhood_group_cleansed', 'bathrooms', 'calendar_updated', 'host_listings_count'], axis=1)\n",
    "nl.info()"
   ]
  },
  {
   "cell_type": "markdown",
   "id": "b87340e7",
   "metadata": {},
   "source": [
    "## 3.2 Rename the columns to make the dataset easy to understand"
   ]
  },
  {
   "cell_type": "code",
   "execution_count": 4,
   "id": "d99c7077",
   "metadata": {},
   "outputs": [],
   "source": [
    "nl = nl.rename(columns={'id':'property_id', 'bathrooms_text':'bathrooms'})"
   ]
  },
  {
   "cell_type": "markdown",
   "id": "bada4e07",
   "metadata": {},
   "source": [
    "## 3.3 Transform Data and Create Variables"
   ]
  },
  {
   "cell_type": "markdown",
   "id": "6c0e1461",
   "metadata": {},
   "source": [
    "Try to splite bathrooms column into multiple columns, then drop unnecessary colums. Change private, shared, and half-bath to 0.5, because they all indicates 0.5 bathroom."
   ]
  },
  {
   "cell_type": "code",
   "execution_count": 5,
   "id": "a9382af3",
   "metadata": {},
   "outputs": [
    {
     "data": {
      "text/plain": [
       "array([ 1. ,  2. ,  1.5,  3. ,  2.5,  0. ,  3.5, 11. ,  5. ,  nan,  0.5,\n",
       "        4. ,  4.5, 11.5,  6.5,  7. ,  5.5,  6. ,  8. , 12.5, 10. ])"
      ]
     },
     "execution_count": 5,
     "metadata": {},
     "output_type": "execute_result"
    }
   ],
   "source": [
    "bath = nl['bathrooms'].str.split(' ', expand = True)\n",
    "bath = bath.drop([1,2], axis=1)\n",
    "nl['bathrooms'] = bath[0].replace(['Private', 'Shared', 'Half-bath'], '0.5')\n",
    "nl['bathrooms'] = nl['bathrooms'].astype('float')\n",
    "nl['bathrooms'].unique()"
   ]
  },
  {
   "cell_type": "markdown",
   "id": "b01d9c2d",
   "metadata": {},
   "source": [
    "First, we don't want to show the '$' and ',' in price column. Let's remove it."
   ]
  },
  {
   "cell_type": "code",
   "execution_count": 6,
   "id": "18aa2513",
   "metadata": {},
   "outputs": [
    {
     "name": "stderr",
     "output_type": "stream",
     "text": [
      "/var/folders/l4/02h672sn7w56vdlzj5gtgwzc0000gn/T/ipykernel_34393/2402874456.py:1: FutureWarning: The default value of regex will change from True to False in a future version. In addition, single character regular expressions will *not* be treated as literal strings when regex=True.\n",
      "  nl['price'] = nl['price'].str.replace('$','')\n"
     ]
    }
   ],
   "source": [
    "nl['price'] = nl['price'].str.replace('$','')\n",
    "nl['price'] = nl['price'].str.replace(',','')"
   ]
  },
  {
   "cell_type": "markdown",
   "id": "ce6dc146",
   "metadata": {},
   "source": [
    "we want to change the data type to float"
   ]
  },
  {
   "cell_type": "code",
   "execution_count": 7,
   "id": "a6094aa9",
   "metadata": {},
   "outputs": [
    {
     "data": {
      "text/plain": [
       "0     85.0\n",
       "1     65.0\n",
       "2    143.0\n",
       "3     99.0\n",
       "4    329.0\n",
       "Name: price, dtype: float64"
      ]
     },
     "execution_count": 7,
     "metadata": {},
     "output_type": "execute_result"
    }
   ],
   "source": [
    "nl['price'] = nl['price'].astype(float)\n",
    "nl['price'].head()"
   ]
  },
  {
   "cell_type": "markdown",
   "id": "49353adb",
   "metadata": {},
   "source": [
    "we don't want to show '%' in host_response_rate and host_acceptance_rate, then change data type to float"
   ]
  },
  {
   "cell_type": "code",
   "execution_count": 8,
   "id": "6cc32f8b",
   "metadata": {},
   "outputs": [],
   "source": [
    "for x in ['host_response_rate', 'host_acceptance_rate']:\n",
    "    nl[x] = nl[x].str.replace('%', '').astype(float)\n",
    "    nl[x] = nl[x]/100"
   ]
  },
  {
   "cell_type": "code",
   "execution_count": 9,
   "id": "ab2f658c",
   "metadata": {},
   "outputs": [],
   "source": [
    "nl['host_response_rate'] = nl['host_response_rate'].astype(float)"
   ]
  },
  {
   "cell_type": "code",
   "execution_count": 10,
   "id": "760fbc99",
   "metadata": {},
   "outputs": [
    {
     "data": {
      "text/plain": [
       "0       1.00\n",
       "1       1.00\n",
       "2       1.00\n",
       "3       0.92\n",
       "4       1.00\n",
       "        ... \n",
       "6361    1.00\n",
       "6362    0.98\n",
       "6363    0.98\n",
       "6364    1.00\n",
       "6365    0.95\n",
       "Name: host_response_rate, Length: 6366, dtype: float64"
      ]
     },
     "execution_count": 10,
     "metadata": {},
     "output_type": "execute_result"
    }
   ],
   "source": [
    "nl['host_response_rate']"
   ]
  },
  {
   "cell_type": "code",
   "execution_count": 11,
   "id": "305fda0b",
   "metadata": {},
   "outputs": [],
   "source": [
    "nl['host_response_rate'] = nl['host_response_rate'].astype(float)"
   ]
  },
  {
   "cell_type": "code",
   "execution_count": 12,
   "id": "d5f538db",
   "metadata": {},
   "outputs": [
    {
     "data": {
      "text/plain": [
       "0       1.00\n",
       "1       1.00\n",
       "2       1.00\n",
       "3       0.92\n",
       "4       1.00\n",
       "        ... \n",
       "6361    1.00\n",
       "6362    0.98\n",
       "6363    0.98\n",
       "6364    1.00\n",
       "6365    0.95\n",
       "Name: host_response_rate, Length: 6366, dtype: float64"
      ]
     },
     "execution_count": 12,
     "metadata": {},
     "output_type": "execute_result"
    }
   ],
   "source": [
    "nl['host_response_rate']"
   ]
  },
  {
   "cell_type": "markdown",
   "id": "4ea6c108",
   "metadata": {},
   "source": [
    "we want to know how long has the host existed？"
   ]
  },
  {
   "cell_type": "code",
   "execution_count": 13,
   "id": "548a3923",
   "metadata": {},
   "outputs": [],
   "source": [
    "for x in ['last_scraped', 'host_since']:\n",
    "    nl[x] = nl[x].str.replace('-','/')\n",
    "for x in ['last_scraped', 'host_since']:\n",
    "    nl[x] = pd.to_datetime(nl[x])"
   ]
  },
  {
   "cell_type": "code",
   "execution_count": 14,
   "id": "27e809f3",
   "metadata": {},
   "outputs": [],
   "source": [
    "nl['host_period'] = nl['last_scraped'] - nl['host_since']"
   ]
  },
  {
   "cell_type": "markdown",
   "id": "cfcc49fe",
   "metadata": {},
   "source": [
    "change follow columns' value t to 1, f to 0"
   ]
  },
  {
   "cell_type": "code",
   "execution_count": 15,
   "id": "4202e27e",
   "metadata": {},
   "outputs": [],
   "source": [
    "def repl_f_t(l):\n",
    "    l = l.replace('f', 0);\n",
    "    l = l.replace('t', 1);\n",
    "    return l\n",
    "nl['host_is_superhost'] = repl_f_t(nl['host_is_superhost'])\n",
    "nl['host_identity_verified'] = repl_f_t(nl['host_identity_verified'])\n",
    "nl['instant_bookable'] = repl_f_t(nl['instant_bookable'])"
   ]
  },
  {
   "cell_type": "code",
   "execution_count": 16,
   "id": "ea39ae9f",
   "metadata": {},
   "outputs": [
    {
     "data": {
      "text/plain": [
       "0       1.00\n",
       "1       1.00\n",
       "2       1.00\n",
       "3       0.92\n",
       "4       1.00\n",
       "        ... \n",
       "6361    1.00\n",
       "6362    0.98\n",
       "6363    0.98\n",
       "6364    1.00\n",
       "6365    0.95\n",
       "Name: host_response_rate, Length: 6366, dtype: float64"
      ]
     },
     "execution_count": 16,
     "metadata": {},
     "output_type": "execute_result"
    }
   ],
   "source": [
    "nl['host_response_rate']"
   ]
  },
  {
   "cell_type": "code",
   "execution_count": 17,
   "id": "b1ec61ca",
   "metadata": {},
   "outputs": [
    {
     "name": "stdout",
     "output_type": "stream",
     "text": [
      "<class 'pandas.core.frame.DataFrame'>\n",
      "RangeIndex: 6366 entries, 0 to 6365\n",
      "Data columns (total 62 columns):\n",
      " #   Column                                        Non-Null Count  Dtype          \n",
      "---  ------                                        --------------  -----          \n",
      " 0   property_id                                   6366 non-null   int64          \n",
      " 1   last_scraped                                  6366 non-null   datetime64[ns] \n",
      " 2   name                                          6366 non-null   object         \n",
      " 3   description                                   6352 non-null   object         \n",
      " 4   neighborhood_overview                         4663 non-null   object         \n",
      " 5   host_id                                       6366 non-null   int64          \n",
      " 6   host_name                                     6365 non-null   object         \n",
      " 7   host_since                                    6365 non-null   datetime64[ns] \n",
      " 8   host_about                                    4381 non-null   object         \n",
      " 9   host_response_time                            5187 non-null   object         \n",
      " 10  host_response_rate                            5187 non-null   float64        \n",
      " 11  host_acceptance_rate                          5381 non-null   float64        \n",
      " 12  host_is_superhost                             6365 non-null   float64        \n",
      " 13  host_total_listings_count                     6365 non-null   float64        \n",
      " 14  host_verifications                            6366 non-null   object         \n",
      " 15  host_has_profile_pic                          6365 non-null   object         \n",
      " 16  host_identity_verified                        6365 non-null   float64        \n",
      " 17  neighbourhood_cleansed                        6366 non-null   object         \n",
      " 18  latitude                                      6366 non-null   float64        \n",
      " 19  longitude                                     6366 non-null   float64        \n",
      " 20  property_type                                 6366 non-null   object         \n",
      " 21  room_type                                     6366 non-null   object         \n",
      " 22  accommodates                                  6366 non-null   int64          \n",
      " 23  bathrooms                                     6362 non-null   float64        \n",
      " 24  bedrooms                                      5829 non-null   float64        \n",
      " 25  beds                                          6285 non-null   float64        \n",
      " 26  amenities                                     6366 non-null   object         \n",
      " 27  price                                         6366 non-null   float64        \n",
      " 28  minimum_nights                                6366 non-null   int64          \n",
      " 29  maximum_nights                                6366 non-null   int64          \n",
      " 30  minimum_minimum_nights                        6366 non-null   int64          \n",
      " 31  maximum_minimum_nights                        6366 non-null   int64          \n",
      " 32  minimum_maximum_nights                        6366 non-null   int64          \n",
      " 33  maximum_maximum_nights                        6366 non-null   int64          \n",
      " 34  minimum_nights_avg_ntm                        6366 non-null   float64        \n",
      " 35  maximum_nights_avg_ntm                        6366 non-null   float64        \n",
      " 36  has_availability                              6366 non-null   object         \n",
      " 37  availability_30                               6366 non-null   int64          \n",
      " 38  availability_60                               6366 non-null   int64          \n",
      " 39  availability_90                               6366 non-null   int64          \n",
      " 40  availability_365                              6366 non-null   int64          \n",
      " 41  calendar_last_scraped                         6366 non-null   object         \n",
      " 42  number_of_reviews                             6366 non-null   int64          \n",
      " 43  number_of_reviews_ltm                         6366 non-null   int64          \n",
      " 44  number_of_reviews_l30d                        6366 non-null   int64          \n",
      " 45  first_review                                  5282 non-null   object         \n",
      " 46  last_review                                   5282 non-null   object         \n",
      " 47  review_scores_rating                          5282 non-null   float64        \n",
      " 48  review_scores_accuracy                        5246 non-null   float64        \n",
      " 49  review_scores_cleanliness                     5246 non-null   float64        \n",
      " 50  review_scores_checkin                         5245 non-null   float64        \n",
      " 51  review_scores_communication                   5244 non-null   float64        \n",
      " 52  review_scores_location                        5245 non-null   float64        \n",
      " 53  review_scores_value                           5245 non-null   float64        \n",
      " 54  license                                       6031 non-null   object         \n",
      " 55  instant_bookable                              6366 non-null   int64          \n",
      " 56  calculated_host_listings_count                6366 non-null   int64          \n",
      " 57  calculated_host_listings_count_entire_homes   6366 non-null   int64          \n",
      " 58  calculated_host_listings_count_private_rooms  6366 non-null   int64          \n",
      " 59  calculated_host_listings_count_shared_rooms   6366 non-null   int64          \n",
      " 60  reviews_per_month                             5282 non-null   float64        \n",
      " 61  host_period                                   6365 non-null   timedelta64[ns]\n",
      "dtypes: datetime64[ns](2), float64(21), int64(21), object(17), timedelta64[ns](1)\n",
      "memory usage: 3.0+ MB\n"
     ]
    }
   ],
   "source": [
    "nl.info()"
   ]
  },
  {
   "cell_type": "markdown",
   "id": "f94cb537",
   "metadata": {},
   "source": [
    "## 3.4 Remove duplicate rows from dataset"
   ]
  },
  {
   "cell_type": "code",
   "execution_count": 18,
   "id": "91d31221",
   "metadata": {},
   "outputs": [],
   "source": [
    "nl = nl.drop_duplicates()"
   ]
  },
  {
   "cell_type": "code",
   "execution_count": 19,
   "id": "0b211503",
   "metadata": {},
   "outputs": [],
   "source": [
    "nl = nl.loc[:,~nl.columns.duplicated()]"
   ]
  },
  {
   "cell_type": "markdown",
   "id": "dab595ed",
   "metadata": {},
   "source": [
    "## 3.5 Dummy Variables"
   ]
  },
  {
   "cell_type": "markdown",
   "id": "07aa6167",
   "metadata": {},
   "source": [
    "change host_is_superhost, host_identity_verified, and instant_bookable to dummy variabel"
   ]
  },
  {
   "cell_type": "code",
   "execution_count": 20,
   "id": "ee3c85d1",
   "metadata": {},
   "outputs": [],
   "source": [
    "x = pd.get_dummies(nl['host_is_superhost'])\n",
    "nl = pd.concat([nl,x], axis=1)\n",
    "nl = nl.rename(columns={0.0:'host_is_superhost_f', 1.0:'host_is_superhost_t'})"
   ]
  },
  {
   "cell_type": "code",
   "execution_count": 21,
   "id": "c7a954cd",
   "metadata": {},
   "outputs": [],
   "source": [
    "x1 = pd.get_dummies(nl['host_identity_verified'])\n",
    "nl = pd.concat([nl,x1], axis=1)\n",
    "nl = nl.rename(columns={0.0:'host_identity_verified_f', 1.0:'host_identity_verified_t'})"
   ]
  },
  {
   "cell_type": "code",
   "execution_count": 22,
   "id": "0ae04695",
   "metadata": {},
   "outputs": [],
   "source": [
    "x2 = pd.get_dummies(nl['instant_bookable'])\n",
    "nl = pd.concat([nl,x2], axis=1)\n",
    "nl = nl.rename(columns={0.0:'instant_bookable_f', 1.0:'instant_bookable_t'})"
   ]
  },
  {
   "cell_type": "code",
   "execution_count": 23,
   "id": "ba8aa83c",
   "metadata": {},
   "outputs": [
    {
     "data": {
      "text/html": [
       "<div>\n",
       "<style scoped>\n",
       "    .dataframe tbody tr th:only-of-type {\n",
       "        vertical-align: middle;\n",
       "    }\n",
       "\n",
       "    .dataframe tbody tr th {\n",
       "        vertical-align: top;\n",
       "    }\n",
       "\n",
       "    .dataframe thead th {\n",
       "        text-align: right;\n",
       "    }\n",
       "</style>\n",
       "<table border=\"1\" class=\"dataframe\">\n",
       "  <thead>\n",
       "    <tr style=\"text-align: right;\">\n",
       "      <th></th>\n",
       "      <th>property_id</th>\n",
       "      <th>last_scraped</th>\n",
       "      <th>name</th>\n",
       "      <th>description</th>\n",
       "      <th>neighborhood_overview</th>\n",
       "      <th>host_id</th>\n",
       "      <th>host_name</th>\n",
       "      <th>host_since</th>\n",
       "      <th>host_about</th>\n",
       "      <th>host_response_time</th>\n",
       "      <th>...</th>\n",
       "      <th>calculated_host_listings_count_private_rooms</th>\n",
       "      <th>calculated_host_listings_count_shared_rooms</th>\n",
       "      <th>reviews_per_month</th>\n",
       "      <th>host_period</th>\n",
       "      <th>host_is_superhost_f</th>\n",
       "      <th>host_is_superhost_t</th>\n",
       "      <th>host_identity_verified_f</th>\n",
       "      <th>host_identity_verified_t</th>\n",
       "      <th>instant_bookable_f</th>\n",
       "      <th>instant_bookable_t</th>\n",
       "    </tr>\n",
       "  </thead>\n",
       "  <tbody>\n",
       "    <tr>\n",
       "      <th>0</th>\n",
       "      <td>2384</td>\n",
       "      <td>2021-07-11</td>\n",
       "      <td>Hyde Park - Walk to University of Chicago</td>\n",
       "      <td>If you have been fully vaccinated, you are inv...</td>\n",
       "      <td>The apartment is less than one block from beau...</td>\n",
       "      <td>2613</td>\n",
       "      <td>Rebecca</td>\n",
       "      <td>2008-08-29</td>\n",
       "      <td>My 2 bdrm apartment is a 2nd floor walk-up in ...</td>\n",
       "      <td>within an hour</td>\n",
       "      <td>...</td>\n",
       "      <td>1</td>\n",
       "      <td>0</td>\n",
       "      <td>2.45</td>\n",
       "      <td>4699 days</td>\n",
       "      <td>0</td>\n",
       "      <td>1</td>\n",
       "      <td>0</td>\n",
       "      <td>1</td>\n",
       "      <td>1</td>\n",
       "      <td>0</td>\n",
       "    </tr>\n",
       "    <tr>\n",
       "      <th>1</th>\n",
       "      <td>7126</td>\n",
       "      <td>2021-07-11</td>\n",
       "      <td>Tiny Studio Apartment 94 Walk Score</td>\n",
       "      <td>A very small studio in a wonderful neighborhoo...</td>\n",
       "      <td>Ukrainian Village was just named \"Hottest Neig...</td>\n",
       "      <td>17928</td>\n",
       "      <td>Sarah</td>\n",
       "      <td>2009-05-19</td>\n",
       "      <td>We live in Chicago. We love to travel and see ...</td>\n",
       "      <td>within an hour</td>\n",
       "      <td>...</td>\n",
       "      <td>0</td>\n",
       "      <td>0</td>\n",
       "      <td>3.32</td>\n",
       "      <td>4436 days</td>\n",
       "      <td>0</td>\n",
       "      <td>1</td>\n",
       "      <td>0</td>\n",
       "      <td>1</td>\n",
       "      <td>1</td>\n",
       "      <td>0</td>\n",
       "    </tr>\n",
       "  </tbody>\n",
       "</table>\n",
       "<p>2 rows × 68 columns</p>\n",
       "</div>"
      ],
      "text/plain": [
       "   property_id last_scraped                                       name  \\\n",
       "0         2384   2021-07-11  Hyde Park - Walk to University of Chicago   \n",
       "1         7126   2021-07-11        Tiny Studio Apartment 94 Walk Score   \n",
       "\n",
       "                                         description  \\\n",
       "0  If you have been fully vaccinated, you are inv...   \n",
       "1  A very small studio in a wonderful neighborhoo...   \n",
       "\n",
       "                               neighborhood_overview  host_id host_name  \\\n",
       "0  The apartment is less than one block from beau...     2613   Rebecca   \n",
       "1  Ukrainian Village was just named \"Hottest Neig...    17928     Sarah   \n",
       "\n",
       "  host_since                                         host_about  \\\n",
       "0 2008-08-29  My 2 bdrm apartment is a 2nd floor walk-up in ...   \n",
       "1 2009-05-19  We live in Chicago. We love to travel and see ...   \n",
       "\n",
       "  host_response_time  ...  calculated_host_listings_count_private_rooms  \\\n",
       "0     within an hour  ...                                             1   \n",
       "1     within an hour  ...                                             0   \n",
       "\n",
       "   calculated_host_listings_count_shared_rooms  reviews_per_month  \\\n",
       "0                                            0               2.45   \n",
       "1                                            0               3.32   \n",
       "\n",
       "   host_period host_is_superhost_f host_is_superhost_t  \\\n",
       "0    4699 days                   0                   1   \n",
       "1    4436 days                   0                   1   \n",
       "\n",
       "   host_identity_verified_f host_identity_verified_t  instant_bookable_f  \\\n",
       "0                         0                        1                   1   \n",
       "1                         0                        1                   1   \n",
       "\n",
       "   instant_bookable_t  \n",
       "0                   0  \n",
       "1                   0  \n",
       "\n",
       "[2 rows x 68 columns]"
      ]
     },
     "execution_count": 23,
     "metadata": {},
     "output_type": "execute_result"
    }
   ],
   "source": [
    "nl.head(2)"
   ]
  },
  {
   "cell_type": "markdown",
   "id": "9c7a5d60",
   "metadata": {},
   "source": [
    "## 3.5 Missing Value"
   ]
  },
  {
   "cell_type": "code",
   "execution_count": 24,
   "id": "1b715411",
   "metadata": {},
   "outputs": [],
   "source": [
    "pd.set_option('display.max_rows',100)"
   ]
  },
  {
   "cell_type": "code",
   "execution_count": 25,
   "id": "e355adf8",
   "metadata": {},
   "outputs": [
    {
     "data": {
      "text/plain": [
       "(6366, 68)"
      ]
     },
     "execution_count": 25,
     "metadata": {},
     "output_type": "execute_result"
    }
   ],
   "source": [
    "nl.shape"
   ]
  },
  {
   "cell_type": "markdown",
   "id": "5b962de5",
   "metadata": {},
   "source": [
    "drop few rows that does not effect all dataset"
   ]
  },
  {
   "cell_type": "code",
   "execution_count": 52,
   "id": "25b869bc",
   "metadata": {},
   "outputs": [],
   "source": [
    "nl.dropna(subset=['description', 'host_period', 'host_name', 'host_since', 'host_is_superhost', 'host_total_listings_count', 'host_has_profile_pic', 'host_identity_verified', 'bathrooms'], inplace=True)"
   ]
  },
  {
   "cell_type": "code",
   "execution_count": 27,
   "id": "ddd58780",
   "metadata": {},
   "outputs": [],
   "source": [
    "# nl.fillna('', inplace=True)\n",
    "#nl = nl.replace(np.nan, 'unknown', regex=True)"
   ]
  },
  {
   "cell_type": "code",
   "execution_count": 28,
   "id": "90d3e479",
   "metadata": {},
   "outputs": [
    {
     "data": {
      "text/plain": [
       "property_id                                        0\n",
       "last_scraped                                       0\n",
       "name                                               0\n",
       "description                                        0\n",
       "neighborhood_overview                           1688\n",
       "host_id                                            0\n",
       "host_name                                          0\n",
       "host_since                                         0\n",
       "host_about                                      1979\n",
       "host_response_time                              1175\n",
       "host_response_rate                              1175\n",
       "host_acceptance_rate                             981\n",
       "host_is_superhost                                  0\n",
       "host_total_listings_count                          0\n",
       "host_verifications                                 0\n",
       "host_has_profile_pic                               0\n",
       "host_identity_verified                             0\n",
       "neighbourhood_cleansed                             0\n",
       "latitude                                           0\n",
       "longitude                                          0\n",
       "property_type                                      0\n",
       "room_type                                          0\n",
       "accommodates                                       0\n",
       "bathrooms                                          0\n",
       "bedrooms                                         534\n",
       "beds                                              79\n",
       "amenities                                          0\n",
       "price                                              0\n",
       "minimum_nights                                     0\n",
       "maximum_nights                                     0\n",
       "minimum_minimum_nights                             0\n",
       "maximum_minimum_nights                             0\n",
       "minimum_maximum_nights                             0\n",
       "maximum_maximum_nights                             0\n",
       "minimum_nights_avg_ntm                             0\n",
       "maximum_nights_avg_ntm                             0\n",
       "has_availability                                   0\n",
       "availability_30                                    0\n",
       "availability_60                                    0\n",
       "availability_90                                    0\n",
       "availability_365                                   0\n",
       "calendar_last_scraped                              0\n",
       "number_of_reviews                                  0\n",
       "number_of_reviews_ltm                              0\n",
       "number_of_reviews_l30d                             0\n",
       "first_review                                    1073\n",
       "last_review                                     1073\n",
       "review_scores_rating                            1073\n",
       "review_scores_accuracy                          1109\n",
       "review_scores_cleanliness                       1109\n",
       "review_scores_checkin                           1110\n",
       "review_scores_communication                     1111\n",
       "review_scores_location                          1110\n",
       "review_scores_value                             1110\n",
       "license                                          319\n",
       "instant_bookable                                   0\n",
       "calculated_host_listings_count                     0\n",
       "calculated_host_listings_count_entire_homes        0\n",
       "calculated_host_listings_count_private_rooms       0\n",
       "calculated_host_listings_count_shared_rooms        0\n",
       "reviews_per_month                               1073\n",
       "host_period                                        0\n",
       "host_is_superhost_f                                0\n",
       "host_is_superhost_t                                0\n",
       "host_identity_verified_f                           0\n",
       "host_identity_verified_t                           0\n",
       "instant_bookable_f                                 0\n",
       "instant_bookable_t                                 0\n",
       "dtype: int64"
      ]
     },
     "execution_count": 28,
     "metadata": {},
     "output_type": "execute_result"
    }
   ],
   "source": [
    "nl.isnull().sum()"
   ]
  },
  {
   "cell_type": "code",
   "execution_count": 29,
   "id": "32d91621",
   "metadata": {},
   "outputs": [
    {
     "data": {
      "text/plain": [
       "(6349, 68)"
      ]
     },
     "execution_count": 29,
     "metadata": {},
     "output_type": "execute_result"
    }
   ],
   "source": [
    "nl.shape"
   ]
  },
  {
   "cell_type": "markdown",
   "id": "4b1d4ab9",
   "metadata": {},
   "source": [
    "# 4.Detect Outliners"
   ]
  },
  {
   "cell_type": "code",
   "execution_count": 30,
   "id": "6819709f",
   "metadata": {},
   "outputs": [
    {
     "name": "stdout",
     "output_type": "stream",
     "text": [
      "<class 'pandas.core.frame.DataFrame'>\n",
      "Int64Index: 6349 entries, 0 to 6365\n",
      "Data columns (total 68 columns):\n",
      " #   Column                                        Non-Null Count  Dtype          \n",
      "---  ------                                        --------------  -----          \n",
      " 0   property_id                                   6349 non-null   int64          \n",
      " 1   last_scraped                                  6349 non-null   datetime64[ns] \n",
      " 2   name                                          6349 non-null   object         \n",
      " 3   description                                   6349 non-null   object         \n",
      " 4   neighborhood_overview                         4661 non-null   object         \n",
      " 5   host_id                                       6349 non-null   int64          \n",
      " 6   host_name                                     6349 non-null   object         \n",
      " 7   host_since                                    6349 non-null   datetime64[ns] \n",
      " 8   host_about                                    4370 non-null   object         \n",
      " 9   host_response_time                            5174 non-null   object         \n",
      " 10  host_response_rate                            5174 non-null   float64        \n",
      " 11  host_acceptance_rate                          5368 non-null   float64        \n",
      " 12  host_is_superhost                             6349 non-null   float64        \n",
      " 13  host_total_listings_count                     6349 non-null   float64        \n",
      " 14  host_verifications                            6349 non-null   object         \n",
      " 15  host_has_profile_pic                          6349 non-null   object         \n",
      " 16  host_identity_verified                        6349 non-null   float64        \n",
      " 17  neighbourhood_cleansed                        6349 non-null   object         \n",
      " 18  latitude                                      6349 non-null   float64        \n",
      " 19  longitude                                     6349 non-null   float64        \n",
      " 20  property_type                                 6349 non-null   object         \n",
      " 21  room_type                                     6349 non-null   object         \n",
      " 22  accommodates                                  6349 non-null   int64          \n",
      " 23  bathrooms                                     6349 non-null   float64        \n",
      " 24  bedrooms                                      5815 non-null   float64        \n",
      " 25  beds                                          6270 non-null   float64        \n",
      " 26  amenities                                     6349 non-null   object         \n",
      " 27  price                                         6349 non-null   float64        \n",
      " 28  minimum_nights                                6349 non-null   int64          \n",
      " 29  maximum_nights                                6349 non-null   int64          \n",
      " 30  minimum_minimum_nights                        6349 non-null   int64          \n",
      " 31  maximum_minimum_nights                        6349 non-null   int64          \n",
      " 32  minimum_maximum_nights                        6349 non-null   int64          \n",
      " 33  maximum_maximum_nights                        6349 non-null   int64          \n",
      " 34  minimum_nights_avg_ntm                        6349 non-null   float64        \n",
      " 35  maximum_nights_avg_ntm                        6349 non-null   float64        \n",
      " 36  has_availability                              6349 non-null   object         \n",
      " 37  availability_30                               6349 non-null   int64          \n",
      " 38  availability_60                               6349 non-null   int64          \n",
      " 39  availability_90                               6349 non-null   int64          \n",
      " 40  availability_365                              6349 non-null   int64          \n",
      " 41  calendar_last_scraped                         6349 non-null   object         \n",
      " 42  number_of_reviews                             6349 non-null   int64          \n",
      " 43  number_of_reviews_ltm                         6349 non-null   int64          \n",
      " 44  number_of_reviews_l30d                        6349 non-null   int64          \n",
      " 45  first_review                                  5276 non-null   object         \n",
      " 46  last_review                                   5276 non-null   object         \n",
      " 47  review_scores_rating                          5276 non-null   float64        \n",
      " 48  review_scores_accuracy                        5240 non-null   float64        \n",
      " 49  review_scores_cleanliness                     5240 non-null   float64        \n",
      " 50  review_scores_checkin                         5239 non-null   float64        \n",
      " 51  review_scores_communication                   5238 non-null   float64        \n",
      " 52  review_scores_location                        5239 non-null   float64        \n",
      " 53  review_scores_value                           5239 non-null   float64        \n",
      " 54  license                                       6030 non-null   object         \n",
      " 55  instant_bookable                              6349 non-null   int64          \n",
      " 56  calculated_host_listings_count                6349 non-null   int64          \n",
      " 57  calculated_host_listings_count_entire_homes   6349 non-null   int64          \n",
      " 58  calculated_host_listings_count_private_rooms  6349 non-null   int64          \n",
      " 59  calculated_host_listings_count_shared_rooms   6349 non-null   int64          \n",
      " 60  reviews_per_month                             5276 non-null   float64        \n",
      " 61  host_period                                   6349 non-null   timedelta64[ns]\n",
      " 62  host_is_superhost_f                           6349 non-null   uint8          \n",
      " 63  host_is_superhost_t                           6349 non-null   uint8          \n",
      " 64  host_identity_verified_f                      6349 non-null   uint8          \n",
      " 65  host_identity_verified_t                      6349 non-null   uint8          \n",
      " 66  instant_bookable_f                            6349 non-null   uint8          \n",
      " 67  instant_bookable_t                            6349 non-null   uint8          \n",
      "dtypes: datetime64[ns](2), float64(21), int64(21), object(17), timedelta64[ns](1), uint8(6)\n",
      "memory usage: 3.1+ MB\n"
     ]
    }
   ],
   "source": [
    "nl.info()"
   ]
  },
  {
   "cell_type": "code",
   "execution_count": 39,
   "id": "3a01322d",
   "metadata": {},
   "outputs": [
    {
     "data": {
      "image/png": "[encoded data removed]",
      "text/plain": [
       "<Figure size 432x288 with 1 Axes>"
      ]
     },
     "metadata": {
      "needs_background": "light"
     },
     "output_type": "display_data"
    }
   ],
   "source": [
    "plot1 = nl[['price', 'host_response_rate', 'host_acceptance_rate', 'host_total_listings_count', 'accommodates', 'bathrooms', 'beds']].plot.box()"
   ]
  },
  {
   "cell_type": "code",
   "execution_count": null,
   "id": "c42b726b",
   "metadata": {},
   "outputs": [],
   "source": [
    "nl.to_csv('project_cleaned.csv')"
   ]
  },
  {
   "cell_type": "markdown",
   "id": "ae6dda66",
   "metadata": {},
   "source": [
    "# 5. Summarization and Visualization"
   ]
  },
  {
   "cell_type": "code",
   "execution_count": 35,
   "id": "84c031d2",
   "metadata": {},
   "outputs": [
    {
     "data": {
      "text/html": [
       "<div>\n",
       "<style scoped>\n",
       "    .dataframe tbody tr th:only-of-type {\n",
       "        vertical-align: middle;\n",
       "    }\n",
       "\n",
       "    .dataframe tbody tr th {\n",
       "        vertical-align: top;\n",
       "    }\n",
       "\n",
       "    .dataframe thead th {\n",
       "        text-align: right;\n",
       "    }\n",
       "</style>\n",
       "<table border=\"1\" class=\"dataframe\">\n",
       "  <thead>\n",
       "    <tr style=\"text-align: right;\">\n",
       "      <th></th>\n",
       "      <th>property_id</th>\n",
       "      <th>host_id</th>\n",
       "      <th>host_response_rate</th>\n",
       "      <th>host_acceptance_rate</th>\n",
       "      <th>host_is_superhost</th>\n",
       "      <th>host_total_listings_count</th>\n",
       "      <th>host_identity_verified</th>\n",
       "      <th>latitude</th>\n",
       "      <th>longitude</th>\n",
       "      <th>accommodates</th>\n",
       "      <th>...</th>\n",
       "      <th>calculated_host_listings_count_private_rooms</th>\n",
       "      <th>calculated_host_listings_count_shared_rooms</th>\n",
       "      <th>reviews_per_month</th>\n",
       "      <th>host_period</th>\n",
       "      <th>host_is_superhost_f</th>\n",
       "      <th>host_is_superhost_t</th>\n",
       "      <th>host_identity_verified_f</th>\n",
       "      <th>host_identity_verified_t</th>\n",
       "      <th>instant_bookable_f</th>\n",
       "      <th>instant_bookable_t</th>\n",
       "    </tr>\n",
       "  </thead>\n",
       "  <tbody>\n",
       "    <tr>\n",
       "      <th>count</th>\n",
       "      <td>6.349000e+03</td>\n",
       "      <td>6.349000e+03</td>\n",
       "      <td>5174.000000</td>\n",
       "      <td>5368.000000</td>\n",
       "      <td>6349.000000</td>\n",
       "      <td>6349.000000</td>\n",
       "      <td>6349.000000</td>\n",
       "      <td>6349.000000</td>\n",
       "      <td>6349.000000</td>\n",
       "      <td>6349.000000</td>\n",
       "      <td>...</td>\n",
       "      <td>6349.000000</td>\n",
       "      <td>6349.000000</td>\n",
       "      <td>5276.000000</td>\n",
       "      <td>6349</td>\n",
       "      <td>6349.000000</td>\n",
       "      <td>6349.000000</td>\n",
       "      <td>6349.000000</td>\n",
       "      <td>6349.000000</td>\n",
       "      <td>6349.000000</td>\n",
       "      <td>6349.000000</td>\n",
       "    </tr>\n",
       "    <tr>\n",
       "      <th>mean</th>\n",
       "      <td>3.188900e+07</td>\n",
       "      <td>1.174103e+08</td>\n",
       "      <td>0.935327</td>\n",
       "      <td>0.836887</td>\n",
       "      <td>0.365884</td>\n",
       "      <td>82.153567</td>\n",
       "      <td>0.820917</td>\n",
       "      <td>41.898510</td>\n",
       "      <td>-87.662905</td>\n",
       "      <td>4.096551</td>\n",
       "      <td>...</td>\n",
       "      <td>1.466215</td>\n",
       "      <td>0.141755</td>\n",
       "      <td>2.659541</td>\n",
       "      <td>1861 days 20:30:53.016223040</td>\n",
       "      <td>0.634116</td>\n",
       "      <td>0.365884</td>\n",
       "      <td>0.179083</td>\n",
       "      <td>0.820917</td>\n",
       "      <td>0.616790</td>\n",
       "      <td>0.383210</td>\n",
       "    </tr>\n",
       "    <tr>\n",
       "      <th>std</th>\n",
       "      <td>1.449339e+07</td>\n",
       "      <td>1.165045e+08</td>\n",
       "      <td>0.185944</td>\n",
       "      <td>0.249646</td>\n",
       "      <td>0.481715</td>\n",
       "      <td>346.166673</td>\n",
       "      <td>0.383452</td>\n",
       "      <td>0.058822</td>\n",
       "      <td>0.041781</td>\n",
       "      <td>2.844195</td>\n",
       "      <td>...</td>\n",
       "      <td>3.313489</td>\n",
       "      <td>1.328782</td>\n",
       "      <td>4.774849</td>\n",
       "      <td>939 days 08:30:50.294902576</td>\n",
       "      <td>0.481715</td>\n",
       "      <td>0.481715</td>\n",
       "      <td>0.383452</td>\n",
       "      <td>0.383452</td>\n",
       "      <td>0.486207</td>\n",
       "      <td>0.486207</td>\n",
       "    </tr>\n",
       "    <tr>\n",
       "      <th>min</th>\n",
       "      <td>2.384000e+03</td>\n",
       "      <td>2.153000e+03</td>\n",
       "      <td>0.000000</td>\n",
       "      <td>0.000000</td>\n",
       "      <td>0.000000</td>\n",
       "      <td>0.000000</td>\n",
       "      <td>0.000000</td>\n",
       "      <td>41.650640</td>\n",
       "      <td>-87.846720</td>\n",
       "      <td>1.000000</td>\n",
       "      <td>...</td>\n",
       "      <td>0.000000</td>\n",
       "      <td>0.000000</td>\n",
       "      <td>0.010000</td>\n",
       "      <td>11 days 00:00:00</td>\n",
       "      <td>0.000000</td>\n",
       "      <td>0.000000</td>\n",
       "      <td>0.000000</td>\n",
       "      <td>0.000000</td>\n",
       "      <td>0.000000</td>\n",
       "      <td>0.000000</td>\n",
       "    </tr>\n",
       "    <tr>\n",
       "      <th>25%</th>\n",
       "      <td>2.083408e+07</td>\n",
       "      <td>2.037482e+07</td>\n",
       "      <td>0.970000</td>\n",
       "      <td>0.800000</td>\n",
       "      <td>0.000000</td>\n",
       "      <td>1.000000</td>\n",
       "      <td>1.000000</td>\n",
       "      <td>41.872540</td>\n",
       "      <td>-87.686770</td>\n",
       "      <td>2.000000</td>\n",
       "      <td>...</td>\n",
       "      <td>0.000000</td>\n",
       "      <td>0.000000</td>\n",
       "      <td>0.470000</td>\n",
       "      <td>1173 days 00:00:00</td>\n",
       "      <td>0.000000</td>\n",
       "      <td>0.000000</td>\n",
       "      <td>0.000000</td>\n",
       "      <td>1.000000</td>\n",
       "      <td>0.000000</td>\n",
       "      <td>0.000000</td>\n",
       "    </tr>\n",
       "    <tr>\n",
       "      <th>50%</th>\n",
       "      <td>3.513244e+07</td>\n",
       "      <td>7.419167e+07</td>\n",
       "      <td>1.000000</td>\n",
       "      <td>0.940000</td>\n",
       "      <td>0.000000</td>\n",
       "      <td>2.000000</td>\n",
       "      <td>1.000000</td>\n",
       "      <td>41.900830</td>\n",
       "      <td>-87.659510</td>\n",
       "      <td>4.000000</td>\n",
       "      <td>...</td>\n",
       "      <td>0.000000</td>\n",
       "      <td>0.000000</td>\n",
       "      <td>1.480000</td>\n",
       "      <td>1869 days 00:00:00</td>\n",
       "      <td>1.000000</td>\n",
       "      <td>0.000000</td>\n",
       "      <td>0.000000</td>\n",
       "      <td>1.000000</td>\n",
       "      <td>1.000000</td>\n",
       "      <td>0.000000</td>\n",
       "    </tr>\n",
       "    <tr>\n",
       "      <th>75%</th>\n",
       "      <td>4.463361e+07</td>\n",
       "      <td>1.861151e+08</td>\n",
       "      <td>1.000000</td>\n",
       "      <td>0.990000</td>\n",
       "      <td>1.000000</td>\n",
       "      <td>9.000000</td>\n",
       "      <td>1.000000</td>\n",
       "      <td>41.939070</td>\n",
       "      <td>-87.632420</td>\n",
       "      <td>5.000000</td>\n",
       "      <td>...</td>\n",
       "      <td>1.000000</td>\n",
       "      <td>0.000000</td>\n",
       "      <td>3.300000</td>\n",
       "      <td>2509 days 00:00:00</td>\n",
       "      <td>1.000000</td>\n",
       "      <td>1.000000</td>\n",
       "      <td>0.000000</td>\n",
       "      <td>1.000000</td>\n",
       "      <td>1.000000</td>\n",
       "      <td>1.000000</td>\n",
       "    </tr>\n",
       "    <tr>\n",
       "      <th>max</th>\n",
       "      <td>5.095262e+07</td>\n",
       "      <td>4.099733e+08</td>\n",
       "      <td>1.000000</td>\n",
       "      <td>1.000000</td>\n",
       "      <td>1.000000</td>\n",
       "      <td>3924.000000</td>\n",
       "      <td>1.000000</td>\n",
       "      <td>42.022200</td>\n",
       "      <td>-87.535880</td>\n",
       "      <td>16.000000</td>\n",
       "      <td>...</td>\n",
       "      <td>24.000000</td>\n",
       "      <td>16.000000</td>\n",
       "      <td>121.820000</td>\n",
       "      <td>4711 days 00:00:00</td>\n",
       "      <td>1.000000</td>\n",
       "      <td>1.000000</td>\n",
       "      <td>1.000000</td>\n",
       "      <td>1.000000</td>\n",
       "      <td>1.000000</td>\n",
       "      <td>1.000000</td>\n",
       "    </tr>\n",
       "  </tbody>\n",
       "</table>\n",
       "<p>8 rows × 49 columns</p>\n",
       "</div>"
      ],
      "text/plain": [
       "        property_id       host_id  host_response_rate  host_acceptance_rate  \\\n",
       "count  6.349000e+03  6.349000e+03         5174.000000           5368.000000   \n",
       "mean   3.188900e+07  1.174103e+08            0.935327              0.836887   \n",
       "std    1.449339e+07  1.165045e+08            0.185944              0.249646   \n",
       "min    2.384000e+03  2.153000e+03            0.000000              0.000000   \n",
       "25%    2.083408e+07  2.037482e+07            0.970000              0.800000   \n",
       "50%    3.513244e+07  7.419167e+07            1.000000              0.940000   \n",
       "75%    4.463361e+07  1.861151e+08            1.000000              0.990000   \n",
       "max    5.095262e+07  4.099733e+08            1.000000              1.000000   \n",
       "\n",
       "       host_is_superhost  host_total_listings_count  host_identity_verified  \\\n",
       "count        6349.000000                6349.000000             6349.000000   \n",
       "mean            0.365884                  82.153567                0.820917   \n",
       "std             0.481715                 346.166673                0.383452   \n",
       "min             0.000000                   0.000000                0.000000   \n",
       "25%             0.000000                   1.000000                1.000000   \n",
       "50%             0.000000                   2.000000                1.000000   \n",
       "75%             1.000000                   9.000000                1.000000   \n",
       "max             1.000000                3924.000000                1.000000   \n",
       "\n",
       "          latitude    longitude  accommodates  ...  \\\n",
       "count  6349.000000  6349.000000   6349.000000  ...   \n",
       "mean     41.898510   -87.662905      4.096551  ...   \n",
       "std       0.058822     0.041781      2.844195  ...   \n",
       "min      41.650640   -87.846720      1.000000  ...   \n",
       "25%      41.872540   -87.686770      2.000000  ...   \n",
       "50%      41.900830   -87.659510      4.000000  ...   \n",
       "75%      41.939070   -87.632420      5.000000  ...   \n",
       "max      42.022200   -87.535880     16.000000  ...   \n",
       "\n",
       "       calculated_host_listings_count_private_rooms  \\\n",
       "count                                   6349.000000   \n",
       "mean                                       1.466215   \n",
       "std                                        3.313489   \n",
       "min                                        0.000000   \n",
       "25%                                        0.000000   \n",
       "50%                                        0.000000   \n",
       "75%                                        1.000000   \n",
       "max                                       24.000000   \n",
       "\n",
       "       calculated_host_listings_count_shared_rooms  reviews_per_month  \\\n",
       "count                                  6349.000000        5276.000000   \n",
       "mean                                      0.141755           2.659541   \n",
       "std                                       1.328782           4.774849   \n",
       "min                                       0.000000           0.010000   \n",
       "25%                                       0.000000           0.470000   \n",
       "50%                                       0.000000           1.480000   \n",
       "75%                                       0.000000           3.300000   \n",
       "max                                      16.000000         121.820000   \n",
       "\n",
       "                        host_period  host_is_superhost_f  host_is_superhost_t  \\\n",
       "count                          6349          6349.000000          6349.000000   \n",
       "mean   1861 days 20:30:53.016223040             0.634116             0.365884   \n",
       "std     939 days 08:30:50.294902576             0.481715             0.481715   \n",
       "min                11 days 00:00:00             0.000000             0.000000   \n",
       "25%              1173 days 00:00:00             0.000000             0.000000   \n",
       "50%              1869 days 00:00:00             1.000000             0.000000   \n",
       "75%              2509 days 00:00:00             1.000000             1.000000   \n",
       "max              4711 days 00:00:00             1.000000             1.000000   \n",
       "\n",
       "       host_identity_verified_f  host_identity_verified_t  instant_bookable_f  \\\n",
       "count               6349.000000               6349.000000         6349.000000   \n",
       "mean                   0.179083                  0.820917            0.616790   \n",
       "std                    0.383452                  0.383452            0.486207   \n",
       "min                    0.000000                  0.000000            0.000000   \n",
       "25%                    0.000000                  1.000000            0.000000   \n",
       "50%                    0.000000                  1.000000            1.000000   \n",
       "75%                    0.000000                  1.000000            1.000000   \n",
       "max                    1.000000                  1.000000            1.000000   \n",
       "\n",
       "       instant_bookable_t  \n",
       "count         6349.000000  \n",
       "mean             0.383210  \n",
       "std              0.486207  \n",
       "min              0.000000  \n",
       "25%              0.000000  \n",
       "50%              0.000000  \n",
       "75%              1.000000  \n",
       "max              1.000000  \n",
       "\n",
       "[8 rows x 49 columns]"
      ]
     },
     "execution_count": 35,
     "metadata": {},
     "output_type": "execute_result"
    }
   ],
   "source": [
    "nl.describe()"
   ]
  },
  {
   "cell_type": "markdown",
   "id": "c9edaa08",
   "metadata": {},
   "source": [
    "How many unique host_id?"
   ]
  },
  {
   "cell_type": "code",
   "execution_count": 47,
   "id": "aeff0c1a",
   "metadata": {},
   "outputs": [
    {
     "data": {
      "text/plain": [
       "3363"
      ]
     },
     "execution_count": 47,
     "metadata": {},
     "output_type": "execute_result"
    }
   ],
   "source": [
    "nl['host_id'].nunique()"
   ]
  },
  {
   "cell_type": "markdown",
   "id": "bd769d42",
   "metadata": {},
   "source": [
    "How host_response_time distribution?"
   ]
  },
  {
   "cell_type": "code",
   "execution_count": 50,
   "id": "3b7e163e",
   "metadata": {},
   "outputs": [
    {
     "data": {
      "text/plain": [
       "<AxesSubplot:>"
      ]
     },
     "execution_count": 50,
     "metadata": {},
     "output_type": "execute_result"
    },
    {
     "data": {
      "image/png": "[encoded data removed]",
      "text/plain": [
       "<Figure size 432x288 with 1 Axes>"
      ]
     },
     "metadata": {
      "needs_background": "light"
     },
     "output_type": "display_data"
    }
   ],
   "source": [
    "nl['host_response_time'].value_counts().sort_index().plot.bar()"
   ]
  },
  {
   "cell_type": "markdown",
   "id": "0c990cde",
   "metadata": {},
   "source": [
    "most hosts replied within an hour!"
   ]
  },
  {
   "cell_type": "code",
   "execution_count": 51,
   "id": "d843da03",
   "metadata": {},
   "outputs": [
    {
     "name": "stderr",
     "output_type": "stream",
     "text": [
      "/Library/Frameworks/Python.framework/Versions/3.9/lib/python3.9/site-packages/seaborn/distributions.py:2619: FutureWarning: `distplot` is a deprecated function and will be removed in a future version. Please adapt your code to use either `displot` (a figure-level function with similar flexibility) or `histplot` (an axes-level function for histograms).\n",
      "  warnings.warn(msg, FutureWarning)\n"
     ]
    },
    {
     "data": {
      "text/plain": [
       "<AxesSubplot:xlabel='price', ylabel='Density'>"
      ]
     },
     "execution_count": 51,
     "metadata": {},
     "output_type": "execute_result"
    },
    {
     "data": {
      "image/png": "[encoded data removed]",
      "text/plain": [
       "<Figure size 432x288 with 1 Axes>"
      ]
     },
     "metadata": {
      "needs_background": "light"
     },
     "output_type": "display_data"
    }
   ],
   "source": [
    "sb.distplot(nl['price'])"
   ]
  },
  {
   "cell_type": "code",
   "execution_count": null,
   "id": "8a6c4cba",
   "metadata": {},
   "outputs": [],
   "source": []
  }
 ],
 "metadata": {
  "kernelspec": {
   "display_name": "Python 3 (ipykernel)",
   "language": "python",
   "name": "python3"
  },
  "language_info": {
   "codemirror_mode": {
    "name": "ipython",
    "version": 3
   },
   "file_extension": ".py",
   "mimetype": "text/x-python",
   "name": "python",
   "nbconvert_exporter": "python",
   "pygments_lexer": "ipython3",
   "version": "3.9.6"
  }
 },
 "nbformat": 4,
 "nbformat_minor": 5
}
