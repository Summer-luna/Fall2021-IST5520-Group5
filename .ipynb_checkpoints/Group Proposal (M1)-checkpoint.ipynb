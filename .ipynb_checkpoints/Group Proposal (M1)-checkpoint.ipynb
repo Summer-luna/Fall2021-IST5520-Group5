{
 "cells": [
  {
   "cell_type": "markdown",
   "id": "a98653c1",
   "metadata": {},
   "source": [
    "<h1 align='center'>Milestone 1: Proposal</h1>\n",
    "<h3 align='center'>Group 5：</h3>\n",
    "<h4 align='center'>Abby Ross | Joseph Distler | Nathan Dierkes | Viraj Vilas Rane | Xinyue Chen | Yinkai Xiong</h4>"
   ]
  },
  {
   "cell_type": "markdown",
   "id": "aaf82dc0",
   "metadata": {},
   "source": [
    "<h1 align=\"center\">Introduction</h1>"
   ]
  },
  {
   "cell_type": "markdown",
   "id": "9208c5e8",
   "metadata": {},
   "source": [
    "<h3>Business Problem: </h3>\n",
    "\n",
    "Airbnb would like to increase its user base by identifying potential hosts to convince them to use their property as a rental location. The company has already gathered a large amount of data on its current listings and has come to our group to analyze the given data. They would like to provide the hosts with suggestions for their property descriptions, which amenities to offer, etc., and use these values to predict the ratings, listing prices, booking percentage of available dates, and more. To pilot this idea, the company would like to focus on one city in the United States before rolling this predictive model out to other locations. The dataset to be used in this analysis will be from Inside Airbnb, specifically the Chicago, Illinois datasets. The company would like to use this analysis to determine the ideal property type, location, and amenities to look for potential rental locations, and then predict how the host’s actions (descriptions, response rate, etc.) would affect the listing’s potential."
   ]
  },
  {
   "cell_type": "markdown",
   "id": "8c5e6ce1",
   "metadata": {},
   "source": [
    "<h3>Scenario: </h3>\n",
    "\n",
    "- Price prediction:\n",
    "\n",
    "The hosts want to lease their properties on Airbnb, but they are not sure what prices they should put for their new properties(different types). So they want to find a model to predict the Airbnb rental trend next year. As the economy grows every year, Airbnb is looking for a new price range for their new properties. The hosts can use this price reference to determine whether they should list their properties on Airbnb. Airbnb can use this model to make their marketing plan to recruit their target partners(hosts). \n",
    "\n",
    "- Customer satisfaction prediction:\n",
    "\n",
    "Customers are looking out for properties on rent that fit their budget of expenditure in comparison with the amenities offered by the hosts hosting their properties. Therefore, customers are looking for reliable feedback and rating for a property that they are willing to pay the rent for. Airbnb uses the model to offer the customers the right properties and right pricing that they are looking for. Based on the feedback that the customer puts after visiting a particular property, makes the basis of judgment for all the future customers who wish to rent the property. \n",
    "\n",
    "- Recommendation system:\n",
    "\n",
    "As the customers are clicking on the property that they are interested in, Airbnb also offers the customers similar properties they might like. This allows the customers to explore more options related to their search criteria and increases high chances for the customer to go for the options suggested by Airbnb.\n"
   ]
  },
  {
   "cell_type": "markdown",
   "id": "43d9766a",
   "metadata": {},
   "source": [
    "<h2>The result should help Airbnb to answer multiple questions regarding their future operations, including:</h2>\n",
    "<h3>What will the price for a new property be next year (rise or fall)? (price prediction)</h3>\n",
    "Observations that could help us to predict property price next year:\n",
    "\n",
    "- Room types?\n",
    "\n",
    "- Amenities?\n",
    "\n",
    "- Zipcodes?\n",
    "\n",
    "- Latitude and longitude?\n",
    "\n",
    "- Distance from the center of the city?\n",
    "\n",
    "\n",
    "<h3>What’s a rating score customers would give to a new property? (customer satisfaction prediction)</h3>\n",
    "Observations that could help us to predict the satisfaction of customers for new properties:\n",
    "\n",
    "- Keywords in “comments”?\n",
    "\n",
    "- Historical comments rating?\n",
    "\n",
    "- Host response time and/or rate?\n",
    "\n",
    "- Host’s “about me” field?\n",
    "\n",
    "- Property description keywords?\n",
    "\n",
    "- Neighborhood overview entered by the host?\n",
    "\n",
    "- Amenities?\n",
    "\n",
    "\n",
    "<h3>What types of housings should the company recommend to customers after they click on one specific housing? (Recommendation system)</h3>\n",
    "Observations that could help us to recommend housing to Guests:\n",
    "\n",
    "- Room type?\n",
    "\n",
    "- Location?\n",
    "\n",
    "- Amenities?\n",
    "\n",
    "\n",
    "\n"
   ]
  },
  {
   "cell_type": "markdown",
   "id": "fef38dbe",
   "metadata": {},
   "source": [
    "<h1 align=\"center\">Data Source and Collection</h1>"
   ]
  },
  {
   "cell_type": "markdown",
   "id": "04293f0d",
   "metadata": {},
   "source": [
    "<h3>Data Source</h3>\n",
    "\n",
    "The data is sourced from the Inside Airbnb website at: http://insideairbnb.com/get-the-data.html."
   ]
  },
  {
   "cell_type": "markdown",
   "id": "6fd3be19",
   "metadata": {},
   "source": [
    "<h3>Key Information</h3>\n",
    "\n",
    "Key information in the dataset includes, but is not limited to:\n",
    "\n",
    "- Listing ID, name, description, and neighborhood overview, location (including longitude and latitude), various descriptors (property type, beds, bathrooms, amenities, price, etc.)\n",
    "\n",
    "- Host ID, name, location, “about” description, response rate and time, acceptance rate, number of listings, if they have a profile picture uploaded, if their identity has been verified\n",
    "\n",
    "- Review information including ratings on listing accuracy, cleanliness, location, etc.\n"
   ]
  },
  {
   "cell_type": "code",
   "execution_count": null,
   "id": "6d21b318",
   "metadata": {},
   "outputs": [],
   "source": []
  }
 ],
 "metadata": {
  "kernelspec": {
   "display_name": "Python 3",
   "language": "python",
   "name": "python3"
  },
  "language_info": {
   "codemirror_mode": {
    "name": "ipython",
    "version": 3
   },
   "file_extension": ".py",
   "mimetype": "text/x-python",
   "name": "python",
   "nbconvert_exporter": "python",
   "pygments_lexer": "ipython3",
   "version": "3.8.11"
  }
 },
 "nbformat": 4,
 "nbformat_minor": 5
}
