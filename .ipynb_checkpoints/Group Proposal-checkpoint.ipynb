{
 "cells": [
  {
   "cell_type": "markdown",
   "id": "a98653c1",
   "metadata": {},
   "source": [
    "<h1 align='center'>Milestone 1: Proposal</h1>\n",
    "<h3 align='center'>Group 5：</h3>\n",
    "<h4 align='center'>Abby Ross | Joseph Distler | Nathan Dierkes | Viraj Vilas Rane | Xinyue Chen | Yinkai Xiong</h4>"
   ]
  },
  {
   "cell_type": "markdown",
   "id": "aaf82dc0",
   "metadata": {},
   "source": [
    "<h1 align=\"center\">Introduction</h1>"
   ]
  },
  {
   "cell_type": "markdown",
   "id": "f7cf74e7",
   "metadata": {},
   "source": [
    "## Explanation of Business Problem"
   ]
  },
  {
   "cell_type": "markdown",
   "id": "24ba1e95",
   "metadata": {},
   "source": [
    "Many online or local stores have troubles locating the potential customers for their weekly coupons or recommended products. Instead of giving the right benefits to right group of customers, most stores deliver their coupons or recommended products to all the customers who can access to their network. By reducing the waste of unused coupons giving to every customer and improve the company’s profit, the business can use our analysis to narrow down the right customer group for the right coupons and recommend the right products. For example, a local supermarket has the promotion on the oranges for one week. Instead of giving the coupons to every customer in their database, the company can study their customer shopping behaviors to determine who should receive the coupons. By doing this, the company will generate some revenues from the group of customers whom buying the oranges by full price and give the potential group of customers some rewards. The potential group of customers can save money on their favorite merchandises, and they can use saved money on other items in the stores.\n",
    "\n",
    "Meat or fruit coupons or recommend more fruit or meat products\n",
    "Based on the income level, how often the household purchase fruit or meat to determine the healthy products are recommended to them?\n",
    "What income level group will spend more money on fruits or meats?\n",
    "\n",
    "Should we give the coupons to this group of customers\n",
    "What education level will use more coupons?\n",
    "What group of ages consume more wine?\n",
    "What group of customers should receive the email coupons or mail coupons?"
   ]
  },
  {
   "cell_type": "markdown",
   "id": "fef38dbe",
   "metadata": {},
   "source": [
    "<h1 align=\"center\">Data Source and Collection</h1>"
   ]
  },
  {
   "cell_type": "code",
   "execution_count": null,
   "id": "5a6f3f8d",
   "metadata": {},
   "outputs": [],
   "source": []
  }
 ],
 "metadata": {
  "kernelspec": {
   "display_name": "Python 3",
   "language": "python",
   "name": "python3"
  },
  "language_info": {
   "codemirror_mode": {
    "name": "ipython",
    "version": 3
   },
   "file_extension": ".py",
   "mimetype": "text/x-python",
   "name": "python",
   "nbconvert_exporter": "python",
   "pygments_lexer": "ipython3",
   "version": "3.8.11"
  }
 },
 "nbformat": 4,
 "nbformat_minor": 5
}
