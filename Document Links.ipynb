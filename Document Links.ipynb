{
 "cells": [
  {
   "cell_type": "markdown",
   "id": "1ca3a367",
   "metadata": {},
   "source": [
    "<h1 align='center'>Links to important documents - Group 5</h1>\n",
    "\n",
    "<h4 align='center'>Abby Ross | Joseph Distler | Nathan Dierkes | Viraj Vilas Rane | Xinyue Chen | Yinkai Xiong</h4>"
   ]
  },
  {
   "cell_type": "markdown",
   "id": "5d289011",
   "metadata": {},
   "source": [
    "<h3>Meeting Minutes:</h3>\n",
    "https://docs.google.com/document/d/1YGM0HyODWAM0JYCxfCsKzdvoy0CZrjXARsXmeuRD8_c/edit?usp=sharing\n",
    "\n",
    "<h3>Meeting Schedule:</h3>\n",
    "https://docs.google.com/spreadsheets/d/1vF3_zQIqn4UQuUtfe5-75xO0kfDNJzAR/edit?usp=sharing&ouid=104097062499695457297&rtpof=true&sd=true\n",
    "\n",
    "<h3>Proposal Draft:</h3>\n",
    "https://docs.google.com/document/d/13GRVwyPLxvQvhV8IsiGAkhigi1eaOUuVXfVyiyiNLt8/edit#heading=h.n1raflrztz0w\n",
    "\n",
    "<h3>Evaluation Form:</h3>\n",
    "Milestone1: https://docs.google.com/document/d/1hRoPm_GIroz71v4WjRmuCi48q7WS-T9X/edit?usp=sharing&ouid=104097062499695457297&rtpof=true&sd=true\n",
    "\n",
    "Milestone2:\n",
    "https://docs.google.com/document/d/1IWub_MCuzB7bATGC-ef2fTpdUXJLoE6N/edit?usp=sharing&ouid=104097062499695457297&rtpof=true&sd=true\n",
    "\n",
    "<h3>GitHub Repository:</h3>\n",
    "https://github.com/Summer-luna/Group_IST5520\n",
    "\n",
    "<h3>Data Source:</h3>\n",
    "http://insideairbnb.com/get-the-data.html\n",
    "\n",
    "<h3>Data Dictionary:</h3>\n",
    "https://docs.google.com/spreadsheets/d/1iWCNJcSutYqpULSQHlNyGInUvHg2BoUGoNRIGa6Szc4/edit#gid=982310896"
   ]
  },
  {
   "cell_type": "code",
   "execution_count": null,
   "id": "3bf58ce4",
   "metadata": {},
   "outputs": [],
   "source": []
  }
 ],
 "metadata": {
  "kernelspec": {
   "display_name": "Python 3 (ipykernel)",
   "language": "python",
   "name": "python3"
  },
  "language_info": {
   "codemirror_mode": {
    "name": "ipython",
    "version": 3
   },
   "file_extension": ".py",
   "mimetype": "text/x-python",
   "name": "python",
   "nbconvert_exporter": "python",
   "pygments_lexer": "ipython3",
   "version": "3.9.7"
  }
 },
 "nbformat": 4,
 "nbformat_minor": 5
}
