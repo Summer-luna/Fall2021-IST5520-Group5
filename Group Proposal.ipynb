{
 "cells": [
  {
   "cell_type": "markdown",
   "id": "a98653c1",
   "metadata": {},
   "source": [
    "<h1 align='center'>Milestone 1: Proposal</h1>\n",
    "<h3 align='center'>Group 5：</h3>\n",
    "<h4 align='center'>Abby Ross | Joseph Distler | Nathan Dierkes | Viraj Vilas Rane | Xinyue Chen | Yinkai Xiong</h4>"
   ]
  },
  {
   "cell_type": "markdown",
   "id": "aaf82dc0",
   "metadata": {},
   "source": [
    "<h1 align=\"center\">Introduction</h1>"
   ]
  },
  {
   "cell_type": "markdown",
   "id": "9208c5e8",
   "metadata": {},
   "source": [
    "<h3>Business Problem</h3>\n",
    "\n",
    "Company X (AirBnB) would like to increase its user base by identifying potential hosts to convince them to use their property as a rental location.  The company has already gathered a large amount of data on its current listings and has come to our group to analyze said data.  They would like to provide the hosts with suggestions for their property descriptions, which amenities to offer, etc., and use these values to predict the ratings, listing prices, booking percentage of available dates, and more.  In order to pilot this idea,  the company would like to focus on one city in the United States before rolling this predictive model out to other locations.  The dataset to be used in this analysis will be from [Inside Airbnb](http://insideairbnb.com/get-the-data.html), specifically the Chicago, Illinois datasets.  The company would like to use this analysis to determine the ideal property type, location, and amenities to look for potential rental locations, and then predict how the host’s actions (descriptions, response rate, etc.) would affect the listing’s potential.\n",
    "\n",
    "The end result should help Company X to answer multiple questions regarding their future operations, including:\n",
    "- Which type of property attracts people who are looking for accommodations?\n",
    "- What will the price for a new property be?\n",
    "    - Based on the property attributes?\n",
    "    - Based on available amenities?\n",
    "- Can we accurately predict the rental price of new properties based on location?\n",
    "    - Can predictions be made using zip codes?\n",
    "    - Can predictions be made using latitude and longitude?\n",
    "    - Can predictions be made using distance from the center of the city?\n",
    "- Can we predict the  ratings of properties？\n",
    "    - Based on keywords in “comments”?\n",
    "    - Based on the historical comments rating?\n",
    "    - Base on the host response time and/or rate?\n",
    "    - Based on the host’s “about me” field?\n",
    "    - Based on property description keywords?\n",
    "    - Based on the neighborhood overview entered by the host?\n",
    "    - Based on amenities?\n",
    "- Can we predict if rental locations are going to move out of the city or closer to center by using the “host since” date and rental locations?\n",
    "- What types of housings should the company recommend to customers after they click one specific housing?\n",
    "- Can the type of house increase the chance of clicking from the customers?\n",
    "- What type of houses have the highest chance to receive the click from customers?\n",
    "- Is the the proposed listing price more or less than the average asking price?\n"
   ]
  },
  {
   "cell_type": "markdown",
   "id": "fef38dbe",
   "metadata": {},
   "source": [
    "<h1 align=\"center\">Data Source and Collection</h1>"
   ]
  },
  {
   "cell_type": "markdown",
   "id": "04293f0d",
   "metadata": {},
   "source": [
    "<h3>Data Source</h3>\n",
    "\n",
    "The data is sourced from the Inside Airbnb website at: http://insideairbnb.com/get-the-data.html."
   ]
  },
  {
   "cell_type": "markdown",
   "id": "6fd3be19",
   "metadata": {},
   "source": [
    "<h3>Key Information</h3>\n",
    "\n",
    "Key information in the dataset includes, but is not limited to:\n",
    "- Listing ID, name, description, and neighborhood overview, location (including longitude and latitude), various descriptors (property type, beds, bathrooms, amenities, price, etc.)\n",
    "- Host ID, name, location, “about” description, response rate and time, acceptance rate, number of listings, if they have a profile picture uploaded, if their identity has been verified\n",
    "- Review information including ratings on listing accuracy, cleanliness, location, etc.\n"
   ]
  }
 ],
 "metadata": {
  "kernelspec": {
   "display_name": "Python 3 (ipykernel)",
   "language": "python",
   "name": "python3"
  },
  "language_info": {
   "codemirror_mode": {
    "name": "ipython",
    "version": 3
   },
   "file_extension": ".py",
   "mimetype": "text/x-python",
   "name": "python",
   "nbconvert_exporter": "python",
   "pygments_lexer": "ipython3",
   "version": "3.9.7"
  }
 },
 "nbformat": 4,
 "nbformat_minor": 5
}
