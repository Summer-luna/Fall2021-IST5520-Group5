{
 "cells": [
  {
   "cell_type": "markdown",
   "id": "a98653c1",
   "metadata": {},
   "source": [
    "<h1 align='center'>Milestone 1: Proposal</h1>\n",
    "<h3 align='center'>Group 5：</h3>\n",
    "<h4 align='center'>Abby Ross | Joseph Distler | Nathan Dierkes | Viraj Vilas Rane | Xinyue Chen | Yinkai Xiong</h4>"
   ]
  },
  {
   "cell_type": "markdown",
   "id": "aaf82dc0",
   "metadata": {},
   "source": [
    "<h1 align=\"center\">Introduction</h1>"
   ]
  },
  {
   "cell_type": "markdown",
   "id": "9208c5e8",
   "metadata": {},
   "source": [
    "<h3>Business Problem</h3>\n",
    "\n",
    "Company X has been running advertisement campaigns in order to increase their sales, but have not seen a high return of investment.  They have collected some data on their customers in the hopes of gaining insight into the best path forward with their marketing, however they are unable to make heads or tails of the raw data.  They have approached our group with a proposal to analyze their data and provide recommendations for future marketing campaigns.\n",
    "\n",
    "Our group has accepted the offer and have agreed to provide suggestions in order for Company X to target their advertisements to both their current and potential customers.  The end result should increase the effectiveness of the advertisement campaigns resulting in an increase of sales.  The goal of this project is to attempt to answer some key questions regarding future advertisements (these may change as the project develops):\n",
    "- Which products should be focused to certain age groups? (e.g. Wine and alcohol to 21+ year olds)\n",
    "- Which advertisement methods (print, email, website ads) should be used for certain products?\n",
    "- Does customer education level have any effect on product purchases?"
   ]
  },
  {
   "cell_type": "markdown",
   "id": "fef38dbe",
   "metadata": {},
   "source": [
    "<h1 align=\"center\">Data Source and Collection</h1>"
   ]
  },
  {
   "cell_type": "markdown",
   "id": "04293f0d",
   "metadata": {},
   "source": [
    "<h3>Data Source</h3>\n",
    "\n",
    "The data for this project is sourced from https://www.kaggle.com/imakash3011/customer-personality-analysis."
   ]
  },
  {
   "cell_type": "markdown",
   "id": "6fd3be19",
   "metadata": {},
   "source": [
    "<h3>Key Information</h3>\n",
    "\n",
    "The dataset is a collection of data on Company X's customers, including imformation on demographics, income, products bought, amount spent in product categories, purchase method, etc."
   ]
  },
  {
   "cell_type": "code",
   "execution_count": null,
   "id": "6d21b318",
   "metadata": {},
   "outputs": [],
   "source": []
  }
 ],
 "metadata": {
  "kernelspec": {
   "display_name": "Python 3 (ipykernel)",
   "language": "python",
   "name": "python3"
  },
  "language_info": {
   "codemirror_mode": {
    "name": "ipython",
    "version": 3
   },
   "file_extension": ".py",
   "mimetype": "text/x-python",
   "name": "python",
   "nbconvert_exporter": "python",
   "pygments_lexer": "ipython3",
   "version": "3.9.7"
  }
 },
 "nbformat": 4,
 "nbformat_minor": 5
}
