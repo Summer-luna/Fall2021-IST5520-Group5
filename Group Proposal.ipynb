{
 "cells": [
  {
   "cell_type": "markdown",
   "id": "a98653c1",
   "metadata": {},
   "source": [
    "<h1 align='center'>Milestone 1: Proposal</h1>\n",
    "<h3 align='center'>Group 5：</h3>\n",
    "<h4 align='center'>Abby Ross | Joseph Distler | Nathan Dierkes | Viraj Vilas Rane | Xinyue Chen | Yinkai Xiong</h4>"
   ]
  },
  {
   "cell_type": "markdown",
   "id": "aaf82dc0",
   "metadata": {},
   "source": [
    "<h1 align=\"center\">Introduction</h1>"
   ]
  },
  {
   "cell_type": "code",
   "execution_count": null,
   "id": "0104019b",
   "metadata": {},
   "outputs": [],
   "source": []
  },
  {
   "cell_type": "markdown",
   "id": "fef38dbe",
   "metadata": {},
   "source": [
    "<h1 align=\"center\">Data Source and Collection</h1>"
   ]
  },
  {
   "cell_type": "code",
   "execution_count": null,
   "id": "5a6f3f8d",
   "metadata": {},
   "outputs": [],
   "source": []
  }
 ],
 "metadata": {
  "kernelspec": {
   "display_name": "Python 3",
   "language": "python",
   "name": "python3"
  },
  "language_info": {
   "codemirror_mode": {
    "name": "ipython",
    "version": 3
   },
   "file_extension": ".py",
   "mimetype": "text/x-python",
   "name": "python",
   "nbconvert_exporter": "python",
   "pygments_lexer": "ipython3",
   "version": "3.8.8"
  }
 },
 "nbformat": 4,
 "nbformat_minor": 5
}
