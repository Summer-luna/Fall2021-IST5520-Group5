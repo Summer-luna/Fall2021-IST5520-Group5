{
 "cells": [
  {
   "cell_type": "markdown",
   "id": "25b4bdfb",
   "metadata": {},
   "source": [
    "<h2>Data Manipulation</h2>"
   ]
  },
  {
   "cell_type": "markdown",
   "id": "dc24a804",
   "metadata": {},
   "source": [
    "In order to start the data analysis, we will need to import a variety of packages."
   ]
  },
  {
   "cell_type": "code",
   "execution_count": 3,
   "id": "c1faf8bd",
   "metadata": {},
   "outputs": [],
   "source": [
    "import pandas as pd\n",
    "import numpy as np\n",
    "import seaborn as sb\n",
    "import matplotlib.pyplot as plt\n",
    "import math\n",
    "import statsmodels.api as sm\n",
    "from sklearn.preprocessing import scale\n",
    "from sklearn.decomposition import PCA"
   ]
  },
  {
   "cell_type": "markdown",
   "id": "c8354f20",
   "metadata": {},
   "source": [
    "We will read in the data, which was downloaded from the Airbnb website and look at its info."
   ]
  },
  {
   "cell_type": "code",
   "execution_count": 4,
   "id": "ea8ec796",
   "metadata": {},
   "outputs": [
    {
     "name": "stdout",
     "output_type": "stream",
     "text": [
      "<class 'pandas.core.frame.DataFrame'>\n",
      "RangeIndex: 6366 entries, 0 to 6365\n",
      "Data columns (total 74 columns):\n",
      " #   Column                                        Non-Null Count  Dtype  \n",
      "---  ------                                        --------------  -----  \n",
      " 0   id                                            6366 non-null   int64  \n",
      " 1   listing_url                                   6366 non-null   object \n",
      " 2   scrape_id                                     6366 non-null   float64\n",
      " 3   last_scraped                                  6366 non-null   object \n",
      " 4   name                                          6366 non-null   object \n",
      " 5   description                                   6352 non-null   object \n",
      " 6   neighborhood_overview                         4663 non-null   object \n",
      " 7   picture_url                                   6366 non-null   object \n",
      " 8   host_id                                       6366 non-null   int64  \n",
      " 9   host_url                                      6366 non-null   object \n",
      " 10  host_name                                     6365 non-null   object \n",
      " 11  host_since                                    6365 non-null   object \n",
      " 12  host_location                                 6355 non-null   object \n",
      " 13  host_about                                    4381 non-null   object \n",
      " 14  host_response_time                            5187 non-null   object \n",
      " 15  host_response_rate                            5187 non-null   object \n",
      " 16  host_acceptance_rate                          5381 non-null   object \n",
      " 17  host_is_superhost                             6365 non-null   object \n",
      " 18  host_thumbnail_url                            6365 non-null   object \n",
      " 19  host_picture_url                              6365 non-null   object \n",
      " 20  host_neighbourhood                            5869 non-null   object \n",
      " 21  host_listings_count                           6365 non-null   float64\n",
      " 22  host_total_listings_count                     6365 non-null   float64\n",
      " 23  host_verifications                            6366 non-null   object \n",
      " 24  host_has_profile_pic                          6365 non-null   object \n",
      " 25  host_identity_verified                        6365 non-null   object \n",
      " 26  neighbourhood                                 4664 non-null   object \n",
      " 27  neighbourhood_cleansed                        6366 non-null   object \n",
      " 28  neighbourhood_group_cleansed                  0 non-null      float64\n",
      " 29  latitude                                      6366 non-null   float64\n",
      " 30  longitude                                     6366 non-null   float64\n",
      " 31  property_type                                 6366 non-null   object \n",
      " 32  room_type                                     6366 non-null   object \n",
      " 33  accommodates                                  6366 non-null   int64  \n",
      " 34  bathrooms                                     0 non-null      float64\n",
      " 35  bathrooms_text                                6362 non-null   object \n",
      " 36  bedrooms                                      5829 non-null   float64\n",
      " 37  beds                                          6285 non-null   float64\n",
      " 38  amenities                                     6366 non-null   object \n",
      " 39  price                                         6366 non-null   object \n",
      " 40  minimum_nights                                6366 non-null   int64  \n",
      " 41  maximum_nights                                6366 non-null   int64  \n",
      " 42  minimum_minimum_nights                        6366 non-null   int64  \n",
      " 43  maximum_minimum_nights                        6366 non-null   int64  \n",
      " 44  minimum_maximum_nights                        6366 non-null   int64  \n",
      " 45  maximum_maximum_nights                        6366 non-null   int64  \n",
      " 46  minimum_nights_avg_ntm                        6366 non-null   float64\n",
      " 47  maximum_nights_avg_ntm                        6366 non-null   float64\n",
      " 48  calendar_updated                              0 non-null      float64\n",
      " 49  has_availability                              6366 non-null   object \n",
      " 50  availability_30                               6366 non-null   int64  \n",
      " 51  availability_60                               6366 non-null   int64  \n",
      " 52  availability_90                               6366 non-null   int64  \n",
      " 53  availability_365                              6366 non-null   int64  \n",
      " 54  calendar_last_scraped                         6366 non-null   object \n",
      " 55  number_of_reviews                             6366 non-null   int64  \n",
      " 56  number_of_reviews_ltm                         6366 non-null   int64  \n",
      " 57  number_of_reviews_l30d                        6366 non-null   int64  \n",
      " 58  first_review                                  5282 non-null   object \n",
      " 59  last_review                                   5282 non-null   object \n",
      " 60  review_scores_rating                          5282 non-null   float64\n",
      " 61  review_scores_accuracy                        5246 non-null   float64\n",
      " 62  review_scores_cleanliness                     5246 non-null   float64\n",
      " 63  review_scores_checkin                         5245 non-null   float64\n",
      " 64  review_scores_communication                   5244 non-null   float64\n",
      " 65  review_scores_location                        5245 non-null   float64\n",
      " 66  review_scores_value                           5245 non-null   float64\n",
      " 67  license                                       6031 non-null   object \n",
      " 68  instant_bookable                              6366 non-null   object \n",
      " 69  calculated_host_listings_count                6366 non-null   int64  \n",
      " 70  calculated_host_listings_count_entire_homes   6366 non-null   int64  \n",
      " 71  calculated_host_listings_count_private_rooms  6366 non-null   int64  \n",
      " 72  calculated_host_listings_count_shared_rooms   6366 non-null   int64  \n",
      " 73  reviews_per_month                             5282 non-null   float64\n",
      "dtypes: float64(20), int64(20), object(34)\n",
      "memory usage: 3.6+ MB\n"
     ]
    }
   ],
   "source": [
    "# Read in data\n",
    "dat = pd.read_csv('listings.csv')\n",
    "dat.info()"
   ]
  },
  {
   "cell_type": "markdown",
   "id": "dba48da2",
   "metadata": {},
   "source": [
    "We can see that there are 74 columns, and 6,366 observations, however some values are missing in various columns."
   ]
  },
  {
   "cell_type": "code",
   "execution_count": 5,
   "id": "3b3243a8",
   "metadata": {},
   "outputs": [],
   "source": [
    "test = dat['calendar_last_scraped'] == dat['last_scraped']"
   ]
  },
  {
   "cell_type": "code",
   "execution_count": 6,
   "id": "d6445d4a",
   "metadata": {},
   "outputs": [
    {
     "data": {
      "text/plain": [
       "array([ True])"
      ]
     },
     "execution_count": 6,
     "metadata": {},
     "output_type": "execute_result"
    }
   ],
   "source": [
    "test.unique()"
   ]
  },
  {
   "cell_type": "markdown",
   "id": "ffb15a6d",
   "metadata": {},
   "source": [
    "<h2>Data Cleansing</h2>\n",
    "\n",
    "<h4>Drop off irrelevant columns:</h4>\n",
    "\n",
    "* URLs will not be useful\n",
    "* Empty columns: 'neighborhood_group_cleansed', 'bathrooms', 'calendar_updated'\n",
    "* 'neighborhood' column only has blank values or 'Chicago, Illinois, United States' value, making it useless\n",
    "* Drop 'host_listings_count' and 'host_total_listings_count', use the calculated_host_listings columns\n",
    "* 'scrape_id' is all the same value and not useful for our needs\n",
    "* 'calendar_last_scraped' can be dropped (same value as 'last_scraped')"
   ]
  },
  {
   "cell_type": "code",
   "execution_count": 7,
   "id": "c7ed3178",
   "metadata": {},
   "outputs": [],
   "source": [
    "dat = dat.drop(['scrape_id','listing_url','host_url','host_thumbnail_url','host_picture_url','picture_url',\n",
    "               'neighbourhood_group_cleansed','bathrooms','calendar_updated','neighbourhood',\n",
    "               'calendar_last_scraped','host_listings_count'], axis = 1)"
   ]
  },
  {
   "cell_type": "markdown",
   "id": "89528a5a",
   "metadata": {},
   "source": [
    "<h4>Bathrooms Column:</h4>"
   ]
  },
  {
   "cell_type": "code",
   "execution_count": 8,
   "id": "e775bd17",
   "metadata": {},
   "outputs": [
    {
     "data": {
      "text/plain": [
       "530      1 shared bath\n",
       "4       1 private bath\n",
       "221            2 baths\n",
       "1722     1 shared bath\n",
       "1749         1.5 baths\n",
       "2807    1 private bath\n",
       "1830     1 shared bath\n",
       "5408            1 bath\n",
       "1936            1 bath\n",
       "6349            1 bath\n",
       "Name: bathrooms_text, dtype: object"
      ]
     },
     "execution_count": 8,
     "metadata": {},
     "output_type": "execute_result"
    }
   ],
   "source": [
    "dat['bathrooms_text'].sample(10)"
   ]
  },
  {
   "cell_type": "markdown",
   "id": "08be853d",
   "metadata": {},
   "source": [
    "Looking at the 'bathrooms_text' column, we see that it is not very usable in its current state.  We will split the bathroom text column into two: one containing a float variable for the number of bathrooms, and the other an additional descriptor of the bathroom (shared/private)."
   ]
  },
  {
   "cell_type": "code",
   "execution_count": 9,
   "id": "41b003bf",
   "metadata": {},
   "outputs": [
    {
     "data": {
      "text/plain": [
       "array([ 1. ,  2. ,  1.5,  3. ,  2.5,  0. ,  3.5, 11. ,  5. ,  nan,  0.5,\n",
       "        4. ,  4.5, 11.5,  6.5,  7. ,  5.5,  6. ,  8. , 12.5, 10. ],\n",
       "      dtype=float32)"
      ]
     },
     "execution_count": 9,
     "metadata": {},
     "output_type": "execute_result"
    }
   ],
   "source": [
    "# First let us make all text lowercase to simplify string manipulation\n",
    "dat['bathrooms_text'] = dat['bathrooms_text'].str.lower()\n",
    "\n",
    "# Next we must convert any text 'half' to 0.5 so it is included in the subsequent number extraction\n",
    "dat['bathrooms_text'] = dat['bathrooms_text'].str.replace(r'(half)+','0.5', regex = True)\n",
    "\n",
    "# Then extract the numbers into the new 'bathrooms' float32 data type column\n",
    "dat['bathrooms'] = dat['bathrooms_text'].str.extract(r'(\\d+\\.?\\d*)', expand = True).astype(np.float32)\n",
    "\n",
    "# This leaves us with only float and NaN values\n",
    "dat['bathrooms'].unique()"
   ]
  },
  {
   "cell_type": "markdown",
   "id": "5825260f",
   "metadata": {},
   "source": [
    "Above are the unique values left for the float variable in the column 'bathrooms'."
   ]
  },
  {
   "cell_type": "markdown",
   "id": "e278c2c0",
   "metadata": {},
   "source": [
    "<h4>Bathrooms Text Column:</h4>"
   ]
  },
  {
   "cell_type": "code",
   "execution_count": 10,
   "id": "97a7fabc",
   "metadata": {},
   "outputs": [
    {
     "data": {
      "text/plain": [
       "1587"
      ]
     },
     "execution_count": 10,
     "metadata": {},
     "output_type": "execute_result"
    }
   ],
   "source": [
    "# Remove the text 'bath', unnecessary symbols and whitespace, then extract the leftover text\n",
    "\n",
    "dat['bathrooms_text'] = dat['bathrooms_text'].str.replace(r'(bath)s*|(Bath)s*','', regex = True)\n",
    "dat['bathrooms_text'] = dat['bathrooms_text'].str.replace(r' +|\\.+|\\-+','', regex = True)\n",
    "dat['bathrooms_text'] = dat['bathrooms_text'].str.extract(r'(\\D+)')\n",
    "dat['bathrooms_text'].count()"
   ]
  },
  {
   "cell_type": "code",
   "execution_count": 11,
   "id": "710870d3",
   "metadata": {},
   "outputs": [
    {
     "data": {
      "text/plain": [
       "array(['shared', nan, 'private'], dtype=object)"
      ]
     },
     "execution_count": 11,
     "metadata": {},
     "output_type": "execute_result"
    }
   ],
   "source": [
    "dat['bathrooms_text'].unique()"
   ]
  },
  {
   "cell_type": "markdown",
   "id": "8071219d",
   "metadata": {},
   "source": [
    "This leaves us with only 1,587 observations with one of the bathroom descriptors, 'shared' or 'private'; the rest are missing values since the original data did not contain text for them."
   ]
  },
  {
   "cell_type": "markdown",
   "id": "8de8817c",
   "metadata": {},
   "source": [
    "<h4>DateTime Columns:</h4>\n",
    "\n",
    "Next, let's convert the datetime columns into the proper datatype."
   ]
  },
  {
   "cell_type": "code",
   "execution_count": 12,
   "id": "76914b95",
   "metadata": {},
   "outputs": [],
   "source": [
    "# Convert dates to datetime data type\n",
    "\n",
    "dat['host_since'] = pd.to_datetime(dat['host_since'])\n",
    "dat['first_review'] = pd.to_datetime(dat['first_review'])\n",
    "dat['last_review'] = pd.to_datetime(dat['last_review'])"
   ]
  },
  {
   "cell_type": "markdown",
   "id": "7a63a979",
   "metadata": {},
   "source": [
    "<h4>Rate Columns:</h4>"
   ]
  },
  {
   "cell_type": "code",
   "execution_count": 13,
   "id": "036a7ad6",
   "metadata": {},
   "outputs": [
    {
     "data": {
      "text/plain": [
       "3034    100%\n",
       "2751     NaN\n",
       "1152     NaN\n",
       "3145     NaN\n",
       "925      95%\n",
       "Name: host_response_rate, dtype: object"
      ]
     },
     "execution_count": 13,
     "metadata": {},
     "output_type": "execute_result"
    }
   ],
   "source": [
    "dat['host_response_rate'].sample(5)"
   ]
  },
  {
   "cell_type": "markdown",
   "id": "53201228",
   "metadata": {},
   "source": [
    "We can see that we will need to convert the percentage columns ('host_response_rate' and 'host_acceptance_rate') into float variables."
   ]
  },
  {
   "cell_type": "code",
   "execution_count": 14,
   "id": "7ca96f35",
   "metadata": {},
   "outputs": [
    {
     "data": {
      "text/plain": [
       "5978    0.29\n",
       "6250    1.00\n",
       "4100    1.00\n",
       "4469    1.00\n",
       "3568    1.00\n",
       "Name: host_response_rate, dtype: float32"
      ]
     },
     "execution_count": 14,
     "metadata": {},
     "output_type": "execute_result"
    }
   ],
   "source": [
    "# Convert host response rate and acceptance rate columns into float\n",
    "\n",
    "dat['host_response_rate'] = dat['host_response_rate'].str.replace(r'(\\D)','', regex = True).astype(np.float32)/100\n",
    "dat['host_acceptance_rate'] = dat['host_acceptance_rate'].str.replace(r'(\\D)','', regex = True).astype(np.float32)/100\n",
    "dat['host_response_rate'].sample(5)"
   ]
  },
  {
   "cell_type": "markdown",
   "id": "eb596136",
   "metadata": {},
   "source": [
    "<h4>Boolean Columns:</h4>"
   ]
  },
  {
   "cell_type": "code",
   "execution_count": 15,
   "id": "e7fd59d3",
   "metadata": {},
   "outputs": [
    {
     "data": {
      "text/plain": [
       "array(['t', 'f', nan], dtype=object)"
      ]
     },
     "execution_count": 15,
     "metadata": {},
     "output_type": "execute_result"
    }
   ],
   "source": [
    "dat['host_is_superhost'].unique()"
   ]
  },
  {
   "cell_type": "markdown",
   "id": "84579ac9",
   "metadata": {},
   "source": [
    "We will convert the 't' and 'f' values to binary float values for later analysis, where 1 will mean \"True\"."
   ]
  },
  {
   "cell_type": "code",
   "execution_count": 16,
   "id": "41586694",
   "metadata": {},
   "outputs": [],
   "source": [
    "# Map superhost column to boolean values\n",
    "\n",
    "dat['host_is_superhost'] = dat['host_is_superhost'].map({'t':1,'f':0}).astype('float')\n",
    "dat['host_has_profile_pic'] = dat['host_has_profile_pic'].map({'t':1,'f':0}).astype('float')\n",
    "dat['host_identity_verified'] = dat['host_identity_verified'].map({'t':1,'f':0}).astype('float')\n",
    "dat['has_availability'] = dat['has_availability'].map({'t':1,'f':0}).astype('float')\n",
    "dat['instant_bookable'] = dat['instant_bookable'].map({'t':1,'f':0}).astype('float')"
   ]
  },
  {
   "cell_type": "code",
   "execution_count": 17,
   "id": "cf10b60e",
   "metadata": {},
   "outputs": [
    {
     "data": {
      "text/plain": [
       "array([ 1.,  0., nan])"
      ]
     },
     "execution_count": 17,
     "metadata": {},
     "output_type": "execute_result"
    }
   ],
   "source": [
    "dat['host_is_superhost'].unique()"
   ]
  },
  {
   "cell_type": "markdown",
   "id": "eba7b617",
   "metadata": {},
   "source": [
    "<h4>Price Column:</h4>\n",
    "\n",
    "Convert the price column to a float data type."
   ]
  },
  {
   "cell_type": "code",
   "execution_count": 18,
   "id": "985ed1b9",
   "metadata": {},
   "outputs": [],
   "source": [
    "dat['price'] = dat['price'].str.extract(r'(\\d+\\.\\d+)').astype(np.float64)"
   ]
  },
  {
   "cell_type": "code",
   "execution_count": 19,
   "id": "2ebf1094",
   "metadata": {
    "scrolled": true
   },
   "outputs": [
    {
     "data": {
      "text/plain": [
       "1604     60.0\n",
       "5062     50.0\n",
       "771     151.0\n",
       "5620    494.0\n",
       "5324    176.0\n",
       "Name: price, dtype: float64"
      ]
     },
     "execution_count": 19,
     "metadata": {},
     "output_type": "execute_result"
    }
   ],
   "source": [
    "dat['price'].sample(5)"
   ]
  },
  {
   "cell_type": "code",
   "execution_count": 20,
   "id": "2106f034",
   "metadata": {},
   "outputs": [
    {
     "data": {
      "text/plain": [
       "3551                 R19000046222\n",
       "1394                 R19000045801\n",
       "3467                 R20000052930\n",
       "6311                 R19000042634\n",
       "5444                 R21000060727\n",
       "2409    City registration pending\n",
       "2119                 R18000026601\n",
       "382                  R18000036959\n",
       "1445    City registration pending\n",
       "3047                 R19000041313\n",
       "1753    City registration pending\n",
       "4123                 R20000051972\n",
       "2607                 R20000060001\n",
       "5930       Hotel License #2780536\n",
       "3532    City registration pending\n",
       "4967                   Registered\n",
       "1339    City registration pending\n",
       "97                        2262746\n",
       "3273    City registration pending\n",
       "890                  R17000019509\n",
       "Name: license, dtype: object"
      ]
     },
     "execution_count": 20,
     "metadata": {},
     "output_type": "execute_result"
    }
   ],
   "source": [
    "dat['license'].sample(20)"
   ]
  },
  {
   "cell_type": "markdown",
   "id": "91195b49",
   "metadata": {},
   "source": [
    "It does not seem that the license column will be useful so we will drop it from the dataset."
   ]
  },
  {
   "cell_type": "code",
   "execution_count": 21,
   "id": "693b6213",
   "metadata": {},
   "outputs": [],
   "source": [
    "dat = dat.drop(['license'], axis=1)"
   ]
  },
  {
   "cell_type": "markdown",
   "id": "f9e0f101",
   "metadata": {},
   "source": [
    "<h2>Data Exploration and Visualization</h2>\n",
    "\n",
    "Let us explore the data in the dataset.\n",
    "\n",
    "<h4>Unique Hosts</h4>\n",
    "\n",
    "First, how many unique hosts are there?"
   ]
  },
  {
   "cell_type": "code",
   "execution_count": 22,
   "id": "abd2950f",
   "metadata": {},
   "outputs": [
    {
     "data": {
      "text/plain": [
       "3371"
      ]
     },
     "execution_count": 22,
     "metadata": {},
     "output_type": "execute_result"
    }
   ],
   "source": [
    "dat['host_id'].nunique()"
   ]
  },
  {
   "cell_type": "code",
   "execution_count": 23,
   "id": "4abb982a",
   "metadata": {},
   "outputs": [
    {
     "data": {
      "text/plain": [
       "count    3371.000000\n",
       "mean        1.888460\n",
       "std         5.548921\n",
       "min         1.000000\n",
       "25%         1.000000\n",
       "50%         1.000000\n",
       "75%         1.000000\n",
       "max       260.000000\n",
       "Name: host_id, dtype: float64"
      ]
     },
     "execution_count": 23,
     "metadata": {},
     "output_type": "execute_result"
    }
   ],
   "source": [
    "listings_by_host = dat['host_id'].value_counts()\n",
    "listings_by_host.describe()"
   ]
  },
  {
   "cell_type": "code",
   "execution_count": 24,
   "id": "c6ed7a20",
   "metadata": {},
   "outputs": [
    {
     "data": {
      "text/plain": [
       "799"
      ]
     },
     "execution_count": 24,
     "metadata": {},
     "output_type": "execute_result"
    }
   ],
   "source": [
    "listings_by_host[listings_by_host > 1].count()"
   ]
  },
  {
   "cell_type": "markdown",
   "id": "56e9f13d",
   "metadata": {},
   "source": [
    "Here we can see that out of the 3,371 unique hosts, 799 have more than one listing in the Chicago area.  Interestingly, there is one host id with 260 listings.\n",
    "\n",
    "Let's graph this data to see the distribution of hosts with differing numbers of listings."
   ]
  },
  {
   "cell_type": "code",
   "execution_count": 25,
   "id": "473ae38e",
   "metadata": {},
   "outputs": [
    {
     "data": {
      "image/png": "[encoded data removed]",
      "text/plain": [
       "<Figure size 1296x432 with 1 Axes>"
      ]
     },
     "metadata": {
      "needs_background": "light"
     },
     "output_type": "display_data"
    }
   ],
   "source": [
    "plt.figure(figsize=(18,6))\n",
    "p = sb.countplot(x=listings_by_host, order=sorted(listings_by_host.unique()))\n",
    "p.set_xticklabels(labels=p.get_xticklabels(),rotation=90)\n",
    "p.bar_label(p.containers[0])\n",
    "plt.xlabel('Number of Listings by Host')\n",
    "plt.show()"
   ]
  },
  {
   "cell_type": "markdown",
   "id": "48349abb",
   "metadata": {},
   "source": [
    "It is obvious that a vast majority of hosts have only one listing in the Chicago area."
   ]
  },
  {
   "cell_type": "markdown",
   "id": "48162f2e",
   "metadata": {},
   "source": [
    "<h4>Host Response Time</h4>\n"
   ]
  },
  {
   "cell_type": "code",
   "execution_count": 26,
   "id": "fc2489bb",
   "metadata": {},
   "outputs": [
    {
     "data": {
      "text/plain": [
       "array(['within an hour', 'within a few hours', nan, 'within a day',\n",
       "       'a few days or more'], dtype=object)"
      ]
     },
     "execution_count": 26,
     "metadata": {},
     "output_type": "execute_result"
    }
   ],
   "source": [
    "dat['host_response_time'].unique()"
   ]
  },
  {
   "cell_type": "code",
   "execution_count": 27,
   "id": "b62c75e8",
   "metadata": {},
   "outputs": [
    {
     "data": {
      "image/png": "[encoded data removed]",
      "text/plain": [
       "<Figure size 432x432 with 1 Axes>"
      ]
     },
     "metadata": {
      "needs_background": "light"
     },
     "output_type": "display_data"
    }
   ],
   "source": [
    "plt.figure(figsize=(6,6))\n",
    "p = sb.countplot(x='host_response_time',data = dat)\n",
    "p.set_xticklabels(labels=p.get_xticklabels(),rotation=45)\n",
    "p.bar_label(p.containers[0])\n",
    "plt.xlabel('Host Response Time')\n",
    "plt.show()"
   ]
  },
  {
   "cell_type": "markdown",
   "id": "a11025ef",
   "metadata": {},
   "source": [
    "Here we can see there are four categories for the response time.  Let's define a system for rating the response time by using floating numbers.  We will assign the values in hours and as follows:\n",
    " * 'within an hour' = 1 hour\n",
    " * 'within a few hours' = 5 hours\n",
    " * 'within a day' = 24 hours\n",
    " * 'a few days or more' = 48 hours"
   ]
  },
  {
   "cell_type": "code",
   "execution_count": 28,
   "id": "84a39c9d",
   "metadata": {},
   "outputs": [
    {
     "data": {
      "text/plain": [
       "array([ 1.,  5., nan, 24., 48.], dtype=float32)"
      ]
     },
     "execution_count": 28,
     "metadata": {},
     "output_type": "execute_result"
    }
   ],
   "source": [
    "dat['host_response_time_float'] = dat['host_response_time'].map({'within an hour':1,'within a few hours':5,\n",
    "                                                           'within a day':24,'a few days or more':48}).astype(np.float32)\n",
    "dat['host_response_time_float'].unique()"
   ]
  },
  {
   "cell_type": "markdown",
   "id": "3973debc",
   "metadata": {},
   "source": [
    "<h4>Host Verifications</h4>\n",
    "\n",
    "In order to simplify future analysis, let us count the number of verifications the host has and list this in a new column."
   ]
  },
  {
   "cell_type": "code",
   "execution_count": 29,
   "id": "bc6edec1",
   "metadata": {},
   "outputs": [
    {
     "data": {
      "text/plain": [
       "2950    ['email', 'phone', 'reviews', 'offline_governm...\n",
       "6363                                   ['email', 'phone']\n",
       "2266    ['email', 'phone', 'reviews', 'offline_governm...\n",
       "1397    ['email', 'phone', 'reviews', 'jumio', 'offlin...\n",
       "1951    ['email', 'phone', 'facebook', 'reviews', 'jum...\n",
       "Name: host_verifications, dtype: object"
      ]
     },
     "execution_count": 29,
     "metadata": {},
     "output_type": "execute_result"
    }
   ],
   "source": [
    "dat['host_verifications'].sample(5)"
   ]
  },
  {
   "cell_type": "markdown",
   "id": "30d38643",
   "metadata": {},
   "source": [
    "We can see that the verifications are separated by a comma, so we will use this to count the number of verifications each host has."
   ]
  },
  {
   "cell_type": "code",
   "execution_count": 30,
   "id": "4b8de230",
   "metadata": {},
   "outputs": [
    {
     "data": {
      "text/html": [
       "<div>\n",
       "<style scoped>\n",
       "    .dataframe tbody tr th:only-of-type {\n",
       "        vertical-align: middle;\n",
       "    }\n",
       "\n",
       "    .dataframe tbody tr th {\n",
       "        vertical-align: top;\n",
       "    }\n",
       "\n",
       "    .dataframe thead th {\n",
       "        text-align: right;\n",
       "    }\n",
       "</style>\n",
       "<table border=\"1\" class=\"dataframe\">\n",
       "  <thead>\n",
       "    <tr style=\"text-align: right;\">\n",
       "      <th></th>\n",
       "      <th>host_verifications</th>\n",
       "      <th>no_of_verif</th>\n",
       "    </tr>\n",
       "  </thead>\n",
       "  <tbody>\n",
       "    <tr>\n",
       "      <th>0</th>\n",
       "      <td>['email', 'phone', 'reviews', 'manual_offline'...</td>\n",
       "      <td>6</td>\n",
       "    </tr>\n",
       "    <tr>\n",
       "      <th>1</th>\n",
       "      <td>['email', 'phone', 'reviews', 'jumio', 'offlin...</td>\n",
       "      <td>8</td>\n",
       "    </tr>\n",
       "    <tr>\n",
       "      <th>2</th>\n",
       "      <td>['email', 'phone', 'reviews', 'jumio', 'govern...</td>\n",
       "      <td>6</td>\n",
       "    </tr>\n",
       "    <tr>\n",
       "      <th>3</th>\n",
       "      <td>['email', 'phone', 'reviews', 'offline_governm...</td>\n",
       "      <td>7</td>\n",
       "    </tr>\n",
       "    <tr>\n",
       "      <th>4</th>\n",
       "      <td>['email', 'phone', 'facebook', 'reviews', 'kba']</td>\n",
       "      <td>5</td>\n",
       "    </tr>\n",
       "  </tbody>\n",
       "</table>\n",
       "</div>"
      ],
      "text/plain": [
       "                                  host_verifications  no_of_verif\n",
       "0  ['email', 'phone', 'reviews', 'manual_offline'...            6\n",
       "1  ['email', 'phone', 'reviews', 'jumio', 'offlin...            8\n",
       "2  ['email', 'phone', 'reviews', 'jumio', 'govern...            6\n",
       "3  ['email', 'phone', 'reviews', 'offline_governm...            7\n",
       "4   ['email', 'phone', 'facebook', 'reviews', 'kba']            5"
      ]
     },
     "execution_count": 30,
     "metadata": {},
     "output_type": "execute_result"
    }
   ],
   "source": [
    "dat['no_of_verif'] = dat['host_verifications'].str.count(r',') + 1\n",
    "dat.loc[:, ['host_verifications','no_of_verif']].head()"
   ]
  },
  {
   "cell_type": "markdown",
   "id": "4e7a55e3",
   "metadata": {},
   "source": [
    "In order to catch any observations where hosts have no verifications, we will set the number of verifications to zero where the host_verifications = 'None'.  This is important since the code above would have counted 'none' and an observation without a comma (i.e. only one verification) as 1."
   ]
  },
  {
   "cell_type": "code",
   "execution_count": 31,
   "id": "ba14642d",
   "metadata": {},
   "outputs": [],
   "source": [
    "dat['no_of_verif'] = np.where(dat['host_verifications'] == 'None', 0, dat['no_of_verif'])"
   ]
  },
  {
   "cell_type": "code",
   "execution_count": 32,
   "id": "7de2a9c2",
   "metadata": {},
   "outputs": [
    {
     "data": {
      "text/plain": [
       "count    6366.000000\n",
       "mean        5.585768\n",
       "std         2.313344\n",
       "min         0.000000\n",
       "25%         4.000000\n",
       "50%         6.000000\n",
       "75%         7.000000\n",
       "max        12.000000\n",
       "Name: no_of_verif, dtype: float64"
      ]
     },
     "execution_count": 32,
     "metadata": {},
     "output_type": "execute_result"
    }
   ],
   "source": [
    "dat['no_of_verif'].describe()"
   ]
  },
  {
   "cell_type": "markdown",
   "id": "dfe69ae8",
   "metadata": {},
   "source": [
    "On average, hosts have about 5-6 different identity verifications. "
   ]
  },
  {
   "cell_type": "code",
   "execution_count": 33,
   "id": "60e4977b",
   "metadata": {},
   "outputs": [
    {
     "data": {
      "image/png": "[encoded data removed]",
      "text/plain": [
       "<Figure size 1296x432 with 1 Axes>"
      ]
     },
     "metadata": {
      "needs_background": "light"
     },
     "output_type": "display_data"
    }
   ],
   "source": [
    "plt.figure(figsize=(18,6))\n",
    "p = sb.countplot(x='no_of_verif',data = dat)\n",
    "p.bar_label(p.containers[0])\n",
    "plt.xlabel('Nomber of Identity Verifications by Host')\n",
    "plt.show()"
   ]
  },
  {
   "cell_type": "markdown",
   "id": "6436c9ed",
   "metadata": {},
   "source": [
    "<h4>Amenities</h4>\n",
    "\n",
    "Repeat the same process for number of amenities listed."
   ]
  },
  {
   "cell_type": "code",
   "execution_count": 34,
   "id": "c77d6087",
   "metadata": {},
   "outputs": [
    {
     "data": {
      "text/html": [
       "<div>\n",
       "<style scoped>\n",
       "    .dataframe tbody tr th:only-of-type {\n",
       "        vertical-align: middle;\n",
       "    }\n",
       "\n",
       "    .dataframe tbody tr th {\n",
       "        vertical-align: top;\n",
       "    }\n",
       "\n",
       "    .dataframe thead th {\n",
       "        text-align: right;\n",
       "    }\n",
       "</style>\n",
       "<table border=\"1\" class=\"dataframe\">\n",
       "  <thead>\n",
       "    <tr style=\"text-align: right;\">\n",
       "      <th></th>\n",
       "      <th>amenities</th>\n",
       "      <th>no_of_amen</th>\n",
       "    </tr>\n",
       "  </thead>\n",
       "  <tbody>\n",
       "    <tr>\n",
       "      <th>0</th>\n",
       "      <td>[\"Hot water kettle\", \"Wine glasses\", \"Kitchen\"...</td>\n",
       "      <td>51</td>\n",
       "    </tr>\n",
       "    <tr>\n",
       "      <th>1</th>\n",
       "      <td>[\"Kitchen\", \"Free street parking\", \"Long term ...</td>\n",
       "      <td>30</td>\n",
       "    </tr>\n",
       "    <tr>\n",
       "      <th>2</th>\n",
       "      <td>[\"Kitchen\", \"Free street parking\", \"Shampoo\", ...</td>\n",
       "      <td>33</td>\n",
       "    </tr>\n",
       "    <tr>\n",
       "      <th>3</th>\n",
       "      <td>[\"Kitchen\", \"Long term stays allowed\", \"Smoke ...</td>\n",
       "      <td>31</td>\n",
       "    </tr>\n",
       "    <tr>\n",
       "      <th>4</th>\n",
       "      <td>[\"Free street parking\", \"Shampoo\", \"Smoke alar...</td>\n",
       "      <td>22</td>\n",
       "    </tr>\n",
       "  </tbody>\n",
       "</table>\n",
       "</div>"
      ],
      "text/plain": [
       "                                           amenities  no_of_amen\n",
       "0  [\"Hot water kettle\", \"Wine glasses\", \"Kitchen\"...          51\n",
       "1  [\"Kitchen\", \"Free street parking\", \"Long term ...          30\n",
       "2  [\"Kitchen\", \"Free street parking\", \"Shampoo\", ...          33\n",
       "3  [\"Kitchen\", \"Long term stays allowed\", \"Smoke ...          31\n",
       "4  [\"Free street parking\", \"Shampoo\", \"Smoke alar...          22"
      ]
     },
     "execution_count": 34,
     "metadata": {},
     "output_type": "execute_result"
    }
   ],
   "source": [
    "dat['no_of_amen'] = dat['amenities'].str.count(r',') + 1\n",
    "dat.loc[:, ['amenities','no_of_amen']].head()"
   ]
  },
  {
   "cell_type": "code",
   "execution_count": 35,
   "id": "a7118e5f",
   "metadata": {},
   "outputs": [
    {
     "data": {
      "text/plain": [
       "count    6366.000000\n",
       "mean       31.138549\n",
       "std        10.615332\n",
       "min         1.000000\n",
       "25%        24.000000\n",
       "50%        31.000000\n",
       "75%        37.000000\n",
       "max        82.000000\n",
       "Name: no_of_amen, dtype: float64"
      ]
     },
     "execution_count": 35,
     "metadata": {},
     "output_type": "execute_result"
    }
   ],
   "source": [
    "dat['no_of_amen'].describe()"
   ]
  },
  {
   "cell_type": "code",
   "execution_count": 36,
   "id": "26ed39bb",
   "metadata": {
    "scrolled": true
   },
   "outputs": [
    {
     "data": {
      "image/png": "[encoded data removed]",
      "text/plain": [
       "<Figure size 1296x432 with 1 Axes>"
      ]
     },
     "metadata": {
      "needs_background": "light"
     },
     "output_type": "display_data"
    }
   ],
   "source": [
    "plt.figure(figsize=(18,6))\n",
    "p = sb.countplot(x='no_of_amen',data = dat)\n",
    "p.set_xticklabels(labels=p.get_xticklabels(),rotation=90)\n",
    "plt.xlabel('Number of Amenities Listed by the Host')\n",
    "plt.show()"
   ]
  },
  {
   "cell_type": "markdown",
   "id": "be9aafe9",
   "metadata": {},
   "source": [
    "<h4>Distance from Center of Chicago</h4>\n",
    "\n",
    "Let's calculate the distance of the listing from the center of the city of Chicago.  We will use the following coordinates: 41.8781° N, 87.6298° W (source needed?).\n",
    "\n",
    "We will use the Haversine formula to calculate the distance in miles.  In order to do so, we will first define a function to perform the calculation."
   ]
  },
  {
   "cell_type": "code",
   "execution_count": 37,
   "id": "65ea79c9",
   "metadata": {},
   "outputs": [],
   "source": [
    "# Coordinates for center of Chicago in degrees\n",
    "lat1 = 41.8781\n",
    "long1 = -87.6298\n",
    "\n",
    "# Constant, radius of the Earth in miles\n",
    "r = 3958.8\n",
    "\n",
    "# Define a function to calculate the distance\n",
    "def haversine(lat2, long2):\n",
    "    # First convert degrees into radians:\n",
    "    rlat1 = lat1 * (math.pi / 180)\n",
    "    rlat2 = lat2 * (math.pi / 180)\n",
    "    rlong1 = long1 * (math.pi / 180)\n",
    "    rlong2 = long2 * (math.pi / 180)\n",
    "    \n",
    "    # Calculate the differnce between the latitudes and longitudes\n",
    "    dlat = rlat1 - rlat2\n",
    "    dlong = rlong1 - rlong2\n",
    "    \n",
    "    # Use the Haversine formula (broken into 3 terms for simplification here)\n",
    "    a = (math.sin(dlat / 2) ** 2)         # First term\n",
    "    b = math.cos(rlat1) * math.cos(rlat2) # Second term\n",
    "    c = (math.sin(dlong / 2) ** 2)        # Third term\n",
    "    e = math.sqrt(a + b * c)\n",
    "    d = 2 * r * e                         # where r is the radius of the Earth\n",
    "    return d"
   ]
  },
  {
   "cell_type": "markdown",
   "id": "66990162",
   "metadata": {},
   "source": [
    "Then, apply the formula to each observation in the data set, returning the answer in a new column for the distance from the center of the city."
   ]
  },
  {
   "cell_type": "code",
   "execution_count": 38,
   "id": "eb060ecb",
   "metadata": {},
   "outputs": [
    {
     "data": {
      "text/plain": [
       "1899    6.523089\n",
       "5041    6.891157\n",
       "3869    2.767134\n",
       "1385    6.885432\n",
       "1415    4.699820\n",
       "Name: d_center, dtype: float64"
      ]
     },
     "execution_count": 38,
     "metadata": {},
     "output_type": "execute_result"
    }
   ],
   "source": [
    "dat['d_center'] = dat.apply(\n",
    "    lambda row: haversine(row['latitude'], row['longitude']),\n",
    "    axis=1)\n",
    "dat['d_center'].sample(5)"
   ]
  },
  {
   "cell_type": "code",
   "execution_count": 39,
   "id": "1ecde93e",
   "metadata": {},
   "outputs": [
    {
     "data": {
      "text/plain": [
       "count    6366.000000\n",
       "mean        4.319250\n",
       "std         2.726591\n",
       "min         0.010381\n",
       "25%         2.007158\n",
       "50%         4.003650\n",
       "75%         6.028991\n",
       "max        16.372642\n",
       "Name: d_center, dtype: float64"
      ]
     },
     "execution_count": 39,
     "metadata": {},
     "output_type": "execute_result"
    }
   ],
   "source": [
    "dat['d_center'].describe()"
   ]
  },
  {
   "cell_type": "markdown",
   "id": "945e459e",
   "metadata": {},
   "source": [
    "In order to visualize the distances, let us plot them against the listing price values."
   ]
  },
  {
   "cell_type": "code",
   "execution_count": 40,
   "id": "76e49893",
   "metadata": {},
   "outputs": [
    {
     "data": {
      "image/png": "[encoded data removed]",
      "text/plain": [
       "<Figure size 864x576 with 1 Axes>"
      ]
     },
     "metadata": {
      "needs_background": "light"
     },
     "output_type": "display_data"
    }
   ],
   "source": [
    "plt.figure(figsize=(12,8))\n",
    "sb.regplot(x=\"d_center\", y=\"price\", \n",
    "            line_kws={\"color\":\"r\",\"alpha\":0.5,\"lw\":3}, data=dat)\n",
    "plt.xlabel('Distance from center of city (miles)')\n",
    "plt.ylabel('Price ($)')\n",
    "plt.show()"
   ]
  },
  {
   "cell_type": "markdown",
   "id": "8d43981d",
   "metadata": {},
   "source": [
    "On first look, it appears that the listings further from the city are less valuable on average."
   ]
  },
  {
   "cell_type": "markdown",
   "id": "29cb2868",
   "metadata": {},
   "source": [
    "<h4>Property and Room Types</h4>"
   ]
  },
  {
   "cell_type": "code",
   "execution_count": 41,
   "id": "529b531e",
   "metadata": {},
   "outputs": [
    {
     "data": {
      "image/png": "[encoded data removed]",
      "text/plain": [
       "<Figure size 1296x432 with 1 Axes>"
      ]
     },
     "metadata": {
      "needs_background": "light"
     },
     "output_type": "display_data"
    }
   ],
   "source": [
    "plt.figure(figsize=(18,6))\n",
    "p = sb.countplot(x='property_type',data = dat)\n",
    "p.set_xticklabels(labels=p.get_xticklabels(),rotation=90)\n",
    "plt.xlabel('Number of Amenities Listed by the Host')\n",
    "plt.show()"
   ]
  },
  {
   "cell_type": "code",
   "execution_count": 57,
   "id": "945c1fc5",
   "metadata": {},
   "outputs": [
    {
     "data": {
      "image/png": "[encoded data removed]",
      "text/plain": [
       "<Figure size 864x432 with 1 Axes>"
      ]
     },
     "metadata": {
      "needs_background": "light"
     },
     "output_type": "display_data"
    }
   ],
   "source": [
    "plt.figure(figsize=(12,6))\n",
    "p = sb.countplot(x='room_type',data = dat)\n",
    "plt.xlabel('Room Type')\n",
    "plt.show()"
   ]
  },
  {
   "cell_type": "markdown",
   "id": "58d461ba",
   "metadata": {},
   "source": [
    "<h2>Dimension Reduction</h2>\n",
    "\n"
   ]
  },
  {
   "cell_type": "code",
   "execution_count": 43,
   "id": "bc209efc",
   "metadata": {},
   "outputs": [
    {
     "name": "stdout",
     "output_type": "stream",
     "text": [
      "<class 'pandas.core.frame.DataFrame'>\n",
      "RangeIndex: 6366 entries, 0 to 6365\n",
      "Data columns (total 66 columns):\n",
      " #   Column                                        Non-Null Count  Dtype         \n",
      "---  ------                                        --------------  -----         \n",
      " 0   id                                            6366 non-null   int64         \n",
      " 1   last_scraped                                  6366 non-null   object        \n",
      " 2   name                                          6366 non-null   object        \n",
      " 3   description                                   6352 non-null   object        \n",
      " 4   neighborhood_overview                         4663 non-null   object        \n",
      " 5   host_id                                       6366 non-null   int64         \n",
      " 6   host_name                                     6365 non-null   object        \n",
      " 7   host_since                                    6365 non-null   datetime64[ns]\n",
      " 8   host_location                                 6355 non-null   object        \n",
      " 9   host_about                                    4381 non-null   object        \n",
      " 10  host_response_time                            5187 non-null   object        \n",
      " 11  host_response_rate                            5187 non-null   float32       \n",
      " 12  host_acceptance_rate                          5381 non-null   float32       \n",
      " 13  host_is_superhost                             6365 non-null   float64       \n",
      " 14  host_neighbourhood                            5869 non-null   object        \n",
      " 15  host_total_listings_count                     6365 non-null   float64       \n",
      " 16  host_verifications                            6366 non-null   object        \n",
      " 17  host_has_profile_pic                          6365 non-null   float64       \n",
      " 18  host_identity_verified                        6365 non-null   float64       \n",
      " 19  neighbourhood_cleansed                        6366 non-null   object        \n",
      " 20  latitude                                      6366 non-null   float64       \n",
      " 21  longitude                                     6366 non-null   float64       \n",
      " 22  property_type                                 6366 non-null   object        \n",
      " 23  room_type                                     6366 non-null   object        \n",
      " 24  accommodates                                  6366 non-null   int64         \n",
      " 25  bathrooms_text                                1587 non-null   object        \n",
      " 26  bedrooms                                      5829 non-null   float64       \n",
      " 27  beds                                          6285 non-null   float64       \n",
      " 28  amenities                                     6366 non-null   object        \n",
      " 29  price                                         6366 non-null   float64       \n",
      " 30  minimum_nights                                6366 non-null   int64         \n",
      " 31  maximum_nights                                6366 non-null   int64         \n",
      " 32  minimum_minimum_nights                        6366 non-null   int64         \n",
      " 33  maximum_minimum_nights                        6366 non-null   int64         \n",
      " 34  minimum_maximum_nights                        6366 non-null   int64         \n",
      " 35  maximum_maximum_nights                        6366 non-null   int64         \n",
      " 36  minimum_nights_avg_ntm                        6366 non-null   float64       \n",
      " 37  maximum_nights_avg_ntm                        6366 non-null   float64       \n",
      " 38  has_availability                              6366 non-null   float64       \n",
      " 39  availability_30                               6366 non-null   int64         \n",
      " 40  availability_60                               6366 non-null   int64         \n",
      " 41  availability_90                               6366 non-null   int64         \n",
      " 42  availability_365                              6366 non-null   int64         \n",
      " 43  number_of_reviews                             6366 non-null   int64         \n",
      " 44  number_of_reviews_ltm                         6366 non-null   int64         \n",
      " 45  number_of_reviews_l30d                        6366 non-null   int64         \n",
      " 46  first_review                                  5282 non-null   datetime64[ns]\n",
      " 47  last_review                                   5282 non-null   datetime64[ns]\n",
      " 48  review_scores_rating                          5282 non-null   float64       \n",
      " 49  review_scores_accuracy                        5246 non-null   float64       \n",
      " 50  review_scores_cleanliness                     5246 non-null   float64       \n",
      " 51  review_scores_checkin                         5245 non-null   float64       \n",
      " 52  review_scores_communication                   5244 non-null   float64       \n",
      " 53  review_scores_location                        5245 non-null   float64       \n",
      " 54  review_scores_value                           5245 non-null   float64       \n",
      " 55  instant_bookable                              6366 non-null   float64       \n",
      " 56  calculated_host_listings_count                6366 non-null   int64         \n",
      " 57  calculated_host_listings_count_entire_homes   6366 non-null   int64         \n",
      " 58  calculated_host_listings_count_private_rooms  6366 non-null   int64         \n",
      " 59  calculated_host_listings_count_shared_rooms   6366 non-null   int64         \n",
      " 60  reviews_per_month                             5282 non-null   float64       \n",
      " 61  bathrooms                                     6362 non-null   float32       \n",
      " 62  host_response_time_float                      5187 non-null   float32       \n",
      " 63  no_of_verif                                   6366 non-null   int64         \n",
      " 64  no_of_amen                                    6366 non-null   int64         \n",
      " 65  d_center                                      6366 non-null   float64       \n",
      "dtypes: datetime64[ns](3), float32(4), float64(22), int64(22), object(15)\n",
      "memory usage: 3.1+ MB\n"
     ]
    }
   ],
   "source": [
    "dat.info()"
   ]
  },
  {
   "cell_type": "markdown",
   "id": "45441879",
   "metadata": {},
   "source": [
    "In order to complete a Principal Component Analysis, we need to only select the numeric values and drop values with NaNs."
   ]
  },
  {
   "cell_type": "code",
   "execution_count": 47,
   "id": "c294a6cc",
   "metadata": {},
   "outputs": [],
   "source": [
    "# Select only numeric values\n",
    "dat_pre_norm = dat.loc[:,['host_response_rate','host_acceptance_rate','host_is_superhost',\n",
    "                         'host_total_listings_count','host_has_profile_pic',\n",
    "                          'host_identity_verified','latitude','longitude','accommodates','bedrooms','beds',\n",
    "                         'price','minimum_minimum_nights','maximum_minimum_nights',\n",
    "                         'minimum_maximum_nights','maximum_maximum_nights','minimum_nights_avg_ntm',\n",
    "                         'maximum_nights_avg_ntm','number_of_reviews','number_of_reviews_ltm','number_of_reviews_l30d',\n",
    "                         'review_scores_rating','review_scores_accuracy','review_scores_cleanliness',\n",
    "                         'review_scores_checkin','review_scores_communication','review_scores_location',\n",
    "                         'review_scores_value','reviews_per_month']]\n",
    "dat_pre_norm = dat_pre_norm.dropna()"
   ]
  },
  {
   "cell_type": "code",
   "execution_count": 48,
   "id": "c3112176",
   "metadata": {},
   "outputs": [],
   "source": [
    "dat_norm = scale(dat_pre_norm)"
   ]
  },
  {
   "cell_type": "markdown",
   "id": "e084530d",
   "metadata": {},
   "source": [
    "For the fist PCA, we will include all of the variables (i.e. columns from the selection above)."
   ]
  },
  {
   "cell_type": "code",
   "execution_count": 49,
   "id": "60ccbd95",
   "metadata": {},
   "outputs": [
    {
     "data": {
      "text/plain": [
       "PCA(n_components=29)"
      ]
     },
     "execution_count": 49,
     "metadata": {},
     "output_type": "execute_result"
    }
   ],
   "source": [
    "pca1 = PCA(n_components=len(dat_pre_norm.columns))\n",
    "\n",
    "pca1.fit(dat_norm)"
   ]
  },
  {
   "cell_type": "code",
   "execution_count": 50,
   "id": "419b0bae",
   "metadata": {},
   "outputs": [
    {
     "name": "stdout",
     "output_type": "stream",
     "text": [
      "[ 18.94  30.52  41.58  51.62  59.7   64.85  69.41  73.03  76.36  79.51\n",
      "  82.27  84.77  87.15  89.25  91.06  92.72  94.24  95.33  96.28  97.09\n",
      "  97.81  98.44  99.02  99.56  99.92 100.   100.   100.   100.  ]\n"
     ]
    }
   ],
   "source": [
    "var = pca1.explained_variance_ratio_\n",
    "var1 = np.cumsum(np.round(pca1.explained_variance_ratio_, decimals=4)*100)\n",
    "print(var1)"
   ]
  },
  {
   "cell_type": "code",
   "execution_count": 51,
   "id": "e139d75e",
   "metadata": {},
   "outputs": [
    {
     "data": {
      "image/png": "[encoded data removed]",
      "text/plain": [
       "<Figure size 432x288 with 1 Axes>"
      ]
     },
     "metadata": {
      "needs_background": "light"
     },
     "output_type": "display_data"
    }
   ],
   "source": [
    "var1 = pd.DataFrame(var1, index=np.arange(1,int(len(dat_pre_norm.columns))+1))\n",
    "plt.plot(var1,color='blue')\n",
    "plt.title('Scree Plot')\n",
    "plt.xlabel('Number of Principal Components')\n",
    "plt.ylabel('Cumulative Variance Explained')\n",
    "plt.show()"
   ]
  },
  {
   "cell_type": "markdown",
   "id": "47aedfc2",
   "metadata": {},
   "source": [
    "Taking the first 18 principal components will correspond to 90% of the variance explained."
   ]
  },
  {
   "cell_type": "code",
   "execution_count": 52,
   "id": "a7b29f06",
   "metadata": {},
   "outputs": [],
   "source": [
    "pca18 = PCA(n_components=18)\n",
    "pca18.fit(dat_norm)\n",
    "data_pca18 = pca18.transform(dat_norm)\n",
    "\n",
    "# Convert the numpy array to pandas DataFrame\n",
    "data_pca18 = pd.DataFrame(data_pca18)\n",
    "data_pca18.columns = [\"PC\"+str(i) for i in range(1,19)]"
   ]
  },
  {
   "cell_type": "code",
   "execution_count": 53,
   "id": "fde7c309",
   "metadata": {},
   "outputs": [
    {
     "data": {
      "text/html": [
       "<div>\n",
       "<style scoped>\n",
       "    .dataframe tbody tr th:only-of-type {\n",
       "        vertical-align: middle;\n",
       "    }\n",
       "\n",
       "    .dataframe tbody tr th {\n",
       "        vertical-align: top;\n",
       "    }\n",
       "\n",
       "    .dataframe thead th {\n",
       "        text-align: right;\n",
       "    }\n",
       "</style>\n",
       "<table border=\"1\" class=\"dataframe\">\n",
       "  <thead>\n",
       "    <tr style=\"text-align: right;\">\n",
       "      <th></th>\n",
       "      <th>PC1</th>\n",
       "      <th>PC2</th>\n",
       "      <th>PC3</th>\n",
       "      <th>PC4</th>\n",
       "      <th>PC5</th>\n",
       "      <th>PC6</th>\n",
       "      <th>PC7</th>\n",
       "      <th>PC8</th>\n",
       "      <th>PC9</th>\n",
       "      <th>PC10</th>\n",
       "      <th>PC11</th>\n",
       "      <th>PC12</th>\n",
       "      <th>PC13</th>\n",
       "      <th>PC14</th>\n",
       "      <th>PC15</th>\n",
       "      <th>PC16</th>\n",
       "      <th>PC17</th>\n",
       "      <th>PC18</th>\n",
       "    </tr>\n",
       "  </thead>\n",
       "  <tbody>\n",
       "    <tr>\n",
       "      <th>PC1</th>\n",
       "      <td>1.000000e+00</td>\n",
       "      <td>-1.766753e-16</td>\n",
       "      <td>-2.067355e-17</td>\n",
       "      <td>-2.908122e-16</td>\n",
       "      <td>9.983482e-19</td>\n",
       "      <td>1.667827e-16</td>\n",
       "      <td>2.250690e-16</td>\n",
       "      <td>-1.062138e-16</td>\n",
       "      <td>-2.227367e-16</td>\n",
       "      <td>-7.737609e-17</td>\n",
       "      <td>-1.750562e-16</td>\n",
       "      <td>1.541958e-16</td>\n",
       "      <td>4.398101e-17</td>\n",
       "      <td>2.957996e-17</td>\n",
       "      <td>2.746828e-16</td>\n",
       "      <td>8.252890e-17</td>\n",
       "      <td>-3.382917e-17</td>\n",
       "      <td>2.070143e-17</td>\n",
       "    </tr>\n",
       "    <tr>\n",
       "      <th>PC2</th>\n",
       "      <td>-1.766753e-16</td>\n",
       "      <td>1.000000e+00</td>\n",
       "      <td>-1.233392e-15</td>\n",
       "      <td>2.133117e-16</td>\n",
       "      <td>1.600211e-16</td>\n",
       "      <td>8.643205e-16</td>\n",
       "      <td>-8.437016e-17</td>\n",
       "      <td>-3.956971e-16</td>\n",
       "      <td>-2.524045e-16</td>\n",
       "      <td>-3.471686e-16</td>\n",
       "      <td>1.563393e-16</td>\n",
       "      <td>1.988135e-16</td>\n",
       "      <td>1.176741e-16</td>\n",
       "      <td>-2.789326e-16</td>\n",
       "      <td>-6.655669e-17</td>\n",
       "      <td>8.040493e-17</td>\n",
       "      <td>3.085346e-16</td>\n",
       "      <td>2.601271e-16</td>\n",
       "    </tr>\n",
       "    <tr>\n",
       "      <th>PC3</th>\n",
       "      <td>-2.067355e-17</td>\n",
       "      <td>-1.233392e-15</td>\n",
       "      <td>1.000000e+00</td>\n",
       "      <td>1.601691e-16</td>\n",
       "      <td>3.085074e-16</td>\n",
       "      <td>2.752455e-16</td>\n",
       "      <td>1.276838e-16</td>\n",
       "      <td>-3.158037e-16</td>\n",
       "      <td>2.629095e-18</td>\n",
       "      <td>3.912861e-17</td>\n",
       "      <td>1.663050e-16</td>\n",
       "      <td>7.141456e-17</td>\n",
       "      <td>-2.550861e-16</td>\n",
       "      <td>-1.660130e-16</td>\n",
       "      <td>-1.411149e-16</td>\n",
       "      <td>1.339975e-16</td>\n",
       "      <td>1.202289e-16</td>\n",
       "      <td>1.694321e-16</td>\n",
       "    </tr>\n",
       "    <tr>\n",
       "      <th>PC4</th>\n",
       "      <td>-2.908122e-16</td>\n",
       "      <td>2.133117e-16</td>\n",
       "      <td>1.601691e-16</td>\n",
       "      <td>1.000000e+00</td>\n",
       "      <td>-3.451497e-16</td>\n",
       "      <td>4.396407e-16</td>\n",
       "      <td>1.072416e-16</td>\n",
       "      <td>-7.339125e-16</td>\n",
       "      <td>-7.427931e-17</td>\n",
       "      <td>6.298959e-17</td>\n",
       "      <td>7.137839e-16</td>\n",
       "      <td>-2.446055e-16</td>\n",
       "      <td>-2.518594e-16</td>\n",
       "      <td>-1.791569e-17</td>\n",
       "      <td>7.025128e-18</td>\n",
       "      <td>-1.789170e-16</td>\n",
       "      <td>-3.131850e-16</td>\n",
       "      <td>-5.443680e-18</td>\n",
       "    </tr>\n",
       "    <tr>\n",
       "      <th>PC5</th>\n",
       "      <td>9.983482e-19</td>\n",
       "      <td>1.600211e-16</td>\n",
       "      <td>3.085074e-16</td>\n",
       "      <td>-3.451497e-16</td>\n",
       "      <td>1.000000e+00</td>\n",
       "      <td>3.115162e-16</td>\n",
       "      <td>6.622006e-17</td>\n",
       "      <td>4.639082e-18</td>\n",
       "      <td>-3.312033e-16</td>\n",
       "      <td>-1.830468e-16</td>\n",
       "      <td>7.714658e-16</td>\n",
       "      <td>1.398378e-16</td>\n",
       "      <td>1.884973e-16</td>\n",
       "      <td>-1.189518e-16</td>\n",
       "      <td>-1.441448e-16</td>\n",
       "      <td>9.467595e-17</td>\n",
       "      <td>1.963092e-16</td>\n",
       "      <td>1.141440e-16</td>\n",
       "    </tr>\n",
       "    <tr>\n",
       "      <th>PC6</th>\n",
       "      <td>1.667827e-16</td>\n",
       "      <td>8.643205e-16</td>\n",
       "      <td>2.752455e-16</td>\n",
       "      <td>4.396407e-16</td>\n",
       "      <td>3.115162e-16</td>\n",
       "      <td>1.000000e+00</td>\n",
       "      <td>-3.422648e-16</td>\n",
       "      <td>-1.399280e-15</td>\n",
       "      <td>-3.138080e-16</td>\n",
       "      <td>8.370413e-17</td>\n",
       "      <td>-6.712424e-17</td>\n",
       "      <td>4.997190e-16</td>\n",
       "      <td>-3.375793e-17</td>\n",
       "      <td>-3.829462e-16</td>\n",
       "      <td>-1.029608e-16</td>\n",
       "      <td>6.569757e-16</td>\n",
       "      <td>-5.082794e-17</td>\n",
       "      <td>3.618022e-16</td>\n",
       "    </tr>\n",
       "    <tr>\n",
       "      <th>PC7</th>\n",
       "      <td>2.250690e-16</td>\n",
       "      <td>-8.437016e-17</td>\n",
       "      <td>1.276838e-16</td>\n",
       "      <td>1.072416e-16</td>\n",
       "      <td>6.622006e-17</td>\n",
       "      <td>-3.422648e-16</td>\n",
       "      <td>1.000000e+00</td>\n",
       "      <td>-5.021384e-17</td>\n",
       "      <td>-1.819120e-16</td>\n",
       "      <td>-2.695306e-16</td>\n",
       "      <td>-7.661339e-17</td>\n",
       "      <td>3.166290e-17</td>\n",
       "      <td>2.725025e-17</td>\n",
       "      <td>-4.415881e-16</td>\n",
       "      <td>-4.506193e-17</td>\n",
       "      <td>-2.957832e-16</td>\n",
       "      <td>2.956142e-17</td>\n",
       "      <td>-1.836188e-16</td>\n",
       "    </tr>\n",
       "    <tr>\n",
       "      <th>PC8</th>\n",
       "      <td>-1.062138e-16</td>\n",
       "      <td>-3.956971e-16</td>\n",
       "      <td>-3.158037e-16</td>\n",
       "      <td>-7.339125e-16</td>\n",
       "      <td>4.639082e-18</td>\n",
       "      <td>-1.399280e-15</td>\n",
       "      <td>-5.021384e-17</td>\n",
       "      <td>1.000000e+00</td>\n",
       "      <td>6.665492e-17</td>\n",
       "      <td>2.999660e-16</td>\n",
       "      <td>-9.875549e-17</td>\n",
       "      <td>1.238105e-16</td>\n",
       "      <td>-2.151663e-16</td>\n",
       "      <td>-2.140879e-16</td>\n",
       "      <td>2.084979e-17</td>\n",
       "      <td>1.860542e-16</td>\n",
       "      <td>-1.817381e-16</td>\n",
       "      <td>4.762468e-18</td>\n",
       "    </tr>\n",
       "    <tr>\n",
       "      <th>PC9</th>\n",
       "      <td>-2.227367e-16</td>\n",
       "      <td>-2.524045e-16</td>\n",
       "      <td>2.629095e-18</td>\n",
       "      <td>-7.427931e-17</td>\n",
       "      <td>-3.312033e-16</td>\n",
       "      <td>-3.138080e-16</td>\n",
       "      <td>-1.819120e-16</td>\n",
       "      <td>6.665492e-17</td>\n",
       "      <td>1.000000e+00</td>\n",
       "      <td>-2.000714e-16</td>\n",
       "      <td>-1.963385e-16</td>\n",
       "      <td>7.239591e-17</td>\n",
       "      <td>4.329682e-16</td>\n",
       "      <td>3.303994e-16</td>\n",
       "      <td>-8.821699e-17</td>\n",
       "      <td>-2.367714e-17</td>\n",
       "      <td>-1.313792e-16</td>\n",
       "      <td>8.922029e-17</td>\n",
       "    </tr>\n",
       "    <tr>\n",
       "      <th>PC10</th>\n",
       "      <td>-7.737609e-17</td>\n",
       "      <td>-3.471686e-16</td>\n",
       "      <td>3.912861e-17</td>\n",
       "      <td>6.298959e-17</td>\n",
       "      <td>-1.830468e-16</td>\n",
       "      <td>8.370413e-17</td>\n",
       "      <td>-2.695306e-16</td>\n",
       "      <td>2.999660e-16</td>\n",
       "      <td>-2.000714e-16</td>\n",
       "      <td>1.000000e+00</td>\n",
       "      <td>-2.525183e-16</td>\n",
       "      <td>5.993731e-16</td>\n",
       "      <td>-2.637974e-16</td>\n",
       "      <td>-2.978498e-16</td>\n",
       "      <td>4.015807e-17</td>\n",
       "      <td>1.105142e-16</td>\n",
       "      <td>-1.616538e-16</td>\n",
       "      <td>-1.056875e-16</td>\n",
       "    </tr>\n",
       "    <tr>\n",
       "      <th>PC11</th>\n",
       "      <td>-1.750562e-16</td>\n",
       "      <td>1.563393e-16</td>\n",
       "      <td>1.663050e-16</td>\n",
       "      <td>7.137839e-16</td>\n",
       "      <td>7.714658e-16</td>\n",
       "      <td>-6.712424e-17</td>\n",
       "      <td>-7.661339e-17</td>\n",
       "      <td>-9.875549e-17</td>\n",
       "      <td>-1.963385e-16</td>\n",
       "      <td>-2.525183e-16</td>\n",
       "      <td>1.000000e+00</td>\n",
       "      <td>3.307548e-16</td>\n",
       "      <td>1.952894e-16</td>\n",
       "      <td>5.501759e-16</td>\n",
       "      <td>9.452877e-17</td>\n",
       "      <td>9.429838e-17</td>\n",
       "      <td>-9.810271e-17</td>\n",
       "      <td>7.741928e-17</td>\n",
       "    </tr>\n",
       "    <tr>\n",
       "      <th>PC12</th>\n",
       "      <td>1.541958e-16</td>\n",
       "      <td>1.988135e-16</td>\n",
       "      <td>7.141456e-17</td>\n",
       "      <td>-2.446055e-16</td>\n",
       "      <td>1.398378e-16</td>\n",
       "      <td>4.997190e-16</td>\n",
       "      <td>3.166290e-17</td>\n",
       "      <td>1.238105e-16</td>\n",
       "      <td>7.239591e-17</td>\n",
       "      <td>5.993731e-16</td>\n",
       "      <td>3.307548e-16</td>\n",
       "      <td>1.000000e+00</td>\n",
       "      <td>9.778087e-16</td>\n",
       "      <td>2.135712e-15</td>\n",
       "      <td>2.972138e-16</td>\n",
       "      <td>-2.131630e-16</td>\n",
       "      <td>-1.345540e-16</td>\n",
       "      <td>1.587673e-16</td>\n",
       "    </tr>\n",
       "    <tr>\n",
       "      <th>PC13</th>\n",
       "      <td>4.398101e-17</td>\n",
       "      <td>1.176741e-16</td>\n",
       "      <td>-2.550861e-16</td>\n",
       "      <td>-2.518594e-16</td>\n",
       "      <td>1.884973e-16</td>\n",
       "      <td>-3.375793e-17</td>\n",
       "      <td>2.725025e-17</td>\n",
       "      <td>-2.151663e-16</td>\n",
       "      <td>4.329682e-16</td>\n",
       "      <td>-2.637974e-16</td>\n",
       "      <td>1.952894e-16</td>\n",
       "      <td>9.778087e-16</td>\n",
       "      <td>1.000000e+00</td>\n",
       "      <td>3.073449e-15</td>\n",
       "      <td>1.666884e-16</td>\n",
       "      <td>-3.427580e-16</td>\n",
       "      <td>-3.405158e-16</td>\n",
       "      <td>1.103609e-16</td>\n",
       "    </tr>\n",
       "    <tr>\n",
       "      <th>PC14</th>\n",
       "      <td>2.957996e-17</td>\n",
       "      <td>-2.789326e-16</td>\n",
       "      <td>-1.660130e-16</td>\n",
       "      <td>-1.791569e-17</td>\n",
       "      <td>-1.189518e-16</td>\n",
       "      <td>-3.829462e-16</td>\n",
       "      <td>-4.415881e-16</td>\n",
       "      <td>-2.140879e-16</td>\n",
       "      <td>3.303994e-16</td>\n",
       "      <td>-2.978498e-16</td>\n",
       "      <td>5.501759e-16</td>\n",
       "      <td>2.135712e-15</td>\n",
       "      <td>3.073449e-15</td>\n",
       "      <td>1.000000e+00</td>\n",
       "      <td>6.566004e-17</td>\n",
       "      <td>-1.176072e-18</td>\n",
       "      <td>-4.220515e-16</td>\n",
       "      <td>-1.800084e-17</td>\n",
       "    </tr>\n",
       "    <tr>\n",
       "      <th>PC15</th>\n",
       "      <td>2.746828e-16</td>\n",
       "      <td>-6.655669e-17</td>\n",
       "      <td>-1.411149e-16</td>\n",
       "      <td>7.025128e-18</td>\n",
       "      <td>-1.441448e-16</td>\n",
       "      <td>-1.029608e-16</td>\n",
       "      <td>-4.506193e-17</td>\n",
       "      <td>2.084979e-17</td>\n",
       "      <td>-8.821699e-17</td>\n",
       "      <td>4.015807e-17</td>\n",
       "      <td>9.452877e-17</td>\n",
       "      <td>2.972138e-16</td>\n",
       "      <td>1.666884e-16</td>\n",
       "      <td>6.566004e-17</td>\n",
       "      <td>1.000000e+00</td>\n",
       "      <td>-2.408302e-17</td>\n",
       "      <td>-8.078708e-16</td>\n",
       "      <td>-1.387294e-16</td>\n",
       "    </tr>\n",
       "    <tr>\n",
       "      <th>PC16</th>\n",
       "      <td>8.252890e-17</td>\n",
       "      <td>8.040493e-17</td>\n",
       "      <td>1.339975e-16</td>\n",
       "      <td>-1.789170e-16</td>\n",
       "      <td>9.467595e-17</td>\n",
       "      <td>6.569757e-16</td>\n",
       "      <td>-2.957832e-16</td>\n",
       "      <td>1.860542e-16</td>\n",
       "      <td>-2.367714e-17</td>\n",
       "      <td>1.105142e-16</td>\n",
       "      <td>9.429838e-17</td>\n",
       "      <td>-2.131630e-16</td>\n",
       "      <td>-3.427580e-16</td>\n",
       "      <td>-1.176072e-18</td>\n",
       "      <td>-2.408302e-17</td>\n",
       "      <td>1.000000e+00</td>\n",
       "      <td>4.640492e-16</td>\n",
       "      <td>-3.623291e-16</td>\n",
       "    </tr>\n",
       "    <tr>\n",
       "      <th>PC17</th>\n",
       "      <td>-3.382917e-17</td>\n",
       "      <td>3.085346e-16</td>\n",
       "      <td>1.202289e-16</td>\n",
       "      <td>-3.131850e-16</td>\n",
       "      <td>1.963092e-16</td>\n",
       "      <td>-5.082794e-17</td>\n",
       "      <td>2.956142e-17</td>\n",
       "      <td>-1.817381e-16</td>\n",
       "      <td>-1.313792e-16</td>\n",
       "      <td>-1.616538e-16</td>\n",
       "      <td>-9.810271e-17</td>\n",
       "      <td>-1.345540e-16</td>\n",
       "      <td>-3.405158e-16</td>\n",
       "      <td>-4.220515e-16</td>\n",
       "      <td>-8.078708e-16</td>\n",
       "      <td>4.640492e-16</td>\n",
       "      <td>1.000000e+00</td>\n",
       "      <td>-1.105622e-16</td>\n",
       "    </tr>\n",
       "    <tr>\n",
       "      <th>PC18</th>\n",
       "      <td>2.070143e-17</td>\n",
       "      <td>2.601271e-16</td>\n",
       "      <td>1.694321e-16</td>\n",
       "      <td>-5.443680e-18</td>\n",
       "      <td>1.141440e-16</td>\n",
       "      <td>3.618022e-16</td>\n",
       "      <td>-1.836188e-16</td>\n",
       "      <td>4.762468e-18</td>\n",
       "      <td>8.922029e-17</td>\n",
       "      <td>-1.056875e-16</td>\n",
       "      <td>7.741928e-17</td>\n",
       "      <td>1.587673e-16</td>\n",
       "      <td>1.103609e-16</td>\n",
       "      <td>-1.800084e-17</td>\n",
       "      <td>-1.387294e-16</td>\n",
       "      <td>-3.623291e-16</td>\n",
       "      <td>-1.105622e-16</td>\n",
       "      <td>1.000000e+00</td>\n",
       "    </tr>\n",
       "  </tbody>\n",
       "</table>\n",
       "</div>"
      ],
      "text/plain": [
       "               PC1           PC2           PC3           PC4           PC5  \\\n",
       "PC1   1.000000e+00 -1.766753e-16 -2.067355e-17 -2.908122e-16  9.983482e-19   \n",
       "PC2  -1.766753e-16  1.000000e+00 -1.233392e-15  2.133117e-16  1.600211e-16   \n",
       "PC3  -2.067355e-17 -1.233392e-15  1.000000e+00  1.601691e-16  3.085074e-16   \n",
       "PC4  -2.908122e-16  2.133117e-16  1.601691e-16  1.000000e+00 -3.451497e-16   \n",
       "PC5   9.983482e-19  1.600211e-16  3.085074e-16 -3.451497e-16  1.000000e+00   \n",
       "PC6   1.667827e-16  8.643205e-16  2.752455e-16  4.396407e-16  3.115162e-16   \n",
       "PC7   2.250690e-16 -8.437016e-17  1.276838e-16  1.072416e-16  6.622006e-17   \n",
       "PC8  -1.062138e-16 -3.956971e-16 -3.158037e-16 -7.339125e-16  4.639082e-18   \n",
       "PC9  -2.227367e-16 -2.524045e-16  2.629095e-18 -7.427931e-17 -3.312033e-16   \n",
       "PC10 -7.737609e-17 -3.471686e-16  3.912861e-17  6.298959e-17 -1.830468e-16   \n",
       "PC11 -1.750562e-16  1.563393e-16  1.663050e-16  7.137839e-16  7.714658e-16   \n",
       "PC12  1.541958e-16  1.988135e-16  7.141456e-17 -2.446055e-16  1.398378e-16   \n",
       "PC13  4.398101e-17  1.176741e-16 -2.550861e-16 -2.518594e-16  1.884973e-16   \n",
       "PC14  2.957996e-17 -2.789326e-16 -1.660130e-16 -1.791569e-17 -1.189518e-16   \n",
       "PC15  2.746828e-16 -6.655669e-17 -1.411149e-16  7.025128e-18 -1.441448e-16   \n",
       "PC16  8.252890e-17  8.040493e-17  1.339975e-16 -1.789170e-16  9.467595e-17   \n",
       "PC17 -3.382917e-17  3.085346e-16  1.202289e-16 -3.131850e-16  1.963092e-16   \n",
       "PC18  2.070143e-17  2.601271e-16  1.694321e-16 -5.443680e-18  1.141440e-16   \n",
       "\n",
       "               PC6           PC7           PC8           PC9          PC10  \\\n",
       "PC1   1.667827e-16  2.250690e-16 -1.062138e-16 -2.227367e-16 -7.737609e-17   \n",
       "PC2   8.643205e-16 -8.437016e-17 -3.956971e-16 -2.524045e-16 -3.471686e-16   \n",
       "PC3   2.752455e-16  1.276838e-16 -3.158037e-16  2.629095e-18  3.912861e-17   \n",
       "PC4   4.396407e-16  1.072416e-16 -7.339125e-16 -7.427931e-17  6.298959e-17   \n",
       "PC5   3.115162e-16  6.622006e-17  4.639082e-18 -3.312033e-16 -1.830468e-16   \n",
       "PC6   1.000000e+00 -3.422648e-16 -1.399280e-15 -3.138080e-16  8.370413e-17   \n",
       "PC7  -3.422648e-16  1.000000e+00 -5.021384e-17 -1.819120e-16 -2.695306e-16   \n",
       "PC8  -1.399280e-15 -5.021384e-17  1.000000e+00  6.665492e-17  2.999660e-16   \n",
       "PC9  -3.138080e-16 -1.819120e-16  6.665492e-17  1.000000e+00 -2.000714e-16   \n",
       "PC10  8.370413e-17 -2.695306e-16  2.999660e-16 -2.000714e-16  1.000000e+00   \n",
       "PC11 -6.712424e-17 -7.661339e-17 -9.875549e-17 -1.963385e-16 -2.525183e-16   \n",
       "PC12  4.997190e-16  3.166290e-17  1.238105e-16  7.239591e-17  5.993731e-16   \n",
       "PC13 -3.375793e-17  2.725025e-17 -2.151663e-16  4.329682e-16 -2.637974e-16   \n",
       "PC14 -3.829462e-16 -4.415881e-16 -2.140879e-16  3.303994e-16 -2.978498e-16   \n",
       "PC15 -1.029608e-16 -4.506193e-17  2.084979e-17 -8.821699e-17  4.015807e-17   \n",
       "PC16  6.569757e-16 -2.957832e-16  1.860542e-16 -2.367714e-17  1.105142e-16   \n",
       "PC17 -5.082794e-17  2.956142e-17 -1.817381e-16 -1.313792e-16 -1.616538e-16   \n",
       "PC18  3.618022e-16 -1.836188e-16  4.762468e-18  8.922029e-17 -1.056875e-16   \n",
       "\n",
       "              PC11          PC12          PC13          PC14          PC15  \\\n",
       "PC1  -1.750562e-16  1.541958e-16  4.398101e-17  2.957996e-17  2.746828e-16   \n",
       "PC2   1.563393e-16  1.988135e-16  1.176741e-16 -2.789326e-16 -6.655669e-17   \n",
       "PC3   1.663050e-16  7.141456e-17 -2.550861e-16 -1.660130e-16 -1.411149e-16   \n",
       "PC4   7.137839e-16 -2.446055e-16 -2.518594e-16 -1.791569e-17  7.025128e-18   \n",
       "PC5   7.714658e-16  1.398378e-16  1.884973e-16 -1.189518e-16 -1.441448e-16   \n",
       "PC6  -6.712424e-17  4.997190e-16 -3.375793e-17 -3.829462e-16 -1.029608e-16   \n",
       "PC7  -7.661339e-17  3.166290e-17  2.725025e-17 -4.415881e-16 -4.506193e-17   \n",
       "PC8  -9.875549e-17  1.238105e-16 -2.151663e-16 -2.140879e-16  2.084979e-17   \n",
       "PC9  -1.963385e-16  7.239591e-17  4.329682e-16  3.303994e-16 -8.821699e-17   \n",
       "PC10 -2.525183e-16  5.993731e-16 -2.637974e-16 -2.978498e-16  4.015807e-17   \n",
       "PC11  1.000000e+00  3.307548e-16  1.952894e-16  5.501759e-16  9.452877e-17   \n",
       "PC12  3.307548e-16  1.000000e+00  9.778087e-16  2.135712e-15  2.972138e-16   \n",
       "PC13  1.952894e-16  9.778087e-16  1.000000e+00  3.073449e-15  1.666884e-16   \n",
       "PC14  5.501759e-16  2.135712e-15  3.073449e-15  1.000000e+00  6.566004e-17   \n",
       "PC15  9.452877e-17  2.972138e-16  1.666884e-16  6.566004e-17  1.000000e+00   \n",
       "PC16  9.429838e-17 -2.131630e-16 -3.427580e-16 -1.176072e-18 -2.408302e-17   \n",
       "PC17 -9.810271e-17 -1.345540e-16 -3.405158e-16 -4.220515e-16 -8.078708e-16   \n",
       "PC18  7.741928e-17  1.587673e-16  1.103609e-16 -1.800084e-17 -1.387294e-16   \n",
       "\n",
       "              PC16          PC17          PC18  \n",
       "PC1   8.252890e-17 -3.382917e-17  2.070143e-17  \n",
       "PC2   8.040493e-17  3.085346e-16  2.601271e-16  \n",
       "PC3   1.339975e-16  1.202289e-16  1.694321e-16  \n",
       "PC4  -1.789170e-16 -3.131850e-16 -5.443680e-18  \n",
       "PC5   9.467595e-17  1.963092e-16  1.141440e-16  \n",
       "PC6   6.569757e-16 -5.082794e-17  3.618022e-16  \n",
       "PC7  -2.957832e-16  2.956142e-17 -1.836188e-16  \n",
       "PC8   1.860542e-16 -1.817381e-16  4.762468e-18  \n",
       "PC9  -2.367714e-17 -1.313792e-16  8.922029e-17  \n",
       "PC10  1.105142e-16 -1.616538e-16 -1.056875e-16  \n",
       "PC11  9.429838e-17 -9.810271e-17  7.741928e-17  \n",
       "PC12 -2.131630e-16 -1.345540e-16  1.587673e-16  \n",
       "PC13 -3.427580e-16 -3.405158e-16  1.103609e-16  \n",
       "PC14 -1.176072e-18 -4.220515e-16 -1.800084e-17  \n",
       "PC15 -2.408302e-17 -8.078708e-16 -1.387294e-16  \n",
       "PC16  1.000000e+00  4.640492e-16 -3.623291e-16  \n",
       "PC17  4.640492e-16  1.000000e+00 -1.105622e-16  \n",
       "PC18 -3.623291e-16 -1.105622e-16  1.000000e+00  "
      ]
     },
     "execution_count": 53,
     "metadata": {},
     "output_type": "execute_result"
    }
   ],
   "source": [
    "data_pca18.corr()"
   ]
  },
  {
   "cell_type": "markdown",
   "id": "efba1484",
   "metadata": {},
   "source": [
    "From the above correlation table, we can find that the pairwise correlations between two components are close to zeros. This means that all these components are orthogonal (not correlated). There is no multicollinearity among principal components."
   ]
  },
  {
   "cell_type": "code",
   "execution_count": null,
   "id": "fa63a552",
   "metadata": {},
   "outputs": [],
   "source": []
  }
 ],
 "metadata": {
  "kernelspec": {
   "display_name": "Python 3 (ipykernel)",
   "language": "python",
   "name": "python3"
  },
  "language_info": {
   "codemirror_mode": {
    "name": "ipython",
    "version": 3
   },
   "file_extension": ".py",
   "mimetype": "text/x-python",
   "name": "python",
   "nbconvert_exporter": "python",
   "pygments_lexer": "ipython3",
   "version": "3.9.7"
  }
 },
 "nbformat": 4,
 "nbformat_minor": 5
}
