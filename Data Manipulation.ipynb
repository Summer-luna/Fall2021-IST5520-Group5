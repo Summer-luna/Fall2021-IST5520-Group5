{
 "cells": [
  {
   "cell_type": "code",
   "execution_count": 822,
   "id": "c1faf8bd",
   "metadata": {},
   "outputs": [],
   "source": [
    "import pandas as pd\n",
    "import numpy as np\n",
    "import seaborn as sb\n",
    "import matplotlib.pyplot as plt"
   ]
  },
  {
   "cell_type": "code",
   "execution_count": 823,
   "id": "ea8ec796",
   "metadata": {},
   "outputs": [
    {
     "name": "stdout",
     "output_type": "stream",
     "text": [
      "<class 'pandas.core.frame.DataFrame'>\n",
      "RangeIndex: 6366 entries, 0 to 6365\n",
      "Data columns (total 74 columns):\n",
      " #   Column                                        Non-Null Count  Dtype  \n",
      "---  ------                                        --------------  -----  \n",
      " 0   id                                            6366 non-null   int64  \n",
      " 1   listing_url                                   6366 non-null   object \n",
      " 2   scrape_id                                     6366 non-null   float64\n",
      " 3   last_scraped                                  6366 non-null   object \n",
      " 4   name                                          6366 non-null   object \n",
      " 5   description                                   6352 non-null   object \n",
      " 6   neighborhood_overview                         4663 non-null   object \n",
      " 7   picture_url                                   6366 non-null   object \n",
      " 8   host_id                                       6366 non-null   int64  \n",
      " 9   host_url                                      6366 non-null   object \n",
      " 10  host_name                                     6365 non-null   object \n",
      " 11  host_since                                    6365 non-null   object \n",
      " 12  host_location                                 6355 non-null   object \n",
      " 13  host_about                                    4381 non-null   object \n",
      " 14  host_response_time                            5187 non-null   object \n",
      " 15  host_response_rate                            5187 non-null   object \n",
      " 16  host_acceptance_rate                          5381 non-null   object \n",
      " 17  host_is_superhost                             6365 non-null   object \n",
      " 18  host_thumbnail_url                            6365 non-null   object \n",
      " 19  host_picture_url                              6365 non-null   object \n",
      " 20  host_neighbourhood                            5869 non-null   object \n",
      " 21  host_listings_count                           6365 non-null   float64\n",
      " 22  host_total_listings_count                     6365 non-null   float64\n",
      " 23  host_verifications                            6366 non-null   object \n",
      " 24  host_has_profile_pic                          6365 non-null   object \n",
      " 25  host_identity_verified                        6365 non-null   object \n",
      " 26  neighbourhood                                 4664 non-null   object \n",
      " 27  neighbourhood_cleansed                        6366 non-null   object \n",
      " 28  neighbourhood_group_cleansed                  0 non-null      float64\n",
      " 29  latitude                                      6366 non-null   float64\n",
      " 30  longitude                                     6366 non-null   float64\n",
      " 31  property_type                                 6366 non-null   object \n",
      " 32  room_type                                     6366 non-null   object \n",
      " 33  accommodates                                  6366 non-null   int64  \n",
      " 34  bathrooms                                     0 non-null      float64\n",
      " 35  bathrooms_text                                6362 non-null   object \n",
      " 36  bedrooms                                      5829 non-null   float64\n",
      " 37  beds                                          6285 non-null   float64\n",
      " 38  amenities                                     6366 non-null   object \n",
      " 39  price                                         6366 non-null   object \n",
      " 40  minimum_nights                                6366 non-null   int64  \n",
      " 41  maximum_nights                                6366 non-null   int64  \n",
      " 42  minimum_minimum_nights                        6366 non-null   int64  \n",
      " 43  maximum_minimum_nights                        6366 non-null   int64  \n",
      " 44  minimum_maximum_nights                        6366 non-null   int64  \n",
      " 45  maximum_maximum_nights                        6366 non-null   int64  \n",
      " 46  minimum_nights_avg_ntm                        6366 non-null   float64\n",
      " 47  maximum_nights_avg_ntm                        6366 non-null   float64\n",
      " 48  calendar_updated                              0 non-null      float64\n",
      " 49  has_availability                              6366 non-null   object \n",
      " 50  availability_30                               6366 non-null   int64  \n",
      " 51  availability_60                               6366 non-null   int64  \n",
      " 52  availability_90                               6366 non-null   int64  \n",
      " 53  availability_365                              6366 non-null   int64  \n",
      " 54  calendar_last_scraped                         6366 non-null   object \n",
      " 55  number_of_reviews                             6366 non-null   int64  \n",
      " 56  number_of_reviews_ltm                         6366 non-null   int64  \n",
      " 57  number_of_reviews_l30d                        6366 non-null   int64  \n",
      " 58  first_review                                  5282 non-null   object \n",
      " 59  last_review                                   5282 non-null   object \n",
      " 60  review_scores_rating                          5282 non-null   float64\n",
      " 61  review_scores_accuracy                        5246 non-null   float64\n",
      " 62  review_scores_cleanliness                     5246 non-null   float64\n",
      " 63  review_scores_checkin                         5245 non-null   float64\n",
      " 64  review_scores_communication                   5244 non-null   float64\n",
      " 65  review_scores_location                        5245 non-null   float64\n",
      " 66  review_scores_value                           5245 non-null   float64\n",
      " 67  license                                       6031 non-null   object \n",
      " 68  instant_bookable                              6366 non-null   object \n",
      " 69  calculated_host_listings_count                6366 non-null   int64  \n",
      " 70  calculated_host_listings_count_entire_homes   6366 non-null   int64  \n",
      " 71  calculated_host_listings_count_private_rooms  6366 non-null   int64  \n",
      " 72  calculated_host_listings_count_shared_rooms   6366 non-null   int64  \n",
      " 73  reviews_per_month                             5282 non-null   float64\n",
      "dtypes: float64(20), int64(20), object(34)\n",
      "memory usage: 3.6+ MB\n"
     ]
    }
   ],
   "source": [
    "# Read in data\n",
    "dat = pd.read_csv('listings.csv')\n",
    "dat.info()"
   ]
  },
  {
   "cell_type": "markdown",
   "id": "ffb15a6d",
   "metadata": {},
   "source": [
    "<h2>Data Cleansing</h2>\n",
    "\n",
    "<h4>Drop off irrelevant columns:</h4>\n",
    "\n",
    "* URLs will not be useful\n",
    "* Empty columns: 'neighborhood_group_cleansed', 'bathrooms', 'calendar_updated'\n",
    "* 'neighborhood' column only has blank values or 'Chicago, Illinois, United States' value\n",
    "* 'scrape_id' is all the same value and not useful for our model\n",
    "* 'last_scraped', 'calendar_last_scraped', 'host_neighbourhood' will not be useful"
   ]
  },
  {
   "cell_type": "code",
   "execution_count": 824,
   "id": "c7ed3178",
   "metadata": {},
   "outputs": [],
   "source": [
    "dat = dat.drop(['scrape_id','listing_url','host_url','host_thumbnail_url','host_picture_url','picture_url',\n",
    "               'neighbourhood_group_cleansed','bathrooms','calendar_updated','neighbourhood',\n",
    "               'last_scraped', 'calendar_last_scraped','host_neighbourhood'], axis = 1)"
   ]
  },
  {
   "cell_type": "markdown",
   "id": "89528a5a",
   "metadata": {},
   "source": [
    "<h4>Bathrooms Column:</h4>\n",
    "\n",
    "First, we will split the bathroom text column into two: one containing a float variable for the number of bathrooms, and the other an additional descriptor of the bathroom (shared/private)."
   ]
  },
  {
   "cell_type": "code",
   "execution_count": 825,
   "id": "41b003bf",
   "metadata": {},
   "outputs": [
    {
     "data": {
      "text/plain": [
       "array([ 1. ,  2. ,  1.5,  3. ,  2.5,  0. ,  3.5, 11. ,  5. ,  nan,  0.5,\n",
       "        4. ,  4.5, 11.5,  6.5,  7. ,  5.5,  6. ,  8. , 12.5, 10. ],\n",
       "      dtype=float32)"
      ]
     },
     "execution_count": 825,
     "metadata": {},
     "output_type": "execute_result"
    }
   ],
   "source": [
    "# First let us make all text lowercase to simplify string manipulation\n",
    "\n",
    "dat['bathrooms_text'] = dat['bathrooms_text'].str.lower()\n",
    "\n",
    "# Next we must convert any text 'half' to 0.5 so it is included in the subsequent number extraction\n",
    "\n",
    "dat['bathrooms_text'] = dat['bathrooms_text'].str.replace(r'(half)+','0.5', regex = True)\n",
    "\n",
    "# Then extract the numbers into the new 'bathrooms' float32 data type column\n",
    "\n",
    "dat['bathrooms'] = dat['bathrooms_text'].str.extract(r'(\\d+\\.?\\d*)', expand = True).astype(np.float32)\n",
    "\n",
    "# This leaves us with only float and NaN values\n",
    "\n",
    "dat['bathrooms'].unique()"
   ]
  },
  {
   "cell_type": "markdown",
   "id": "e278c2c0",
   "metadata": {},
   "source": [
    "<h4>Bathrooms Text Column:</h4>"
   ]
  },
  {
   "cell_type": "code",
   "execution_count": 826,
   "id": "97a7fabc",
   "metadata": {},
   "outputs": [],
   "source": [
    "# Remove the text 'bath', unnecessary symbols and whitespace, then extract the leftover text\n",
    "\n",
    "dat['bathrooms_text'] = dat['bathrooms_text'].str.replace(r'(bath)s*|(Bath)s*','', regex = True)\n",
    "dat['bathrooms_text'] = dat['bathrooms_text'].str.replace(r' +|\\.+|\\-+','', regex = True)\n",
    "dat['bathrooms_text'] = dat['bathrooms_text'].str.extract(r'(\\D+)')"
   ]
  },
  {
   "cell_type": "code",
   "execution_count": 827,
   "id": "710870d3",
   "metadata": {},
   "outputs": [
    {
     "data": {
      "text/plain": [
       "array(['shared', nan, 'private'], dtype=object)"
      ]
     },
     "execution_count": 827,
     "metadata": {},
     "output_type": "execute_result"
    }
   ],
   "source": [
    "dat['bathrooms_text'].unique()"
   ]
  },
  {
   "cell_type": "markdown",
   "id": "8071219d",
   "metadata": {},
   "source": [
    "This leaves us with only two bathroom descriptors, 'shared' and 'private', as well as NaN values."
   ]
  },
  {
   "cell_type": "markdown",
   "id": "8de8817c",
   "metadata": {},
   "source": [
    "<h4>DateTime Columns:</h4>"
   ]
  },
  {
   "cell_type": "code",
   "execution_count": 828,
   "id": "76914b95",
   "metadata": {},
   "outputs": [],
   "source": [
    "# Convert dates to datetime data type\n",
    "\n",
    "dat['host_since'] = pd.to_datetime(dat['host_since'])\n",
    "dat['first_review'] = pd.to_datetime(dat['first_review'])\n",
    "dat['last_review'] = pd.to_datetime(dat['last_review'])"
   ]
  },
  {
   "cell_type": "markdown",
   "id": "7a63a979",
   "metadata": {},
   "source": [
    "<h4>Rate Columns:</h4>"
   ]
  },
  {
   "cell_type": "code",
   "execution_count": 829,
   "id": "7ca96f35",
   "metadata": {},
   "outputs": [],
   "source": [
    "# Convert host response rate and acceptance rate columns into float\n",
    "\n",
    "dat['host_response_rate'] = dat['host_response_rate'].str.replace(r'(\\D)','', regex = True).astype(np.float32)/100\n",
    "dat['host_acceptance_rate'] = dat['host_acceptance_rate'].str.replace(r'(\\D)','', regex = True).astype(np.float32)/100"
   ]
  },
  {
   "cell_type": "markdown",
   "id": "eb596136",
   "metadata": {},
   "source": [
    "<h4>Boolean Columns:</h4>"
   ]
  },
  {
   "cell_type": "code",
   "execution_count": 830,
   "id": "41586694",
   "metadata": {},
   "outputs": [],
   "source": [
    "# Map superhost column to boolean values\n",
    "\n",
    "# Need to check this, I think empty values are converted to False:\n",
    "dat['host_is_superhost'] = dat['host_is_superhost'].map({'t':True,'f':False}).astype('bool')\n",
    "\n",
    "# These do not convert to boolean, but keeps the empty/nan values:\n",
    "dat['host_has_profile_pic'] = dat['host_has_profile_pic'].map({'t':True,'f':False})\n",
    "dat['host_identity_verified'] = dat['host_identity_verified'].map({'t':True,'f':False})"
   ]
  },
  {
   "cell_type": "code",
   "execution_count": 831,
   "id": "cf10b60e",
   "metadata": {},
   "outputs": [
    {
     "data": {
      "text/plain": [
       "array([ True, False])"
      ]
     },
     "execution_count": 831,
     "metadata": {},
     "output_type": "execute_result"
    }
   ],
   "source": [
    "dat['host_is_superhost'].unique()"
   ]
  },
  {
   "cell_type": "markdown",
   "id": "eba7b617",
   "metadata": {},
   "source": [
    "<h4>Price Column:</h4>\n",
    "\n",
    "Convert the price column to a float data type."
   ]
  },
  {
   "cell_type": "code",
   "execution_count": 832,
   "id": "985ed1b9",
   "metadata": {},
   "outputs": [],
   "source": [
    "dat['price'] = dat['price'].str.extract(r'(\\d+\\.\\d+)').astype(np.float64)"
   ]
  },
  {
   "cell_type": "markdown",
   "id": "458b2132",
   "metadata": {},
   "source": [
    "<h4>Host Dataset</h4>\n",
    "\n",
    "Create a separate host dataset"
   ]
  },
  {
   "cell_type": "code",
   "execution_count": 833,
   "id": "4401a31d",
   "metadata": {},
   "outputs": [
    {
     "name": "stdout",
     "output_type": "stream",
     "text": [
      "<class 'pandas.core.frame.DataFrame'>\n",
      "Int64Index: 3371 entries, 0 to 6360\n",
      "Data columns (total 14 columns):\n",
      " #   Column                     Non-Null Count  Dtype         \n",
      "---  ------                     --------------  -----         \n",
      " 0   host_id                    3371 non-null   int64         \n",
      " 1   host_name                  3370 non-null   object        \n",
      " 2   host_since                 3370 non-null   datetime64[ns]\n",
      " 3   host_location              3362 non-null   object        \n",
      " 4   host_about                 2115 non-null   object        \n",
      " 5   host_response_time         2425 non-null   object        \n",
      " 6   host_response_rate         2425 non-null   float32       \n",
      " 7   host_acceptance_rate       2567 non-null   float32       \n",
      " 8   host_is_superhost          3371 non-null   bool          \n",
      " 9   host_listings_count        3370 non-null   float64       \n",
      " 10  host_total_listings_count  3370 non-null   float64       \n",
      " 11  host_verifications         3371 non-null   object        \n",
      " 12  host_has_profile_pic       3370 non-null   object        \n",
      " 13  host_identity_verified     3370 non-null   object        \n",
      "dtypes: bool(1), datetime64[ns](1), float32(2), float64(2), int64(1), object(7)\n",
      "memory usage: 345.7+ KB\n"
     ]
    }
   ],
   "source": [
    "host_dat = dat[['host_id','host_name','host_since','host_location','host_about','host_response_time',\n",
    "                  'host_response_rate','host_acceptance_rate','host_is_superhost','host_listings_count',\n",
    "                  'host_total_listings_count','host_verifications','host_has_profile_pic',\n",
    "                  'host_identity_verified']]\n",
    "host_dat = host_dat.drop_duplicates(subset=['host_id'])\n",
    "host_dat.info()"
   ]
  },
  {
   "cell_type": "markdown",
   "id": "eec3096d",
   "metadata": {},
   "source": [
    "Then drop off these columns (except host_id) from the listings dataset."
   ]
  },
  {
   "cell_type": "code",
   "execution_count": 834,
   "id": "1c18ed03",
   "metadata": {},
   "outputs": [
    {
     "name": "stdout",
     "output_type": "stream",
     "text": [
      "<class 'pandas.core.frame.DataFrame'>\n",
      "RangeIndex: 6366 entries, 0 to 6365\n",
      "Data columns (total 49 columns):\n",
      " #   Column                                        Non-Null Count  Dtype         \n",
      "---  ------                                        --------------  -----         \n",
      " 0   id                                            6366 non-null   int64         \n",
      " 1   name                                          6366 non-null   object        \n",
      " 2   description                                   6352 non-null   object        \n",
      " 3   neighborhood_overview                         4663 non-null   object        \n",
      " 4   host_id                                       6366 non-null   int64         \n",
      " 5   neighbourhood_cleansed                        6366 non-null   object        \n",
      " 6   latitude                                      6366 non-null   float64       \n",
      " 7   longitude                                     6366 non-null   float64       \n",
      " 8   property_type                                 6366 non-null   object        \n",
      " 9   room_type                                     6366 non-null   object        \n",
      " 10  accommodates                                  6366 non-null   int64         \n",
      " 11  bathrooms_text                                1587 non-null   object        \n",
      " 12  bedrooms                                      5829 non-null   float64       \n",
      " 13  beds                                          6285 non-null   float64       \n",
      " 14  amenities                                     6366 non-null   object        \n",
      " 15  price                                         6366 non-null   float64       \n",
      " 16  minimum_nights                                6366 non-null   int64         \n",
      " 17  maximum_nights                                6366 non-null   int64         \n",
      " 18  minimum_minimum_nights                        6366 non-null   int64         \n",
      " 19  maximum_minimum_nights                        6366 non-null   int64         \n",
      " 20  minimum_maximum_nights                        6366 non-null   int64         \n",
      " 21  maximum_maximum_nights                        6366 non-null   int64         \n",
      " 22  minimum_nights_avg_ntm                        6366 non-null   float64       \n",
      " 23  maximum_nights_avg_ntm                        6366 non-null   float64       \n",
      " 24  has_availability                              6366 non-null   object        \n",
      " 25  availability_30                               6366 non-null   int64         \n",
      " 26  availability_60                               6366 non-null   int64         \n",
      " 27  availability_90                               6366 non-null   int64         \n",
      " 28  availability_365                              6366 non-null   int64         \n",
      " 29  number_of_reviews                             6366 non-null   int64         \n",
      " 30  number_of_reviews_ltm                         6366 non-null   int64         \n",
      " 31  number_of_reviews_l30d                        6366 non-null   int64         \n",
      " 32  first_review                                  5282 non-null   datetime64[ns]\n",
      " 33  last_review                                   5282 non-null   datetime64[ns]\n",
      " 34  review_scores_rating                          5282 non-null   float64       \n",
      " 35  review_scores_accuracy                        5246 non-null   float64       \n",
      " 36  review_scores_cleanliness                     5246 non-null   float64       \n",
      " 37  review_scores_checkin                         5245 non-null   float64       \n",
      " 38  review_scores_communication                   5244 non-null   float64       \n",
      " 39  review_scores_location                        5245 non-null   float64       \n",
      " 40  review_scores_value                           5245 non-null   float64       \n",
      " 41  license                                       6031 non-null   object        \n",
      " 42  instant_bookable                              6366 non-null   object        \n",
      " 43  calculated_host_listings_count                6366 non-null   int64         \n",
      " 44  calculated_host_listings_count_entire_homes   6366 non-null   int64         \n",
      " 45  calculated_host_listings_count_private_rooms  6366 non-null   int64         \n",
      " 46  calculated_host_listings_count_shared_rooms   6366 non-null   int64         \n",
      " 47  reviews_per_month                             5282 non-null   float64       \n",
      " 48  bathrooms                                     6362 non-null   float32       \n",
      "dtypes: datetime64[ns](2), float32(1), float64(15), int64(20), object(11)\n",
      "memory usage: 2.4+ MB\n"
     ]
    }
   ],
   "source": [
    "dat = dat.drop(['host_name','host_since','host_location','host_about','host_response_time',\n",
    "                  'host_response_rate','host_acceptance_rate','host_is_superhost','host_listings_count',\n",
    "                  'host_total_listings_count','host_verifications','host_has_profile_pic',\n",
    "                  'host_identity_verified'], axis = 1)\n",
    "dat.info()"
   ]
  },
  {
   "cell_type": "markdown",
   "id": "b56dec2d",
   "metadata": {},
   "source": [
    "<h2>Exploring the Datasets</h2>"
   ]
  },
  {
   "cell_type": "markdown",
   "id": "f9e0f101",
   "metadata": {},
   "source": [
    "Let us explore the data in the dataset.\n",
    "\n",
    "<h4>Unique Hosts</h4>\n",
    "\n",
    "First, how many unique hosts are there?"
   ]
  },
  {
   "cell_type": "code",
   "execution_count": 835,
   "id": "abd2950f",
   "metadata": {},
   "outputs": [
    {
     "data": {
      "text/plain": [
       "3371"
      ]
     },
     "execution_count": 835,
     "metadata": {},
     "output_type": "execute_result"
    }
   ],
   "source": [
    "dat['host_id'].nunique()"
   ]
  },
  {
   "cell_type": "code",
   "execution_count": 836,
   "id": "b81e103e",
   "metadata": {},
   "outputs": [
    {
     "data": {
      "text/plain": [
       "True"
      ]
     },
     "execution_count": 836,
     "metadata": {},
     "output_type": "execute_result"
    }
   ],
   "source": [
    "dat['host_id'].nunique() == len(host_dat['host_id'])"
   ]
  },
  {
   "cell_type": "code",
   "execution_count": 837,
   "id": "4abb982a",
   "metadata": {},
   "outputs": [
    {
     "data": {
      "text/plain": [
       "count    3371.000000\n",
       "mean        1.888460\n",
       "std         5.548921\n",
       "min         1.000000\n",
       "25%         1.000000\n",
       "50%         1.000000\n",
       "75%         1.000000\n",
       "max       260.000000\n",
       "Name: host_id, dtype: float64"
      ]
     },
     "execution_count": 837,
     "metadata": {},
     "output_type": "execute_result"
    }
   ],
   "source": [
    "listings_by_host = dat['host_id'].value_counts()\n",
    "listings_by_host.describe()"
   ]
  },
  {
   "cell_type": "code",
   "execution_count": 838,
   "id": "c6ed7a20",
   "metadata": {},
   "outputs": [
    {
     "data": {
      "text/plain": [
       "799"
      ]
     },
     "execution_count": 838,
     "metadata": {},
     "output_type": "execute_result"
    }
   ],
   "source": [
    "listings_by_host[listings_by_host > 1].count()"
   ]
  },
  {
   "cell_type": "markdown",
   "id": "56e9f13d",
   "metadata": {},
   "source": [
    "Here we can see that out of the 3,371 unique hosts, 799 have more than one listing in the Chicago area.  Interestingly, there is one host id with 260 listings.\n",
    "\n",
    "Let's graph this data to see the distribution of hosts with differing numbers of listings."
   ]
  },
  {
   "cell_type": "code",
   "execution_count": 839,
   "id": "473ae38e",
   "metadata": {},
   "outputs": [
    {
     "data": {
      "image/png": "[encoded data removed]",
      "text/plain": [
       "<Figure size 1296x432 with 1 Axes>"
      ]
     },
     "metadata": {
      "needs_background": "light"
     },
     "output_type": "display_data"
    }
   ],
   "source": [
    "plt.figure(figsize=(18,6))\n",
    "p = sb.countplot(x=listings_by_host, order=sorted(listings_by_host.unique()))\n",
    "p.set_xticklabels(labels=p.get_xticklabels(),rotation=90)\n",
    "p.bar_label(p.containers[0])\n",
    "plt.xlabel('Number of Listings by Host')\n",
    "plt.show()"
   ]
  },
  {
   "cell_type": "markdown",
   "id": "48162f2e",
   "metadata": {},
   "source": [
    "<h4>Host Response Time</h4>\n"
   ]
  },
  {
   "cell_type": "code",
   "execution_count": 840,
   "id": "fc2489bb",
   "metadata": {},
   "outputs": [
    {
     "data": {
      "text/plain": [
       "array(['within an hour', 'within a few hours', nan, 'within a day',\n",
       "       'a few days or more'], dtype=object)"
      ]
     },
     "execution_count": 840,
     "metadata": {},
     "output_type": "execute_result"
    }
   ],
   "source": [
    "host_dat['host_response_time'].unique()"
   ]
  },
  {
   "cell_type": "code",
   "execution_count": 841,
   "id": "b62c75e8",
   "metadata": {},
   "outputs": [
    {
     "data": {
      "image/png": "[encoded data removed]",
      "text/plain": [
       "<Figure size 432x432 with 1 Axes>"
      ]
     },
     "metadata": {
      "needs_background": "light"
     },
     "output_type": "display_data"
    }
   ],
   "source": [
    "plt.figure(figsize=(6,6))\n",
    "p = sb.countplot(x='host_response_time',data = host_dat)\n",
    "p.set_xticklabels(labels=p.get_xticklabels(),rotation=45)\n",
    "p.bar_label(p.containers[0])\n",
    "plt.xlabel('Host Response Time')\n",
    "plt.show()"
   ]
  },
  {
   "cell_type": "markdown",
   "id": "a11025ef",
   "metadata": {},
   "source": [
    "Here we can see there are four categories for the response time.  Let's define a system for rating the response time by using floating numbers.  We will assign the values in hours and as follows:\n",
    " * 'within an hour' = 1 hour\n",
    " * 'within a few hours' = 5 hours\n",
    " * 'within a day' = 24 hours\n",
    " * 'a few days or more' = 48 hours"
   ]
  },
  {
   "cell_type": "code",
   "execution_count": 842,
   "id": "84a39c9d",
   "metadata": {},
   "outputs": [],
   "source": [
    "host_dat['host_response_time_float'] = host_dat['host_response_time'].map({'within an hour':1,'within a few hours':5,\n",
    "                                                           'within a day':24,'a few days or more':48}).astype(np.float32)"
   ]
  },
  {
   "cell_type": "markdown",
   "id": "3973debc",
   "metadata": {},
   "source": [
    "<h4>Host Verifications</h4>\n",
    "\n",
    "In order to simplify future analysis, let us count the number of verifications the host has and list this in a new column.\n",
    "\n",
    "We can see that the verifications are separated by a comma, so we will use this to count the number of verifications each host has"
   ]
  },
  {
   "cell_type": "code",
   "execution_count": 843,
   "id": "4b8de230",
   "metadata": {},
   "outputs": [
    {
     "data": {
      "text/html": [
       "<div>\n",
       "<style scoped>\n",
       "    .dataframe tbody tr th:only-of-type {\n",
       "        vertical-align: middle;\n",
       "    }\n",
       "\n",
       "    .dataframe tbody tr th {\n",
       "        vertical-align: top;\n",
       "    }\n",
       "\n",
       "    .dataframe thead th {\n",
       "        text-align: right;\n",
       "    }\n",
       "</style>\n",
       "<table border=\"1\" class=\"dataframe\">\n",
       "  <thead>\n",
       "    <tr style=\"text-align: right;\">\n",
       "      <th></th>\n",
       "      <th>host_verifications</th>\n",
       "      <th>no_of_verif</th>\n",
       "    </tr>\n",
       "  </thead>\n",
       "  <tbody>\n",
       "    <tr>\n",
       "      <th>0</th>\n",
       "      <td>['email', 'phone', 'reviews', 'manual_offline'...</td>\n",
       "      <td>6</td>\n",
       "    </tr>\n",
       "    <tr>\n",
       "      <th>1</th>\n",
       "      <td>['email', 'phone', 'reviews', 'jumio', 'offlin...</td>\n",
       "      <td>8</td>\n",
       "    </tr>\n",
       "    <tr>\n",
       "      <th>2</th>\n",
       "      <td>['email', 'phone', 'reviews', 'jumio', 'govern...</td>\n",
       "      <td>6</td>\n",
       "    </tr>\n",
       "    <tr>\n",
       "      <th>3</th>\n",
       "      <td>['email', 'phone', 'reviews', 'offline_governm...</td>\n",
       "      <td>7</td>\n",
       "    </tr>\n",
       "    <tr>\n",
       "      <th>4</th>\n",
       "      <td>['email', 'phone', 'facebook', 'reviews', 'kba']</td>\n",
       "      <td>5</td>\n",
       "    </tr>\n",
       "  </tbody>\n",
       "</table>\n",
       "</div>"
      ],
      "text/plain": [
       "                                  host_verifications  no_of_verif\n",
       "0  ['email', 'phone', 'reviews', 'manual_offline'...            6\n",
       "1  ['email', 'phone', 'reviews', 'jumio', 'offlin...            8\n",
       "2  ['email', 'phone', 'reviews', 'jumio', 'govern...            6\n",
       "3  ['email', 'phone', 'reviews', 'offline_governm...            7\n",
       "4   ['email', 'phone', 'facebook', 'reviews', 'kba']            5"
      ]
     },
     "execution_count": 843,
     "metadata": {},
     "output_type": "execute_result"
    }
   ],
   "source": [
    "host_dat['no_of_verif'] = host_dat['host_verifications'].str.count(r',') + 1\n",
    "host_dat.loc[:, ['host_verifications','no_of_verif']].head()"
   ]
  },
  {
   "cell_type": "markdown",
   "id": "4e7a55e3",
   "metadata": {},
   "source": [
    "In order to catch any hosts that have no verifications, we will set the number of verifications to zero where the host_verifications = 'None'."
   ]
  },
  {
   "cell_type": "code",
   "execution_count": 844,
   "id": "ba14642d",
   "metadata": {},
   "outputs": [
    {
     "data": {
      "text/html": [
       "<div>\n",
       "<style scoped>\n",
       "    .dataframe tbody tr th:only-of-type {\n",
       "        vertical-align: middle;\n",
       "    }\n",
       "\n",
       "    .dataframe tbody tr th {\n",
       "        vertical-align: top;\n",
       "    }\n",
       "\n",
       "    .dataframe thead th {\n",
       "        text-align: right;\n",
       "    }\n",
       "</style>\n",
       "<table border=\"1\" class=\"dataframe\">\n",
       "  <thead>\n",
       "    <tr style=\"text-align: right;\">\n",
       "      <th></th>\n",
       "      <th>host_id</th>\n",
       "      <th>host_name</th>\n",
       "      <th>host_since</th>\n",
       "      <th>host_location</th>\n",
       "      <th>host_about</th>\n",
       "      <th>host_response_time</th>\n",
       "      <th>host_response_rate</th>\n",
       "      <th>host_acceptance_rate</th>\n",
       "      <th>host_is_superhost</th>\n",
       "      <th>host_listings_count</th>\n",
       "      <th>host_total_listings_count</th>\n",
       "      <th>host_verifications</th>\n",
       "      <th>host_has_profile_pic</th>\n",
       "      <th>host_identity_verified</th>\n",
       "      <th>host_response_time_float</th>\n",
       "      <th>no_of_verif</th>\n",
       "    </tr>\n",
       "  </thead>\n",
       "  <tbody>\n",
       "    <tr>\n",
       "      <th>6313</th>\n",
       "      <td>175128252</td>\n",
       "      <td>NaN</td>\n",
       "      <td>NaT</td>\n",
       "      <td>NaN</td>\n",
       "      <td>NaN</td>\n",
       "      <td>NaN</td>\n",
       "      <td>NaN</td>\n",
       "      <td>NaN</td>\n",
       "      <td>True</td>\n",
       "      <td>NaN</td>\n",
       "      <td>NaN</td>\n",
       "      <td>None</td>\n",
       "      <td>NaN</td>\n",
       "      <td>NaN</td>\n",
       "      <td>NaN</td>\n",
       "      <td>0</td>\n",
       "    </tr>\n",
       "  </tbody>\n",
       "</table>\n",
       "</div>"
      ],
      "text/plain": [
       "        host_id host_name host_since host_location host_about  \\\n",
       "6313  175128252       NaN        NaT           NaN        NaN   \n",
       "\n",
       "     host_response_time  host_response_rate  host_acceptance_rate  \\\n",
       "6313                NaN                 NaN                   NaN   \n",
       "\n",
       "      host_is_superhost  host_listings_count  host_total_listings_count  \\\n",
       "6313               True                  NaN                        NaN   \n",
       "\n",
       "     host_verifications host_has_profile_pic host_identity_verified  \\\n",
       "6313               None                  NaN                    NaN   \n",
       "\n",
       "      host_response_time_float  no_of_verif  \n",
       "6313                       NaN            0  "
      ]
     },
     "execution_count": 844,
     "metadata": {},
     "output_type": "execute_result"
    }
   ],
   "source": [
    "host_dat['no_of_verif'] = np.where(host_dat['host_verifications'] == 'None', 0, host_dat['no_of_verif'])\n",
    "host_dat[host_dat['no_of_verif'] == 0]"
   ]
  },
  {
   "cell_type": "code",
   "execution_count": 845,
   "id": "7de2a9c2",
   "metadata": {},
   "outputs": [
    {
     "data": {
      "text/plain": [
       "count    3371.000000\n",
       "mean        5.169386\n",
       "std         2.168857\n",
       "min         0.000000\n",
       "25%         4.000000\n",
       "50%         5.000000\n",
       "75%         7.000000\n",
       "max        12.000000\n",
       "Name: no_of_verif, dtype: float64"
      ]
     },
     "execution_count": 845,
     "metadata": {},
     "output_type": "execute_result"
    }
   ],
   "source": [
    "host_dat['no_of_verif'].describe()"
   ]
  },
  {
   "cell_type": "markdown",
   "id": "dfe69ae8",
   "metadata": {},
   "source": [
    "On average, hosts have about 5 different identity verifications. "
   ]
  },
  {
   "cell_type": "code",
   "execution_count": 846,
   "id": "60e4977b",
   "metadata": {},
   "outputs": [
    {
     "data": {
      "image/png": "[encoded data removed]",
      "text/plain": [
       "<Figure size 1296x432 with 1 Axes>"
      ]
     },
     "metadata": {
      "needs_background": "light"
     },
     "output_type": "display_data"
    }
   ],
   "source": [
    "plt.figure(figsize=(18,6))\n",
    "p = sb.countplot(x='no_of_verif',data = host_dat)\n",
    "p.bar_label(p.containers[0])\n",
    "plt.xlabel('Nomber of Identity Verifications by Host')\n",
    "plt.show()"
   ]
  },
  {
   "cell_type": "markdown",
   "id": "6436c9ed",
   "metadata": {},
   "source": [
    "<h4>Amenities</h4>\n",
    "\n",
    "Repeat the same process for number of amenities listed."
   ]
  },
  {
   "cell_type": "code",
   "execution_count": 847,
   "id": "c77d6087",
   "metadata": {},
   "outputs": [
    {
     "data": {
      "text/html": [
       "<div>\n",
       "<style scoped>\n",
       "    .dataframe tbody tr th:only-of-type {\n",
       "        vertical-align: middle;\n",
       "    }\n",
       "\n",
       "    .dataframe tbody tr th {\n",
       "        vertical-align: top;\n",
       "    }\n",
       "\n",
       "    .dataframe thead th {\n",
       "        text-align: right;\n",
       "    }\n",
       "</style>\n",
       "<table border=\"1\" class=\"dataframe\">\n",
       "  <thead>\n",
       "    <tr style=\"text-align: right;\">\n",
       "      <th></th>\n",
       "      <th>amenities</th>\n",
       "      <th>no_of_amen</th>\n",
       "    </tr>\n",
       "  </thead>\n",
       "  <tbody>\n",
       "    <tr>\n",
       "      <th>0</th>\n",
       "      <td>[\"Hot water kettle\", \"Wine glasses\", \"Kitchen\"...</td>\n",
       "      <td>51</td>\n",
       "    </tr>\n",
       "    <tr>\n",
       "      <th>1</th>\n",
       "      <td>[\"Kitchen\", \"Free street parking\", \"Long term ...</td>\n",
       "      <td>30</td>\n",
       "    </tr>\n",
       "    <tr>\n",
       "      <th>2</th>\n",
       "      <td>[\"Kitchen\", \"Free street parking\", \"Shampoo\", ...</td>\n",
       "      <td>33</td>\n",
       "    </tr>\n",
       "    <tr>\n",
       "      <th>3</th>\n",
       "      <td>[\"Kitchen\", \"Long term stays allowed\", \"Smoke ...</td>\n",
       "      <td>31</td>\n",
       "    </tr>\n",
       "    <tr>\n",
       "      <th>4</th>\n",
       "      <td>[\"Free street parking\", \"Shampoo\", \"Smoke alar...</td>\n",
       "      <td>22</td>\n",
       "    </tr>\n",
       "  </tbody>\n",
       "</table>\n",
       "</div>"
      ],
      "text/plain": [
       "                                           amenities  no_of_amen\n",
       "0  [\"Hot water kettle\", \"Wine glasses\", \"Kitchen\"...          51\n",
       "1  [\"Kitchen\", \"Free street parking\", \"Long term ...          30\n",
       "2  [\"Kitchen\", \"Free street parking\", \"Shampoo\", ...          33\n",
       "3  [\"Kitchen\", \"Long term stays allowed\", \"Smoke ...          31\n",
       "4  [\"Free street parking\", \"Shampoo\", \"Smoke alar...          22"
      ]
     },
     "execution_count": 847,
     "metadata": {},
     "output_type": "execute_result"
    }
   ],
   "source": [
    "dat['no_of_amen'] = dat['amenities'].str.count(r',') + 1\n",
    "dat.loc[:, ['amenities','no_of_amen']].head()"
   ]
  },
  {
   "cell_type": "code",
   "execution_count": 848,
   "id": "a7118e5f",
   "metadata": {},
   "outputs": [
    {
     "data": {
      "text/plain": [
       "count    6366.000000\n",
       "mean       31.138549\n",
       "std        10.615332\n",
       "min         1.000000\n",
       "25%        24.000000\n",
       "50%        31.000000\n",
       "75%        37.000000\n",
       "max        82.000000\n",
       "Name: no_of_amen, dtype: float64"
      ]
     },
     "execution_count": 848,
     "metadata": {},
     "output_type": "execute_result"
    }
   ],
   "source": [
    "dat['no_of_amen'].describe()"
   ]
  },
  {
   "cell_type": "code",
   "execution_count": 855,
   "id": "26ed39bb",
   "metadata": {},
   "outputs": [
    {
     "data": {
      "image/png": "[encoded data removed]",
      "text/plain": [
       "<Figure size 1296x432 with 1 Axes>"
      ]
     },
     "metadata": {
      "needs_background": "light"
     },
     "output_type": "display_data"
    }
   ],
   "source": [
    "plt.figure(figsize=(18,6))\n",
    "p = sb.countplot(x='no_of_amen',data = dat)\n",
    "p.set_xticklabels(labels=p.get_xticklabels(),rotation=90)\n",
    "plt.xlabel('Nomber of Amenities Listed by the Host')\n",
    "plt.show()"
   ]
  },
  {
   "cell_type": "code",
   "execution_count": 850,
   "id": "16a53a3a",
   "metadata": {},
   "outputs": [
    {
     "name": "stdout",
     "output_type": "stream",
     "text": [
      "<class 'pandas.core.frame.DataFrame'>\n",
      "RangeIndex: 6366 entries, 0 to 6365\n",
      "Data columns (total 50 columns):\n",
      " #   Column                                        Non-Null Count  Dtype         \n",
      "---  ------                                        --------------  -----         \n",
      " 0   id                                            6366 non-null   int64         \n",
      " 1   name                                          6366 non-null   object        \n",
      " 2   description                                   6352 non-null   object        \n",
      " 3   neighborhood_overview                         4663 non-null   object        \n",
      " 4   host_id                                       6366 non-null   int64         \n",
      " 5   neighbourhood_cleansed                        6366 non-null   object        \n",
      " 6   latitude                                      6366 non-null   float64       \n",
      " 7   longitude                                     6366 non-null   float64       \n",
      " 8   property_type                                 6366 non-null   object        \n",
      " 9   room_type                                     6366 non-null   object        \n",
      " 10  accommodates                                  6366 non-null   int64         \n",
      " 11  bathrooms_text                                1587 non-null   object        \n",
      " 12  bedrooms                                      5829 non-null   float64       \n",
      " 13  beds                                          6285 non-null   float64       \n",
      " 14  amenities                                     6366 non-null   object        \n",
      " 15  price                                         6366 non-null   float64       \n",
      " 16  minimum_nights                                6366 non-null   int64         \n",
      " 17  maximum_nights                                6366 non-null   int64         \n",
      " 18  minimum_minimum_nights                        6366 non-null   int64         \n",
      " 19  maximum_minimum_nights                        6366 non-null   int64         \n",
      " 20  minimum_maximum_nights                        6366 non-null   int64         \n",
      " 21  maximum_maximum_nights                        6366 non-null   int64         \n",
      " 22  minimum_nights_avg_ntm                        6366 non-null   float64       \n",
      " 23  maximum_nights_avg_ntm                        6366 non-null   float64       \n",
      " 24  has_availability                              6366 non-null   object        \n",
      " 25  availability_30                               6366 non-null   int64         \n",
      " 26  availability_60                               6366 non-null   int64         \n",
      " 27  availability_90                               6366 non-null   int64         \n",
      " 28  availability_365                              6366 non-null   int64         \n",
      " 29  number_of_reviews                             6366 non-null   int64         \n",
      " 30  number_of_reviews_ltm                         6366 non-null   int64         \n",
      " 31  number_of_reviews_l30d                        6366 non-null   int64         \n",
      " 32  first_review                                  5282 non-null   datetime64[ns]\n",
      " 33  last_review                                   5282 non-null   datetime64[ns]\n",
      " 34  review_scores_rating                          5282 non-null   float64       \n",
      " 35  review_scores_accuracy                        5246 non-null   float64       \n",
      " 36  review_scores_cleanliness                     5246 non-null   float64       \n",
      " 37  review_scores_checkin                         5245 non-null   float64       \n",
      " 38  review_scores_communication                   5244 non-null   float64       \n",
      " 39  review_scores_location                        5245 non-null   float64       \n",
      " 40  review_scores_value                           5245 non-null   float64       \n",
      " 41  license                                       6031 non-null   object        \n",
      " 42  instant_bookable                              6366 non-null   object        \n",
      " 43  calculated_host_listings_count                6366 non-null   int64         \n",
      " 44  calculated_host_listings_count_entire_homes   6366 non-null   int64         \n",
      " 45  calculated_host_listings_count_private_rooms  6366 non-null   int64         \n",
      " 46  calculated_host_listings_count_shared_rooms   6366 non-null   int64         \n",
      " 47  reviews_per_month                             5282 non-null   float64       \n",
      " 48  bathrooms                                     6362 non-null   float32       \n",
      " 49  no_of_amen                                    6366 non-null   int64         \n",
      "dtypes: datetime64[ns](2), float32(1), float64(15), int64(21), object(11)\n",
      "memory usage: 2.4+ MB\n"
     ]
    }
   ],
   "source": [
    "dat.info()"
   ]
  },
  {
   "cell_type": "code",
   "execution_count": 854,
   "id": "a2a61df6",
   "metadata": {},
   "outputs": [
    {
     "name": "stdout",
     "output_type": "stream",
     "text": [
      "<class 'pandas.core.frame.DataFrame'>\n",
      "Int64Index: 5090 entries, 0 to 6300\n",
      "Data columns (total 50 columns):\n",
      " #   Column                                        Non-Null Count  Dtype         \n",
      "---  ------                                        --------------  -----         \n",
      " 0   id                                            5090 non-null   int64         \n",
      " 1   name                                          5090 non-null   object        \n",
      " 2   description                                   5090 non-null   object        \n",
      " 3   neighborhood_overview                         4066 non-null   object        \n",
      " 4   host_id                                       5090 non-null   int64         \n",
      " 5   neighbourhood_cleansed                        5090 non-null   object        \n",
      " 6   latitude                                      5090 non-null   float64       \n",
      " 7   longitude                                     5090 non-null   float64       \n",
      " 8   property_type                                 5090 non-null   object        \n",
      " 9   room_type                                     5090 non-null   object        \n",
      " 10  accommodates                                  5090 non-null   int64         \n",
      " 11  bathrooms_text                                1339 non-null   object        \n",
      " 12  bedrooms                                      4814 non-null   float64       \n",
      " 13  beds                                          5075 non-null   float64       \n",
      " 14  amenities                                     5090 non-null   object        \n",
      " 15  price                                         5090 non-null   float64       \n",
      " 16  minimum_nights                                5090 non-null   int64         \n",
      " 17  maximum_nights                                5090 non-null   int64         \n",
      " 18  minimum_minimum_nights                        5090 non-null   int64         \n",
      " 19  maximum_minimum_nights                        5090 non-null   int64         \n",
      " 20  minimum_maximum_nights                        5090 non-null   int64         \n",
      " 21  maximum_maximum_nights                        5090 non-null   int64         \n",
      " 22  minimum_nights_avg_ntm                        5090 non-null   float64       \n",
      " 23  maximum_nights_avg_ntm                        5090 non-null   float64       \n",
      " 24  has_availability                              5090 non-null   object        \n",
      " 25  availability_30                               5090 non-null   int64         \n",
      " 26  availability_60                               5090 non-null   int64         \n",
      " 27  availability_90                               5090 non-null   int64         \n",
      " 28  availability_365                              5090 non-null   int64         \n",
      " 29  number_of_reviews                             5090 non-null   int64         \n",
      " 30  number_of_reviews_ltm                         5090 non-null   int64         \n",
      " 31  number_of_reviews_l30d                        5090 non-null   int64         \n",
      " 32  first_review                                  5090 non-null   datetime64[ns]\n",
      " 33  last_review                                   5090 non-null   datetime64[ns]\n",
      " 34  review_scores_rating                          5090 non-null   float64       \n",
      " 35  review_scores_accuracy                        5090 non-null   float64       \n",
      " 36  review_scores_cleanliness                     5090 non-null   float64       \n",
      " 37  review_scores_checkin                         5090 non-null   float64       \n",
      " 38  review_scores_communication                   5090 non-null   float64       \n",
      " 39  review_scores_location                        5090 non-null   float64       \n",
      " 40  review_scores_value                           5090 non-null   float64       \n",
      " 41  license                                       5030 non-null   object        \n",
      " 42  instant_bookable                              5090 non-null   object        \n",
      " 43  calculated_host_listings_count                5090 non-null   int64         \n",
      " 44  calculated_host_listings_count_entire_homes   5090 non-null   int64         \n",
      " 45  calculated_host_listings_count_private_rooms  5090 non-null   int64         \n",
      " 46  calculated_host_listings_count_shared_rooms   5090 non-null   int64         \n",
      " 47  reviews_per_month                             5090 non-null   float64       \n",
      " 48  bathrooms                                     5090 non-null   float32       \n",
      " 49  no_of_amen                                    5090 non-null   int64         \n",
      "dtypes: datetime64[ns](2), float32(1), float64(15), int64(21), object(11)\n",
      "memory usage: 2.0+ MB\n"
     ]
    }
   ],
   "source": [
    "dat = dat.dropna(thresh=len(dat.columns)-2)\n",
    "dat.info()"
   ]
  },
  {
   "cell_type": "code",
   "execution_count": 852,
   "id": "c0de320f",
   "metadata": {},
   "outputs": [
    {
     "name": "stdout",
     "output_type": "stream",
     "text": [
      "<class 'pandas.core.frame.DataFrame'>\n",
      "Int64Index: 3371 entries, 0 to 6360\n",
      "Data columns (total 16 columns):\n",
      " #   Column                     Non-Null Count  Dtype         \n",
      "---  ------                     --------------  -----         \n",
      " 0   host_id                    3371 non-null   int64         \n",
      " 1   host_name                  3370 non-null   object        \n",
      " 2   host_since                 3370 non-null   datetime64[ns]\n",
      " 3   host_location              3362 non-null   object        \n",
      " 4   host_about                 2115 non-null   object        \n",
      " 5   host_response_time         2425 non-null   object        \n",
      " 6   host_response_rate         2425 non-null   float32       \n",
      " 7   host_acceptance_rate       2567 non-null   float32       \n",
      " 8   host_is_superhost          3371 non-null   bool          \n",
      " 9   host_listings_count        3370 non-null   float64       \n",
      " 10  host_total_listings_count  3370 non-null   float64       \n",
      " 11  host_verifications         3371 non-null   object        \n",
      " 12  host_has_profile_pic       3370 non-null   object        \n",
      " 13  host_identity_verified     3370 non-null   object        \n",
      " 14  host_response_time_float   2425 non-null   float32       \n",
      " 15  no_of_verif                3371 non-null   int64         \n",
      "dtypes: bool(1), datetime64[ns](1), float32(3), float64(2), int64(2), object(7)\n",
      "memory usage: 514.2+ KB\n"
     ]
    }
   ],
   "source": [
    "host_dat.info()"
   ]
  },
  {
   "cell_type": "code",
   "execution_count": 853,
   "id": "96735407",
   "metadata": {},
   "outputs": [
    {
     "name": "stdout",
     "output_type": "stream",
     "text": [
      "<class 'pandas.core.frame.DataFrame'>\n",
      "Int64Index: 2425 entries, 0 to 6347\n",
      "Data columns (total 16 columns):\n",
      " #   Column                     Non-Null Count  Dtype         \n",
      "---  ------                     --------------  -----         \n",
      " 0   host_id                    2425 non-null   int64         \n",
      " 1   host_name                  2425 non-null   object        \n",
      " 2   host_since                 2425 non-null   datetime64[ns]\n",
      " 3   host_location              2421 non-null   object        \n",
      " 4   host_about                 1557 non-null   object        \n",
      " 5   host_response_time         2425 non-null   object        \n",
      " 6   host_response_rate         2425 non-null   float32       \n",
      " 7   host_acceptance_rate       2368 non-null   float32       \n",
      " 8   host_is_superhost          2425 non-null   bool          \n",
      " 9   host_listings_count        2425 non-null   float64       \n",
      " 10  host_total_listings_count  2425 non-null   float64       \n",
      " 11  host_verifications         2425 non-null   object        \n",
      " 12  host_has_profile_pic       2425 non-null   object        \n",
      " 13  host_identity_verified     2425 non-null   object        \n",
      " 14  host_response_time_float   2425 non-null   float32       \n",
      " 15  no_of_verif                2425 non-null   int64         \n",
      "dtypes: bool(1), datetime64[ns](1), float32(3), float64(2), int64(2), object(7)\n",
      "memory usage: 277.1+ KB\n"
     ]
    }
   ],
   "source": [
    "host_dat = host_dat.dropna(thresh=len(host_dat.columns)-2)\n",
    "host_dat.info()"
   ]
  },
  {
   "cell_type": "code",
   "execution_count": null,
   "id": "a3ac7cf0",
   "metadata": {},
   "outputs": [],
   "source": []
  }
 ],
 "metadata": {
  "kernelspec": {
   "display_name": "Python 3 (ipykernel)",
   "language": "python",
   "name": "python3"
  },
  "language_info": {
   "codemirror_mode": {
    "name": "ipython",
    "version": 3
   },
   "file_extension": ".py",
   "mimetype": "text/x-python",
   "name": "python",
   "nbconvert_exporter": "python",
   "pygments_lexer": "ipython3",
   "version": "3.9.7"
  }
 },
 "nbformat": 4,
 "nbformat_minor": 5
}
