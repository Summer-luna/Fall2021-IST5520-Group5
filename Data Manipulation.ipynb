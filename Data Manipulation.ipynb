{
 "cells": [
  {
   "cell_type": "markdown",
   "id": "25b4bdfb",
   "metadata": {},
   "source": [
    "<h2>Data Manipulation</h2>"
   ]
  },
  {
   "cell_type": "markdown",
   "id": "dc24a804",
   "metadata": {},
   "source": [
    "In order to start the data analysis, we will need to import a variety of packages."
   ]
  },
  {
   "cell_type": "code",
   "execution_count": 120,
   "id": "c1faf8bd",
   "metadata": {},
   "outputs": [],
   "source": [
    "import pandas as pd\n",
    "import numpy as np\n",
    "import seaborn as sb\n",
    "import matplotlib.pyplot as plt\n",
    "import math\n",
    "import statsmodels.api as sm\n",
    "from sklearn.preprocessing import scale\n",
    "from sklearn.decomposition import PCA"
   ]
  },
  {
   "cell_type": "markdown",
   "id": "c8354f20",
   "metadata": {},
   "source": [
    "We will read in the data, which was downloaded from the Airbnb website and look at its info."
   ]
  },
  {
   "cell_type": "code",
   "execution_count": 121,
   "id": "ea8ec796",
   "metadata": {},
   "outputs": [
    {
     "name": "stdout",
     "output_type": "stream",
     "text": [
      "<class 'pandas.core.frame.DataFrame'>\n",
      "RangeIndex: 6366 entries, 0 to 6365\n",
      "Data columns (total 74 columns):\n",
      " #   Column                                        Non-Null Count  Dtype  \n",
      "---  ------                                        --------------  -----  \n",
      " 0   id                                            6366 non-null   int64  \n",
      " 1   listing_url                                   6366 non-null   object \n",
      " 2   scrape_id                                     6366 non-null   float64\n",
      " 3   last_scraped                                  6366 non-null   object \n",
      " 4   name                                          6366 non-null   object \n",
      " 5   description                                   6352 non-null   object \n",
      " 6   neighborhood_overview                         4663 non-null   object \n",
      " 7   picture_url                                   6366 non-null   object \n",
      " 8   host_id                                       6366 non-null   int64  \n",
      " 9   host_url                                      6366 non-null   object \n",
      " 10  host_name                                     6365 non-null   object \n",
      " 11  host_since                                    6365 non-null   object \n",
      " 12  host_location                                 6355 non-null   object \n",
      " 13  host_about                                    4381 non-null   object \n",
      " 14  host_response_time                            5187 non-null   object \n",
      " 15  host_response_rate                            5187 non-null   object \n",
      " 16  host_acceptance_rate                          5381 non-null   object \n",
      " 17  host_is_superhost                             6365 non-null   object \n",
      " 18  host_thumbnail_url                            6365 non-null   object \n",
      " 19  host_picture_url                              6365 non-null   object \n",
      " 20  host_neighbourhood                            5869 non-null   object \n",
      " 21  host_listings_count                           6365 non-null   float64\n",
      " 22  host_total_listings_count                     6365 non-null   float64\n",
      " 23  host_verifications                            6366 non-null   object \n",
      " 24  host_has_profile_pic                          6365 non-null   object \n",
      " 25  host_identity_verified                        6365 non-null   object \n",
      " 26  neighbourhood                                 4664 non-null   object \n",
      " 27  neighbourhood_cleansed                        6366 non-null   object \n",
      " 28  neighbourhood_group_cleansed                  0 non-null      float64\n",
      " 29  latitude                                      6366 non-null   float64\n",
      " 30  longitude                                     6366 non-null   float64\n",
      " 31  property_type                                 6366 non-null   object \n",
      " 32  room_type                                     6366 non-null   object \n",
      " 33  accommodates                                  6366 non-null   int64  \n",
      " 34  bathrooms                                     0 non-null      float64\n",
      " 35  bathrooms_text                                6362 non-null   object \n",
      " 36  bedrooms                                      5829 non-null   float64\n",
      " 37  beds                                          6285 non-null   float64\n",
      " 38  amenities                                     6366 non-null   object \n",
      " 39  price                                         6366 non-null   object \n",
      " 40  minimum_nights                                6366 non-null   int64  \n",
      " 41  maximum_nights                                6366 non-null   int64  \n",
      " 42  minimum_minimum_nights                        6366 non-null   int64  \n",
      " 43  maximum_minimum_nights                        6366 non-null   int64  \n",
      " 44  minimum_maximum_nights                        6366 non-null   int64  \n",
      " 45  maximum_maximum_nights                        6366 non-null   int64  \n",
      " 46  minimum_nights_avg_ntm                        6366 non-null   float64\n",
      " 47  maximum_nights_avg_ntm                        6366 non-null   float64\n",
      " 48  calendar_updated                              0 non-null      float64\n",
      " 49  has_availability                              6366 non-null   object \n",
      " 50  availability_30                               6366 non-null   int64  \n",
      " 51  availability_60                               6366 non-null   int64  \n",
      " 52  availability_90                               6366 non-null   int64  \n",
      " 53  availability_365                              6366 non-null   int64  \n",
      " 54  calendar_last_scraped                         6366 non-null   object \n",
      " 55  number_of_reviews                             6366 non-null   int64  \n",
      " 56  number_of_reviews_ltm                         6366 non-null   int64  \n",
      " 57  number_of_reviews_l30d                        6366 non-null   int64  \n",
      " 58  first_review                                  5282 non-null   object \n",
      " 59  last_review                                   5282 non-null   object \n",
      " 60  review_scores_rating                          5282 non-null   float64\n",
      " 61  review_scores_accuracy                        5246 non-null   float64\n",
      " 62  review_scores_cleanliness                     5246 non-null   float64\n",
      " 63  review_scores_checkin                         5245 non-null   float64\n",
      " 64  review_scores_communication                   5244 non-null   float64\n",
      " 65  review_scores_location                        5245 non-null   float64\n",
      " 66  review_scores_value                           5245 non-null   float64\n",
      " 67  license                                       6031 non-null   object \n",
      " 68  instant_bookable                              6366 non-null   object \n",
      " 69  calculated_host_listings_count                6366 non-null   int64  \n",
      " 70  calculated_host_listings_count_entire_homes   6366 non-null   int64  \n",
      " 71  calculated_host_listings_count_private_rooms  6366 non-null   int64  \n",
      " 72  calculated_host_listings_count_shared_rooms   6366 non-null   int64  \n",
      " 73  reviews_per_month                             5282 non-null   float64\n",
      "dtypes: float64(20), int64(20), object(34)\n",
      "memory usage: 3.6+ MB\n"
     ]
    }
   ],
   "source": [
    "# Read in data\n",
    "dat = pd.read_csv('listings.csv')\n",
    "dat.info()"
   ]
  },
  {
   "cell_type": "markdown",
   "id": "dba48da2",
   "metadata": {},
   "source": [
    "We can see that there are 74 columns, and 6,366 observations, however some values are missing in various columns."
   ]
  },
  {
   "cell_type": "markdown",
   "id": "ffb15a6d",
   "metadata": {},
   "source": [
    "<h2>Data Cleansing</h2>\n",
    "\n",
    "<h4>Drop off irrelevant columns:</h4>\n",
    "\n",
    "* URLs will not be useful\n",
    "* Empty columns: 'neighborhood_group_cleansed', 'bathrooms', 'calendar_updated'\n",
    "* 'neighborhood' column only has blank values or 'Chicago, Illinois, United States' value, making it useless\n",
    "* 'scrape_id' is all the same value and not useful for our needs\n",
    "* 'last_scraped', 'calendar_last_scraped', 'host_neighbourhood' will not be useful"
   ]
  },
  {
   "cell_type": "code",
   "execution_count": 122,
   "id": "c7ed3178",
   "metadata": {},
   "outputs": [],
   "source": [
    "dat = dat.drop(['scrape_id','listing_url','host_url','host_thumbnail_url','host_picture_url','picture_url',\n",
    "               'neighbourhood_group_cleansed','bathrooms','calendar_updated','neighbourhood',\n",
    "               'last_scraped', 'calendar_last_scraped','host_neighbourhood'], axis = 1)"
   ]
  },
  {
   "cell_type": "markdown",
   "id": "89528a5a",
   "metadata": {},
   "source": [
    "<h4>Bathrooms Column:</h4>"
   ]
  },
  {
   "cell_type": "code",
   "execution_count": 123,
   "id": "e775bd17",
   "metadata": {},
   "outputs": [
    {
     "data": {
      "text/plain": [
       "4918           1 bath\n",
       "5420           1 bath\n",
       "2809           1 bath\n",
       "3206        1.5 baths\n",
       "3035           1 bath\n",
       "6346           1 bath\n",
       "4325          2 baths\n",
       "1153           1 bath\n",
       "3382    1 shared bath\n",
       "937            1 bath\n",
       "Name: bathrooms_text, dtype: object"
      ]
     },
     "execution_count": 123,
     "metadata": {},
     "output_type": "execute_result"
    }
   ],
   "source": [
    "dat['bathrooms_text'].sample(10)"
   ]
  },
  {
   "cell_type": "markdown",
   "id": "08be853d",
   "metadata": {},
   "source": [
    "Looking at the 'bathrooms_text' column, we see that it is not very usable in its current state.  We will split the bathroom text column into two: one containing a float variable for the number of bathrooms, and the other an additional descriptor of the bathroom (shared/private)."
   ]
  },
  {
   "cell_type": "code",
   "execution_count": 124,
   "id": "41b003bf",
   "metadata": {},
   "outputs": [
    {
     "data": {
      "text/plain": [
       "array([ 1. ,  2. ,  1.5,  3. ,  2.5,  0. ,  3.5, 11. ,  5. ,  nan,  0.5,\n",
       "        4. ,  4.5, 11.5,  6.5,  7. ,  5.5,  6. ,  8. , 12.5, 10. ],\n",
       "      dtype=float32)"
      ]
     },
     "execution_count": 124,
     "metadata": {},
     "output_type": "execute_result"
    }
   ],
   "source": [
    "# First let us make all text lowercase to simplify string manipulation\n",
    "dat['bathrooms_text'] = dat['bathrooms_text'].str.lower()\n",
    "\n",
    "# Next we must convert any text 'half' to 0.5 so it is included in the subsequent number extraction\n",
    "dat['bathrooms_text'] = dat['bathrooms_text'].str.replace(r'(half)+','0.5', regex = True)\n",
    "\n",
    "# Then extract the numbers into the new 'bathrooms' float32 data type column\n",
    "dat['bathrooms'] = dat['bathrooms_text'].str.extract(r'(\\d+\\.?\\d*)', expand = True).astype(np.float32)\n",
    "\n",
    "# This leaves us with only float and NaN values\n",
    "dat['bathrooms'].unique()"
   ]
  },
  {
   "cell_type": "markdown",
   "id": "5825260f",
   "metadata": {},
   "source": [
    "Above are the unique values left for the float variable in the column 'bathrooms'."
   ]
  },
  {
   "cell_type": "markdown",
   "id": "e278c2c0",
   "metadata": {},
   "source": [
    "<h4>Bathrooms Text Column:</h4>"
   ]
  },
  {
   "cell_type": "code",
   "execution_count": 125,
   "id": "97a7fabc",
   "metadata": {},
   "outputs": [
    {
     "data": {
      "text/plain": [
       "1587"
      ]
     },
     "execution_count": 125,
     "metadata": {},
     "output_type": "execute_result"
    }
   ],
   "source": [
    "# Remove the text 'bath', unnecessary symbols and whitespace, then extract the leftover text\n",
    "\n",
    "dat['bathrooms_text'] = dat['bathrooms_text'].str.replace(r'(bath)s*|(Bath)s*','', regex = True)\n",
    "dat['bathrooms_text'] = dat['bathrooms_text'].str.replace(r' +|\\.+|\\-+','', regex = True)\n",
    "dat['bathrooms_text'] = dat['bathrooms_text'].str.extract(r'(\\D+)')\n",
    "dat['bathrooms_text'].count()"
   ]
  },
  {
   "cell_type": "code",
   "execution_count": 126,
   "id": "710870d3",
   "metadata": {},
   "outputs": [
    {
     "data": {
      "text/plain": [
       "array(['shared', nan, 'private'], dtype=object)"
      ]
     },
     "execution_count": 126,
     "metadata": {},
     "output_type": "execute_result"
    }
   ],
   "source": [
    "dat['bathrooms_text'].unique()"
   ]
  },
  {
   "cell_type": "markdown",
   "id": "8071219d",
   "metadata": {},
   "source": [
    "This leaves us with only 1,587 observations with one of the bathroom descriptors, 'shared' or 'private'; the rest are missing values since the original data did not contain text for them."
   ]
  },
  {
   "cell_type": "markdown",
   "id": "8de8817c",
   "metadata": {},
   "source": [
    "<h4>DateTime Columns:</h4>\n",
    "\n",
    "Next, let's convert the datetime columns into the proper datatype."
   ]
  },
  {
   "cell_type": "code",
   "execution_count": 127,
   "id": "76914b95",
   "metadata": {},
   "outputs": [],
   "source": [
    "# Convert dates to datetime data type\n",
    "\n",
    "dat['host_since'] = pd.to_datetime(dat['host_since'])\n",
    "dat['first_review'] = pd.to_datetime(dat['first_review'])\n",
    "dat['last_review'] = pd.to_datetime(dat['last_review'])"
   ]
  },
  {
   "cell_type": "markdown",
   "id": "7a63a979",
   "metadata": {},
   "source": [
    "<h4>Rate Columns:</h4>"
   ]
  },
  {
   "cell_type": "code",
   "execution_count": 128,
   "id": "036a7ad6",
   "metadata": {},
   "outputs": [
    {
     "data": {
      "text/plain": [
       "4336    100%\n",
       "5305     99%\n",
       "4978    100%\n",
       "3780     67%\n",
       "4351    100%\n",
       "Name: host_response_rate, dtype: object"
      ]
     },
     "execution_count": 128,
     "metadata": {},
     "output_type": "execute_result"
    }
   ],
   "source": [
    "dat['host_response_rate'].sample(5)"
   ]
  },
  {
   "cell_type": "markdown",
   "id": "53201228",
   "metadata": {},
   "source": [
    "We can see that we will need to convert the percentage columns ('host_response_rate' and 'host_acceptance_rate') into float variables."
   ]
  },
  {
   "cell_type": "code",
   "execution_count": 129,
   "id": "7ca96f35",
   "metadata": {},
   "outputs": [
    {
     "data": {
      "text/plain": [
       "560     1.00\n",
       "3654     NaN\n",
       "3865     NaN\n",
       "5791    0.95\n",
       "3792    1.00\n",
       "Name: host_response_rate, dtype: float32"
      ]
     },
     "execution_count": 129,
     "metadata": {},
     "output_type": "execute_result"
    }
   ],
   "source": [
    "# Convert host response rate and acceptance rate columns into float\n",
    "\n",
    "dat['host_response_rate'] = dat['host_response_rate'].str.replace(r'(\\D)','', regex = True).astype(np.float32)/100\n",
    "dat['host_acceptance_rate'] = dat['host_acceptance_rate'].str.replace(r'(\\D)','', regex = True).astype(np.float32)/100\n",
    "dat['host_response_rate'].sample(5)"
   ]
  },
  {
   "cell_type": "markdown",
   "id": "eb596136",
   "metadata": {},
   "source": [
    "<h4>Boolean Columns:</h4>"
   ]
  },
  {
   "cell_type": "code",
   "execution_count": 130,
   "id": "e7fd59d3",
   "metadata": {},
   "outputs": [
    {
     "data": {
      "text/plain": [
       "array(['t', 'f', nan], dtype=object)"
      ]
     },
     "execution_count": 130,
     "metadata": {},
     "output_type": "execute_result"
    }
   ],
   "source": [
    "dat['host_is_superhost'].unique()"
   ]
  },
  {
   "cell_type": "markdown",
   "id": "84579ac9",
   "metadata": {},
   "source": [
    "We will convert the 't' and 'f' values to binary float values for later analysis, where 1 will mean \"True\"."
   ]
  },
  {
   "cell_type": "code",
   "execution_count": 131,
   "id": "41586694",
   "metadata": {},
   "outputs": [],
   "source": [
    "# Map superhost column to boolean values\n",
    "\n",
    "dat['host_is_superhost'] = dat['host_is_superhost'].map({'t':1,'f':0}).astype('float')\n",
    "dat['host_has_profile_pic'] = dat['host_has_profile_pic'].map({'t':1,'f':0}).astype('float')\n",
    "dat['host_identity_verified'] = dat['host_identity_verified'].map({'t':1,'f':0}).astype('float')"
   ]
  },
  {
   "cell_type": "code",
   "execution_count": 132,
   "id": "cf10b60e",
   "metadata": {},
   "outputs": [
    {
     "data": {
      "text/plain": [
       "array([ 1.,  0., nan])"
      ]
     },
     "execution_count": 132,
     "metadata": {},
     "output_type": "execute_result"
    }
   ],
   "source": [
    "dat['host_is_superhost'].unique()"
   ]
  },
  {
   "cell_type": "markdown",
   "id": "eba7b617",
   "metadata": {},
   "source": [
    "<h4>Price Column:</h4>\n",
    "\n",
    "Convert the price column to a float data type."
   ]
  },
  {
   "cell_type": "code",
   "execution_count": 133,
   "id": "985ed1b9",
   "metadata": {},
   "outputs": [],
   "source": [
    "dat['price'] = dat['price'].str.extract(r'(\\d+\\.\\d+)').astype(np.float64)"
   ]
  },
  {
   "cell_type": "code",
   "execution_count": 134,
   "id": "2ebf1094",
   "metadata": {
    "scrolled": true
   },
   "outputs": [
    {
     "data": {
      "text/plain": [
       "2922    431.0\n",
       "4607    120.0\n",
       "816      47.0\n",
       "2765    350.0\n",
       "2898     69.0\n",
       "Name: price, dtype: float64"
      ]
     },
     "execution_count": 134,
     "metadata": {},
     "output_type": "execute_result"
    }
   ],
   "source": [
    "dat['price'].sample(5)"
   ]
  },
  {
   "cell_type": "code",
   "execution_count": 135,
   "id": "2106f034",
   "metadata": {},
   "outputs": [
    {
     "data": {
      "text/plain": [
       "4189                   3128267277\n",
       "2468                 R17000020943\n",
       "3748                 R19000049436\n",
       "5943                          NaN\n",
       "283                  R17000018632\n",
       "3589                      2233058\n",
       "2609    City registration pending\n",
       "5463                 R21000061634\n",
       "714     City registration pending\n",
       "4289                 C17000009058\n",
       "1617                 R17000020515\n",
       "1922                 R19000040367\n",
       "3895             32+ Days Listing\n",
       "3683                 R19000048151\n",
       "704     City registration pending\n",
       "947                  R18000034100\n",
       "2066                 R19000047739\n",
       "251                  R17000013830\n",
       "6055    City registration pending\n",
       "1628                 R17000020477\n",
       "Name: license, dtype: object"
      ]
     },
     "execution_count": 135,
     "metadata": {},
     "output_type": "execute_result"
    }
   ],
   "source": [
    "dat['license'].sample(20)"
   ]
  },
  {
   "cell_type": "markdown",
   "id": "91195b49",
   "metadata": {},
   "source": [
    "It does not seem that the license column will be useful so we will drop it from the dataset."
   ]
  },
  {
   "cell_type": "code",
   "execution_count": 136,
   "id": "693b6213",
   "metadata": {},
   "outputs": [],
   "source": [
    "dat = dat.drop(['license'], axis=1)"
   ]
  },
  {
   "cell_type": "markdown",
   "id": "f9e0f101",
   "metadata": {},
   "source": [
    "<h2>Data Exploration and Visualization</h2>\n",
    "\n",
    "Let us explore the data in the dataset.\n",
    "\n",
    "<h4>Unique Hosts</h4>\n",
    "\n",
    "First, how many unique hosts are there?"
   ]
  },
  {
   "cell_type": "code",
   "execution_count": 137,
   "id": "abd2950f",
   "metadata": {},
   "outputs": [
    {
     "data": {
      "text/plain": [
       "3371"
      ]
     },
     "execution_count": 137,
     "metadata": {},
     "output_type": "execute_result"
    }
   ],
   "source": [
    "dat['host_id'].nunique()"
   ]
  },
  {
   "cell_type": "code",
   "execution_count": 138,
   "id": "4abb982a",
   "metadata": {},
   "outputs": [
    {
     "data": {
      "text/plain": [
       "count    3371.000000\n",
       "mean        1.888460\n",
       "std         5.548921\n",
       "min         1.000000\n",
       "25%         1.000000\n",
       "50%         1.000000\n",
       "75%         1.000000\n",
       "max       260.000000\n",
       "Name: host_id, dtype: float64"
      ]
     },
     "execution_count": 138,
     "metadata": {},
     "output_type": "execute_result"
    }
   ],
   "source": [
    "listings_by_host = dat['host_id'].value_counts()\n",
    "listings_by_host.describe()"
   ]
  },
  {
   "cell_type": "code",
   "execution_count": 139,
   "id": "c6ed7a20",
   "metadata": {},
   "outputs": [
    {
     "data": {
      "text/plain": [
       "799"
      ]
     },
     "execution_count": 139,
     "metadata": {},
     "output_type": "execute_result"
    }
   ],
   "source": [
    "listings_by_host[listings_by_host > 1].count()"
   ]
  },
  {
   "cell_type": "markdown",
   "id": "56e9f13d",
   "metadata": {},
   "source": [
    "Here we can see that out of the 3,371 unique hosts, 799 have more than one listing in the Chicago area.  Interestingly, there is one host id with 260 listings.\n",
    "\n",
    "Let's graph this data to see the distribution of hosts with differing numbers of listings."
   ]
  },
  {
   "cell_type": "code",
   "execution_count": 140,
   "id": "473ae38e",
   "metadata": {},
   "outputs": [
    {
     "data": {
      "image/png": "[encoded data removed]",
      "text/plain": [
       "<Figure size 1296x432 with 1 Axes>"
      ]
     },
     "metadata": {
      "needs_background": "light"
     },
     "output_type": "display_data"
    }
   ],
   "source": [
    "plt.figure(figsize=(18,6))\n",
    "p = sb.countplot(x=listings_by_host, order=sorted(listings_by_host.unique()))\n",
    "p.set_xticklabels(labels=p.get_xticklabels(),rotation=90)\n",
    "p.bar_label(p.containers[0])\n",
    "plt.xlabel('Number of Listings by Host')\n",
    "plt.show()"
   ]
  },
  {
   "cell_type": "markdown",
   "id": "48349abb",
   "metadata": {},
   "source": [
    "It is obvious that a vast majority of hosts have only one listing in the Chicago area."
   ]
  },
  {
   "cell_type": "markdown",
   "id": "48162f2e",
   "metadata": {},
   "source": [
    "<h4>Host Response Time</h4>\n"
   ]
  },
  {
   "cell_type": "code",
   "execution_count": 141,
   "id": "fc2489bb",
   "metadata": {},
   "outputs": [
    {
     "data": {
      "text/plain": [
       "array(['within an hour', 'within a few hours', nan, 'within a day',\n",
       "       'a few days or more'], dtype=object)"
      ]
     },
     "execution_count": 141,
     "metadata": {},
     "output_type": "execute_result"
    }
   ],
   "source": [
    "dat['host_response_time'].unique()"
   ]
  },
  {
   "cell_type": "code",
   "execution_count": 142,
   "id": "b62c75e8",
   "metadata": {},
   "outputs": [
    {
     "data": {
      "image/png": "[encoded data removed]",
      "text/plain": [
       "<Figure size 432x432 with 1 Axes>"
      ]
     },
     "metadata": {
      "needs_background": "light"
     },
     "output_type": "display_data"
    }
   ],
   "source": [
    "plt.figure(figsize=(6,6))\n",
    "p = sb.countplot(x='host_response_time',data = dat)\n",
    "p.set_xticklabels(labels=p.get_xticklabels(),rotation=45)\n",
    "p.bar_label(p.containers[0])\n",
    "plt.xlabel('Host Response Time')\n",
    "plt.show()"
   ]
  },
  {
   "cell_type": "markdown",
   "id": "a11025ef",
   "metadata": {},
   "source": [
    "Here we can see there are four categories for the response time.  Let's define a system for rating the response time by using floating numbers.  We will assign the values in hours and as follows:\n",
    " * 'within an hour' = 1 hour\n",
    " * 'within a few hours' = 5 hours\n",
    " * 'within a day' = 24 hours\n",
    " * 'a few days or more' = 48 hours"
   ]
  },
  {
   "cell_type": "code",
   "execution_count": 143,
   "id": "84a39c9d",
   "metadata": {},
   "outputs": [
    {
     "data": {
      "text/plain": [
       "array([ 1.,  5., nan, 24., 48.], dtype=float32)"
      ]
     },
     "execution_count": 143,
     "metadata": {},
     "output_type": "execute_result"
    }
   ],
   "source": [
    "dat['host_response_time_float'] = dat['host_response_time'].map({'within an hour':1,'within a few hours':5,\n",
    "                                                           'within a day':24,'a few days or more':48}).astype(np.float32)\n",
    "dat['host_response_time_float'].unique()"
   ]
  },
  {
   "cell_type": "markdown",
   "id": "3973debc",
   "metadata": {},
   "source": [
    "<h4>Host Verifications</h4>\n",
    "\n",
    "In order to simplify future analysis, let us count the number of verifications the host has and list this in a new column."
   ]
  },
  {
   "cell_type": "code",
   "execution_count": 144,
   "id": "bc6edec1",
   "metadata": {},
   "outputs": [
    {
     "data": {
      "text/plain": [
       "408     ['email', 'phone', 'facebook', 'reviews', 'jum...\n",
       "3623    ['email', 'phone', 'offline_government_id', 's...\n",
       "738                         ['email', 'phone', 'reviews']\n",
       "2713                                   ['email', 'phone']\n",
       "4688                                   ['email', 'phone']\n",
       "Name: host_verifications, dtype: object"
      ]
     },
     "execution_count": 144,
     "metadata": {},
     "output_type": "execute_result"
    }
   ],
   "source": [
    "dat['host_verifications'].sample(5)"
   ]
  },
  {
   "cell_type": "markdown",
   "id": "30d38643",
   "metadata": {},
   "source": [
    "We can see that the verifications are separated by a comma, so we will use this to count the number of verifications each host has."
   ]
  },
  {
   "cell_type": "code",
   "execution_count": 145,
   "id": "4b8de230",
   "metadata": {},
   "outputs": [
    {
     "data": {
      "text/html": [
       "<div>\n",
       "<style scoped>\n",
       "    .dataframe tbody tr th:only-of-type {\n",
       "        vertical-align: middle;\n",
       "    }\n",
       "\n",
       "    .dataframe tbody tr th {\n",
       "        vertical-align: top;\n",
       "    }\n",
       "\n",
       "    .dataframe thead th {\n",
       "        text-align: right;\n",
       "    }\n",
       "</style>\n",
       "<table border=\"1\" class=\"dataframe\">\n",
       "  <thead>\n",
       "    <tr style=\"text-align: right;\">\n",
       "      <th></th>\n",
       "      <th>host_verifications</th>\n",
       "      <th>no_of_verif</th>\n",
       "    </tr>\n",
       "  </thead>\n",
       "  <tbody>\n",
       "    <tr>\n",
       "      <th>0</th>\n",
       "      <td>['email', 'phone', 'reviews', 'manual_offline'...</td>\n",
       "      <td>6</td>\n",
       "    </tr>\n",
       "    <tr>\n",
       "      <th>1</th>\n",
       "      <td>['email', 'phone', 'reviews', 'jumio', 'offlin...</td>\n",
       "      <td>8</td>\n",
       "    </tr>\n",
       "    <tr>\n",
       "      <th>2</th>\n",
       "      <td>['email', 'phone', 'reviews', 'jumio', 'govern...</td>\n",
       "      <td>6</td>\n",
       "    </tr>\n",
       "    <tr>\n",
       "      <th>3</th>\n",
       "      <td>['email', 'phone', 'reviews', 'offline_governm...</td>\n",
       "      <td>7</td>\n",
       "    </tr>\n",
       "    <tr>\n",
       "      <th>4</th>\n",
       "      <td>['email', 'phone', 'facebook', 'reviews', 'kba']</td>\n",
       "      <td>5</td>\n",
       "    </tr>\n",
       "  </tbody>\n",
       "</table>\n",
       "</div>"
      ],
      "text/plain": [
       "                                  host_verifications  no_of_verif\n",
       "0  ['email', 'phone', 'reviews', 'manual_offline'...            6\n",
       "1  ['email', 'phone', 'reviews', 'jumio', 'offlin...            8\n",
       "2  ['email', 'phone', 'reviews', 'jumio', 'govern...            6\n",
       "3  ['email', 'phone', 'reviews', 'offline_governm...            7\n",
       "4   ['email', 'phone', 'facebook', 'reviews', 'kba']            5"
      ]
     },
     "execution_count": 145,
     "metadata": {},
     "output_type": "execute_result"
    }
   ],
   "source": [
    "dat['no_of_verif'] = dat['host_verifications'].str.count(r',') + 1\n",
    "dat.loc[:, ['host_verifications','no_of_verif']].head()"
   ]
  },
  {
   "cell_type": "markdown",
   "id": "4e7a55e3",
   "metadata": {},
   "source": [
    "In order to catch any observations where hosts have no verifications, we will set the number of verifications to zero where the host_verifications = 'None'.  This is important since the code above would have counted 'none' and an observation without a comma (i.e. only one verification) as 1."
   ]
  },
  {
   "cell_type": "code",
   "execution_count": 146,
   "id": "ba14642d",
   "metadata": {},
   "outputs": [
    {
     "data": {
      "text/html": [
       "<div>\n",
       "<style scoped>\n",
       "    .dataframe tbody tr th:only-of-type {\n",
       "        vertical-align: middle;\n",
       "    }\n",
       "\n",
       "    .dataframe tbody tr th {\n",
       "        vertical-align: top;\n",
       "    }\n",
       "\n",
       "    .dataframe thead th {\n",
       "        text-align: right;\n",
       "    }\n",
       "</style>\n",
       "<table border=\"1\" class=\"dataframe\">\n",
       "  <thead>\n",
       "    <tr style=\"text-align: right;\">\n",
       "      <th></th>\n",
       "      <th>id</th>\n",
       "      <th>name</th>\n",
       "      <th>description</th>\n",
       "      <th>neighborhood_overview</th>\n",
       "      <th>host_id</th>\n",
       "      <th>host_name</th>\n",
       "      <th>host_since</th>\n",
       "      <th>host_location</th>\n",
       "      <th>host_about</th>\n",
       "      <th>host_response_time</th>\n",
       "      <th>...</th>\n",
       "      <th>review_scores_value</th>\n",
       "      <th>instant_bookable</th>\n",
       "      <th>calculated_host_listings_count</th>\n",
       "      <th>calculated_host_listings_count_entire_homes</th>\n",
       "      <th>calculated_host_listings_count_private_rooms</th>\n",
       "      <th>calculated_host_listings_count_shared_rooms</th>\n",
       "      <th>reviews_per_month</th>\n",
       "      <th>bathrooms</th>\n",
       "      <th>host_response_time_float</th>\n",
       "      <th>no_of_verif</th>\n",
       "    </tr>\n",
       "  </thead>\n",
       "  <tbody>\n",
       "    <tr>\n",
       "      <th>6313</th>\n",
       "      <td>50713486</td>\n",
       "      <td>Attractive Studio Double Bed Non Smoking At Ch...</td>\n",
       "      <td>This simple building is in Chicago Midway Airp...</td>\n",
       "      <td>NaN</td>\n",
       "      <td>175128252</td>\n",
       "      <td>NaN</td>\n",
       "      <td>NaT</td>\n",
       "      <td>NaN</td>\n",
       "      <td>NaN</td>\n",
       "      <td>NaN</td>\n",
       "      <td>...</td>\n",
       "      <td>NaN</td>\n",
       "      <td>t</td>\n",
       "      <td>1</td>\n",
       "      <td>0</td>\n",
       "      <td>1</td>\n",
       "      <td>0</td>\n",
       "      <td>NaN</td>\n",
       "      <td>1.0</td>\n",
       "      <td>NaN</td>\n",
       "      <td>0</td>\n",
       "    </tr>\n",
       "  </tbody>\n",
       "</table>\n",
       "<p>1 rows × 63 columns</p>\n",
       "</div>"
      ],
      "text/plain": [
       "            id                                               name  \\\n",
       "6313  50713486  Attractive Studio Double Bed Non Smoking At Ch...   \n",
       "\n",
       "                                            description neighborhood_overview  \\\n",
       "6313  This simple building is in Chicago Midway Airp...                   NaN   \n",
       "\n",
       "        host_id host_name host_since host_location host_about  \\\n",
       "6313  175128252       NaN        NaT           NaN        NaN   \n",
       "\n",
       "     host_response_time  ...  review_scores_value  instant_bookable  \\\n",
       "6313                NaN  ...                  NaN                 t   \n",
       "\n",
       "      calculated_host_listings_count  \\\n",
       "6313                               1   \n",
       "\n",
       "      calculated_host_listings_count_entire_homes  \\\n",
       "6313                                            0   \n",
       "\n",
       "      calculated_host_listings_count_private_rooms  \\\n",
       "6313                                             1   \n",
       "\n",
       "     calculated_host_listings_count_shared_rooms  reviews_per_month  \\\n",
       "6313                                           0                NaN   \n",
       "\n",
       "      bathrooms host_response_time_float  no_of_verif  \n",
       "6313        1.0                      NaN            0  \n",
       "\n",
       "[1 rows x 63 columns]"
      ]
     },
     "execution_count": 146,
     "metadata": {},
     "output_type": "execute_result"
    }
   ],
   "source": [
    "dat['no_of_verif'] = np.where(dat['host_verifications'] == 'None', 0, dat['no_of_verif'])\n",
    "dat[dat['no_of_verif'] == 0]"
   ]
  },
  {
   "cell_type": "code",
   "execution_count": 147,
   "id": "7de2a9c2",
   "metadata": {},
   "outputs": [
    {
     "data": {
      "text/plain": [
       "count    6366.000000\n",
       "mean        5.585768\n",
       "std         2.313344\n",
       "min         0.000000\n",
       "25%         4.000000\n",
       "50%         6.000000\n",
       "75%         7.000000\n",
       "max        12.000000\n",
       "Name: no_of_verif, dtype: float64"
      ]
     },
     "execution_count": 147,
     "metadata": {},
     "output_type": "execute_result"
    }
   ],
   "source": [
    "dat['no_of_verif'].describe()"
   ]
  },
  {
   "cell_type": "markdown",
   "id": "dfe69ae8",
   "metadata": {},
   "source": [
    "On average, hosts have about 5-6 different identity verifications. "
   ]
  },
  {
   "cell_type": "code",
   "execution_count": 148,
   "id": "60e4977b",
   "metadata": {},
   "outputs": [
    {
     "data": {
      "image/png": "[encoded data removed]",
      "text/plain": [
       "<Figure size 1296x432 with 1 Axes>"
      ]
     },
     "metadata": {
      "needs_background": "light"
     },
     "output_type": "display_data"
    }
   ],
   "source": [
    "plt.figure(figsize=(18,6))\n",
    "p = sb.countplot(x='no_of_verif',data = dat)\n",
    "p.bar_label(p.containers[0])\n",
    "plt.xlabel('Nomber of Identity Verifications by Host')\n",
    "plt.show()"
   ]
  },
  {
   "cell_type": "markdown",
   "id": "6436c9ed",
   "metadata": {},
   "source": [
    "<h4>Amenities</h4>\n",
    "\n",
    "Repeat the same process for number of amenities listed."
   ]
  },
  {
   "cell_type": "code",
   "execution_count": 149,
   "id": "c77d6087",
   "metadata": {},
   "outputs": [
    {
     "data": {
      "text/html": [
       "<div>\n",
       "<style scoped>\n",
       "    .dataframe tbody tr th:only-of-type {\n",
       "        vertical-align: middle;\n",
       "    }\n",
       "\n",
       "    .dataframe tbody tr th {\n",
       "        vertical-align: top;\n",
       "    }\n",
       "\n",
       "    .dataframe thead th {\n",
       "        text-align: right;\n",
       "    }\n",
       "</style>\n",
       "<table border=\"1\" class=\"dataframe\">\n",
       "  <thead>\n",
       "    <tr style=\"text-align: right;\">\n",
       "      <th></th>\n",
       "      <th>amenities</th>\n",
       "      <th>no_of_amen</th>\n",
       "    </tr>\n",
       "  </thead>\n",
       "  <tbody>\n",
       "    <tr>\n",
       "      <th>0</th>\n",
       "      <td>[\"Hot water kettle\", \"Wine glasses\", \"Kitchen\"...</td>\n",
       "      <td>51</td>\n",
       "    </tr>\n",
       "    <tr>\n",
       "      <th>1</th>\n",
       "      <td>[\"Kitchen\", \"Free street parking\", \"Long term ...</td>\n",
       "      <td>30</td>\n",
       "    </tr>\n",
       "    <tr>\n",
       "      <th>2</th>\n",
       "      <td>[\"Kitchen\", \"Free street parking\", \"Shampoo\", ...</td>\n",
       "      <td>33</td>\n",
       "    </tr>\n",
       "    <tr>\n",
       "      <th>3</th>\n",
       "      <td>[\"Kitchen\", \"Long term stays allowed\", \"Smoke ...</td>\n",
       "      <td>31</td>\n",
       "    </tr>\n",
       "    <tr>\n",
       "      <th>4</th>\n",
       "      <td>[\"Free street parking\", \"Shampoo\", \"Smoke alar...</td>\n",
       "      <td>22</td>\n",
       "    </tr>\n",
       "  </tbody>\n",
       "</table>\n",
       "</div>"
      ],
      "text/plain": [
       "                                           amenities  no_of_amen\n",
       "0  [\"Hot water kettle\", \"Wine glasses\", \"Kitchen\"...          51\n",
       "1  [\"Kitchen\", \"Free street parking\", \"Long term ...          30\n",
       "2  [\"Kitchen\", \"Free street parking\", \"Shampoo\", ...          33\n",
       "3  [\"Kitchen\", \"Long term stays allowed\", \"Smoke ...          31\n",
       "4  [\"Free street parking\", \"Shampoo\", \"Smoke alar...          22"
      ]
     },
     "execution_count": 149,
     "metadata": {},
     "output_type": "execute_result"
    }
   ],
   "source": [
    "dat['no_of_amen'] = dat['amenities'].str.count(r',') + 1\n",
    "dat.loc[:, ['amenities','no_of_amen']].head()"
   ]
  },
  {
   "cell_type": "code",
   "execution_count": 150,
   "id": "a7118e5f",
   "metadata": {},
   "outputs": [
    {
     "data": {
      "text/plain": [
       "count    6366.000000\n",
       "mean       31.138549\n",
       "std        10.615332\n",
       "min         1.000000\n",
       "25%        24.000000\n",
       "50%        31.000000\n",
       "75%        37.000000\n",
       "max        82.000000\n",
       "Name: no_of_amen, dtype: float64"
      ]
     },
     "execution_count": 150,
     "metadata": {},
     "output_type": "execute_result"
    }
   ],
   "source": [
    "dat['no_of_amen'].describe()"
   ]
  },
  {
   "cell_type": "code",
   "execution_count": 151,
   "id": "26ed39bb",
   "metadata": {},
   "outputs": [
    {
     "data": {
      "image/png": "[encoded data removed]",
      "text/plain": [
       "<Figure size 1296x432 with 1 Axes>"
      ]
     },
     "metadata": {
      "needs_background": "light"
     },
     "output_type": "display_data"
    }
   ],
   "source": [
    "plt.figure(figsize=(18,6))\n",
    "p = sb.countplot(x='no_of_amen',data = dat)\n",
    "p.set_xticklabels(labels=p.get_xticklabels(),rotation=90)\n",
    "plt.xlabel('Number of Amenities Listed by the Host')\n",
    "plt.show()"
   ]
  },
  {
   "cell_type": "markdown",
   "id": "be9aafe9",
   "metadata": {},
   "source": [
    "<h4>Distance from Center of Chicago</h4>\n",
    "\n",
    "Let's calculate the distance of the listing from the center of the city of Chicago.  We will use the following coordinates: 41.8781° N, 87.6298° W (source needed?).\n",
    "\n",
    "We will use the Haversine formula to calculate the distance in miles.  In order to do so, we will first define a function to perform the calculation."
   ]
  },
  {
   "cell_type": "code",
   "execution_count": 152,
   "id": "65ea79c9",
   "metadata": {},
   "outputs": [],
   "source": [
    "# Coordinates for center of Chicago in degrees\n",
    "lat1 = 41.8781\n",
    "long1 = -87.6298\n",
    "\n",
    "# Constant, radius of the Earth in miles\n",
    "r = 3958.8\n",
    "\n",
    "# Define a function to calculate the distance\n",
    "def haversine(lat2, long2):\n",
    "    # First convert degrees into radians:\n",
    "    rlat1 = lat1 * (math.pi / 180)\n",
    "    rlat2 = lat2 * (math.pi / 180)\n",
    "    rlong1 = long1 * (math.pi / 180)\n",
    "    rlong2 = long2 * (math.pi / 180)\n",
    "    \n",
    "    # Calculate the differnce between the latitudes and longitudes\n",
    "    dlat = rlat1 - rlat2\n",
    "    dlong = rlong1 - rlong2\n",
    "    \n",
    "    # Use the Haversine formula (broken into 3 terms for simplification here)\n",
    "    a = (math.sin(dlat / 2) ** 2)         # First term\n",
    "    b = math.cos(rlat1) * math.cos(rlat2) # Second term\n",
    "    c = (math.sin(dlong / 2) ** 2)        # Third term\n",
    "    e = math.sqrt(a + b * c)\n",
    "    d = 2 * r * e                         # where r is the radius of the Earth\n",
    "    return d"
   ]
  },
  {
   "cell_type": "markdown",
   "id": "66990162",
   "metadata": {},
   "source": [
    "Then, apply the formula to each observation in the data set, returning the answer in a new column for the distance from the center of the city."
   ]
  },
  {
   "cell_type": "code",
   "execution_count": 153,
   "id": "eb060ecb",
   "metadata": {},
   "outputs": [
    {
     "data": {
      "text/plain": [
       "4387    1.269334\n",
       "4814    6.716036\n",
       "1313    4.033453\n",
       "3753    3.120966\n",
       "789     3.408489\n",
       "Name: d_center, dtype: float64"
      ]
     },
     "execution_count": 153,
     "metadata": {},
     "output_type": "execute_result"
    }
   ],
   "source": [
    "dat['d_center'] = dat.apply(\n",
    "    lambda row: haversine(row['latitude'], row['longitude']),\n",
    "    axis=1)\n",
    "dat['d_center'].sample(5)"
   ]
  },
  {
   "cell_type": "code",
   "execution_count": 154,
   "id": "1ecde93e",
   "metadata": {},
   "outputs": [
    {
     "data": {
      "text/plain": [
       "count    6366.000000\n",
       "mean        4.319250\n",
       "std         2.726591\n",
       "min         0.010381\n",
       "25%         2.007158\n",
       "50%         4.003650\n",
       "75%         6.028991\n",
       "max        16.372642\n",
       "Name: d_center, dtype: float64"
      ]
     },
     "execution_count": 154,
     "metadata": {},
     "output_type": "execute_result"
    }
   ],
   "source": [
    "dat['d_center'].describe()"
   ]
  },
  {
   "cell_type": "markdown",
   "id": "945e459e",
   "metadata": {},
   "source": [
    "In order to visualize the distances, let us plot them against the listing price values."
   ]
  },
  {
   "cell_type": "code",
   "execution_count": 155,
   "id": "76e49893",
   "metadata": {},
   "outputs": [
    {
     "data": {
      "image/png": "[encoded data removed]",
      "text/plain": [
       "<Figure size 864x576 with 1 Axes>"
      ]
     },
     "metadata": {
      "needs_background": "light"
     },
     "output_type": "display_data"
    }
   ],
   "source": [
    "plt.figure(figsize=(12,8))\n",
    "sb.regplot(x=\"d_center\", y=\"price\", \n",
    "            line_kws={\"color\":\"r\",\"alpha\":0.5,\"lw\":3}, data=dat)\n",
    "plt.xlabel('Distance from center of city (miles)')\n",
    "plt.ylabel('Price ($)')\n",
    "plt.show()"
   ]
  },
  {
   "cell_type": "markdown",
   "id": "8d43981d",
   "metadata": {},
   "source": [
    "On first look, it appears that the listings further from the city are less valuable on average."
   ]
  },
  {
   "cell_type": "code",
   "execution_count": 156,
   "id": "db627141",
   "metadata": {},
   "outputs": [
    {
     "data": {
      "text/plain": [
       "<AxesSubplot:xlabel='host_response_rate', ylabel='review_scores_rating'>"
      ]
     },
     "execution_count": 156,
     "metadata": {},
     "output_type": "execute_result"
    },
    {
     "data": {
      "image/png": "[encoded data removed]",
      "text/plain": [
       "<Figure size 864x432 with 1 Axes>"
      ]
     },
     "metadata": {
      "needs_background": "light"
     },
     "output_type": "display_data"
    }
   ],
   "source": [
    "plt.figure(figsize=(12,6))\n",
    "sb.scatterplot(y='review_scores_rating',x='host_response_rate',data=dat)"
   ]
  },
  {
   "cell_type": "markdown",
   "id": "58d461ba",
   "metadata": {},
   "source": [
    "<h2>Dimension Reduction</h2>\n",
    "\n"
   ]
  },
  {
   "cell_type": "code",
   "execution_count": 157,
   "id": "bc209efc",
   "metadata": {},
   "outputs": [
    {
     "name": "stdout",
     "output_type": "stream",
     "text": [
      "<class 'pandas.core.frame.DataFrame'>\n",
      "RangeIndex: 6366 entries, 0 to 6365\n",
      "Data columns (total 65 columns):\n",
      " #   Column                                        Non-Null Count  Dtype         \n",
      "---  ------                                        --------------  -----         \n",
      " 0   id                                            6366 non-null   int64         \n",
      " 1   name                                          6366 non-null   object        \n",
      " 2   description                                   6352 non-null   object        \n",
      " 3   neighborhood_overview                         4663 non-null   object        \n",
      " 4   host_id                                       6366 non-null   int64         \n",
      " 5   host_name                                     6365 non-null   object        \n",
      " 6   host_since                                    6365 non-null   datetime64[ns]\n",
      " 7   host_location                                 6355 non-null   object        \n",
      " 8   host_about                                    4381 non-null   object        \n",
      " 9   host_response_time                            5187 non-null   object        \n",
      " 10  host_response_rate                            5187 non-null   float32       \n",
      " 11  host_acceptance_rate                          5381 non-null   float32       \n",
      " 12  host_is_superhost                             6365 non-null   float64       \n",
      " 13  host_listings_count                           6365 non-null   float64       \n",
      " 14  host_total_listings_count                     6365 non-null   float64       \n",
      " 15  host_verifications                            6366 non-null   object        \n",
      " 16  host_has_profile_pic                          6365 non-null   float64       \n",
      " 17  host_identity_verified                        6365 non-null   float64       \n",
      " 18  neighbourhood_cleansed                        6366 non-null   object        \n",
      " 19  latitude                                      6366 non-null   float64       \n",
      " 20  longitude                                     6366 non-null   float64       \n",
      " 21  property_type                                 6366 non-null   object        \n",
      " 22  room_type                                     6366 non-null   object        \n",
      " 23  accommodates                                  6366 non-null   int64         \n",
      " 24  bathrooms_text                                1587 non-null   object        \n",
      " 25  bedrooms                                      5829 non-null   float64       \n",
      " 26  beds                                          6285 non-null   float64       \n",
      " 27  amenities                                     6366 non-null   object        \n",
      " 28  price                                         6366 non-null   float64       \n",
      " 29  minimum_nights                                6366 non-null   int64         \n",
      " 30  maximum_nights                                6366 non-null   int64         \n",
      " 31  minimum_minimum_nights                        6366 non-null   int64         \n",
      " 32  maximum_minimum_nights                        6366 non-null   int64         \n",
      " 33  minimum_maximum_nights                        6366 non-null   int64         \n",
      " 34  maximum_maximum_nights                        6366 non-null   int64         \n",
      " 35  minimum_nights_avg_ntm                        6366 non-null   float64       \n",
      " 36  maximum_nights_avg_ntm                        6366 non-null   float64       \n",
      " 37  has_availability                              6366 non-null   object        \n",
      " 38  availability_30                               6366 non-null   int64         \n",
      " 39  availability_60                               6366 non-null   int64         \n",
      " 40  availability_90                               6366 non-null   int64         \n",
      " 41  availability_365                              6366 non-null   int64         \n",
      " 42  number_of_reviews                             6366 non-null   int64         \n",
      " 43  number_of_reviews_ltm                         6366 non-null   int64         \n",
      " 44  number_of_reviews_l30d                        6366 non-null   int64         \n",
      " 45  first_review                                  5282 non-null   datetime64[ns]\n",
      " 46  last_review                                   5282 non-null   datetime64[ns]\n",
      " 47  review_scores_rating                          5282 non-null   float64       \n",
      " 48  review_scores_accuracy                        5246 non-null   float64       \n",
      " 49  review_scores_cleanliness                     5246 non-null   float64       \n",
      " 50  review_scores_checkin                         5245 non-null   float64       \n",
      " 51  review_scores_communication                   5244 non-null   float64       \n",
      " 52  review_scores_location                        5245 non-null   float64       \n",
      " 53  review_scores_value                           5245 non-null   float64       \n",
      " 54  instant_bookable                              6366 non-null   object        \n",
      " 55  calculated_host_listings_count                6366 non-null   int64         \n",
      " 56  calculated_host_listings_count_entire_homes   6366 non-null   int64         \n",
      " 57  calculated_host_listings_count_private_rooms  6366 non-null   int64         \n",
      " 58  calculated_host_listings_count_shared_rooms   6366 non-null   int64         \n",
      " 59  reviews_per_month                             5282 non-null   float64       \n",
      " 60  bathrooms                                     6362 non-null   float32       \n",
      " 61  host_response_time_float                      5187 non-null   float32       \n",
      " 62  no_of_verif                                   6366 non-null   int64         \n",
      " 63  no_of_amen                                    6366 non-null   int64         \n",
      " 64  d_center                                      6366 non-null   float64       \n",
      "dtypes: datetime64[ns](3), float32(4), float64(21), int64(22), object(15)\n",
      "memory usage: 3.1+ MB\n"
     ]
    }
   ],
   "source": [
    "dat.info()"
   ]
  },
  {
   "cell_type": "markdown",
   "id": "45441879",
   "metadata": {},
   "source": [
    "In order to complete a Principal Component Analysis, we need to only select the numeric values and drop values with NaNs."
   ]
  },
  {
   "cell_type": "code",
   "execution_count": 158,
   "id": "c294a6cc",
   "metadata": {},
   "outputs": [],
   "source": [
    "# Select only numeric values\n",
    "dat_pre_norm = dat.loc[:,['host_response_rate','host_response_time_float','host_acceptance_rate','host_is_superhost',\n",
    "                         'host_listings_count','host_total_listings_count','host_has_profile_pic',\n",
    "                          'host_identity_verified','latitude','longitude','accommodates','bedrooms','beds',\n",
    "                         'no_of_amen','no_of_verif','price','minimum_minimum_nights','maximum_minimum_nights',\n",
    "                         'minimum_maximum_nights','maximum_maximum_nights','minimum_nights_avg_ntm',\n",
    "                         'maximum_nights_avg_ntm','number_of_reviews','number_of_reviews_ltm','number_of_reviews_l30d',\n",
    "                         'review_scores_rating','review_scores_accuracy','review_scores_cleanliness',\n",
    "                         'review_scores_checkin','review_scores_communication','review_scores_location',\n",
    "                         'review_scores_value','reviews_per_month','bathrooms','d_center']]\n",
    "dat_pre_norm = dat_pre_norm.dropna()"
   ]
  },
  {
   "cell_type": "code",
   "execution_count": 159,
   "id": "c3112176",
   "metadata": {},
   "outputs": [],
   "source": [
    "dat_norm = scale(dat_pre_norm)"
   ]
  },
  {
   "cell_type": "markdown",
   "id": "e084530d",
   "metadata": {},
   "source": [
    "For the fist PCA, we will include all of the variables (i.e. columns from the selection above)."
   ]
  },
  {
   "cell_type": "code",
   "execution_count": 160,
   "id": "60ccbd95",
   "metadata": {},
   "outputs": [
    {
     "data": {
      "text/plain": [
       "PCA(n_components=35)"
      ]
     },
     "execution_count": 160,
     "metadata": {},
     "output_type": "execute_result"
    }
   ],
   "source": [
    "pca1 = PCA(n_components=len(dat_pre_norm.columns))\n",
    "\n",
    "pca1.fit(dat_norm)"
   ]
  },
  {
   "cell_type": "code",
   "execution_count": 161,
   "id": "419b0bae",
   "metadata": {},
   "outputs": [
    {
     "name": "stdout",
     "output_type": "stream",
     "text": [
      "[ 16.28  27.94  38.28  47.46  54.94  60.08  64.72  68.86  71.84  74.67\n",
      "  77.33  79.79  82.15  84.1   85.94  87.69  89.3   90.83  92.2   93.46\n",
      "  94.59  95.5   96.28  96.98  97.61  98.2   98.71  99.19  99.62  99.91\n",
      " 100.   100.   100.   100.   100.  ]\n"
     ]
    }
   ],
   "source": [
    "var = pca1.explained_variance_ratio_\n",
    "var1 = np.cumsum(np.round(pca1.explained_variance_ratio_, decimals=4)*100)\n",
    "print(var1)"
   ]
  },
  {
   "cell_type": "code",
   "execution_count": 165,
   "id": "e139d75e",
   "metadata": {},
   "outputs": [
    {
     "data": {
      "image/png": "[encoded data removed]",
      "text/plain": [
       "<Figure size 432x288 with 1 Axes>"
      ]
     },
     "metadata": {
      "needs_background": "light"
     },
     "output_type": "display_data"
    }
   ],
   "source": [
    "var1 = pd.DataFrame(var1, index=np.arange(1,int(len(dat_pre_norm.columns))+1))\n",
    "plt.plot(var1,color='blue')\n",
    "plt.title('Scree Plot')\n",
    "plt.xlabel('Number of Principal Components')\n",
    "plt.ylabel('Cumulative Variance Explained')\n",
    "plt.show()"
   ]
  },
  {
   "cell_type": "markdown",
   "id": "47aedfc2",
   "metadata": {},
   "source": [
    "Taking the first 18 principal components will correspond to 90% of the variance explained."
   ]
  },
  {
   "cell_type": "code",
   "execution_count": null,
   "id": "a7b29f06",
   "metadata": {},
   "outputs": [],
   "source": [
    "pca18 = PCA(n_components=18)\n",
    "pca18.fit(dat_norm)\n",
    "data_pca18 = pca18.transform(dat_norm)\n",
    "\n",
    "# Convert the numpy array to pandas DataFrame\n",
    "data_pca18 = pd.DataFrame(data_pca18)\n",
    "data_pca18.columns = [\"PC\"+str(i) for i in range(1,19)]"
   ]
  },
  {
   "cell_type": "code",
   "execution_count": null,
   "id": "fde7c309",
   "metadata": {},
   "outputs": [],
   "source": [
    "data_pca18.corr()"
   ]
  },
  {
   "cell_type": "markdown",
   "id": "efba1484",
   "metadata": {},
   "source": [
    "From the above correlation table, we can find that the pairwise correlations between two components are close to zeros. This means that all these components are orthogonal (not correlated). There is no multicollinearity among principal components."
   ]
  },
  {
   "cell_type": "code",
   "execution_count": null,
   "id": "fa63a552",
   "metadata": {},
   "outputs": [],
   "source": []
  }
 ],
 "metadata": {
  "kernelspec": {
   "display_name": "Python 3 (ipykernel)",
   "language": "python",
   "name": "python3"
  },
  "language_info": {
   "codemirror_mode": {
    "name": "ipython",
    "version": 3
   },
   "file_extension": ".py",
   "mimetype": "text/x-python",
   "name": "python",
   "nbconvert_exporter": "python",
   "pygments_lexer": "ipython3",
   "version": "3.9.7"
  }
 },
 "nbformat": 4,
 "nbformat_minor": 5
}
