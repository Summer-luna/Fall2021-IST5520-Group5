{
 "cells": [
  {
   "cell_type": "code",
   "execution_count": 447,
   "id": "c1faf8bd",
   "metadata": {},
   "outputs": [],
   "source": [
    "import pandas as pd\n",
    "import numpy as np\n",
    "import seaborn as sb\n",
    "import matplotlib.pyplot as plt"
   ]
  },
  {
   "cell_type": "code",
   "execution_count": 448,
   "id": "ea8ec796",
   "metadata": {},
   "outputs": [
    {
     "name": "stdout",
     "output_type": "stream",
     "text": [
      "<class 'pandas.core.frame.DataFrame'>\n",
      "RangeIndex: 6366 entries, 0 to 6365\n",
      "Data columns (total 74 columns):\n",
      " #   Column                                        Non-Null Count  Dtype  \n",
      "---  ------                                        --------------  -----  \n",
      " 0   id                                            6366 non-null   int64  \n",
      " 1   listing_url                                   6366 non-null   object \n",
      " 2   scrape_id                                     6366 non-null   float64\n",
      " 3   last_scraped                                  6366 non-null   object \n",
      " 4   name                                          6366 non-null   object \n",
      " 5   description                                   6352 non-null   object \n",
      " 6   neighborhood_overview                         4663 non-null   object \n",
      " 7   picture_url                                   6366 non-null   object \n",
      " 8   host_id                                       6366 non-null   int64  \n",
      " 9   host_url                                      6366 non-null   object \n",
      " 10  host_name                                     6365 non-null   object \n",
      " 11  host_since                                    6365 non-null   object \n",
      " 12  host_location                                 6355 non-null   object \n",
      " 13  host_about                                    4381 non-null   object \n",
      " 14  host_response_time                            5187 non-null   object \n",
      " 15  host_response_rate                            5187 non-null   object \n",
      " 16  host_acceptance_rate                          5381 non-null   object \n",
      " 17  host_is_superhost                             6365 non-null   object \n",
      " 18  host_thumbnail_url                            6365 non-null   object \n",
      " 19  host_picture_url                              6365 non-null   object \n",
      " 20  host_neighbourhood                            5869 non-null   object \n",
      " 21  host_listings_count                           6365 non-null   float64\n",
      " 22  host_total_listings_count                     6365 non-null   float64\n",
      " 23  host_verifications                            6366 non-null   object \n",
      " 24  host_has_profile_pic                          6365 non-null   object \n",
      " 25  host_identity_verified                        6365 non-null   object \n",
      " 26  neighbourhood                                 4664 non-null   object \n",
      " 27  neighbourhood_cleansed                        6366 non-null   object \n",
      " 28  neighbourhood_group_cleansed                  0 non-null      float64\n",
      " 29  latitude                                      6366 non-null   float64\n",
      " 30  longitude                                     6366 non-null   float64\n",
      " 31  property_type                                 6366 non-null   object \n",
      " 32  room_type                                     6366 non-null   object \n",
      " 33  accommodates                                  6366 non-null   int64  \n",
      " 34  bathrooms                                     0 non-null      float64\n",
      " 35  bathrooms_text                                6362 non-null   object \n",
      " 36  bedrooms                                      5829 non-null   float64\n",
      " 37  beds                                          6285 non-null   float64\n",
      " 38  amenities                                     6366 non-null   object \n",
      " 39  price                                         6366 non-null   object \n",
      " 40  minimum_nights                                6366 non-null   int64  \n",
      " 41  maximum_nights                                6366 non-null   int64  \n",
      " 42  minimum_minimum_nights                        6366 non-null   int64  \n",
      " 43  maximum_minimum_nights                        6366 non-null   int64  \n",
      " 44  minimum_maximum_nights                        6366 non-null   int64  \n",
      " 45  maximum_maximum_nights                        6366 non-null   int64  \n",
      " 46  minimum_nights_avg_ntm                        6366 non-null   float64\n",
      " 47  maximum_nights_avg_ntm                        6366 non-null   float64\n",
      " 48  calendar_updated                              0 non-null      float64\n",
      " 49  has_availability                              6366 non-null   object \n",
      " 50  availability_30                               6366 non-null   int64  \n",
      " 51  availability_60                               6366 non-null   int64  \n",
      " 52  availability_90                               6366 non-null   int64  \n",
      " 53  availability_365                              6366 non-null   int64  \n",
      " 54  calendar_last_scraped                         6366 non-null   object \n",
      " 55  number_of_reviews                             6366 non-null   int64  \n",
      " 56  number_of_reviews_ltm                         6366 non-null   int64  \n",
      " 57  number_of_reviews_l30d                        6366 non-null   int64  \n",
      " 58  first_review                                  5282 non-null   object \n",
      " 59  last_review                                   5282 non-null   object \n",
      " 60  review_scores_rating                          5282 non-null   float64\n",
      " 61  review_scores_accuracy                        5246 non-null   float64\n",
      " 62  review_scores_cleanliness                     5246 non-null   float64\n",
      " 63  review_scores_checkin                         5245 non-null   float64\n",
      " 64  review_scores_communication                   5244 non-null   float64\n",
      " 65  review_scores_location                        5245 non-null   float64\n",
      " 66  review_scores_value                           5245 non-null   float64\n",
      " 67  license                                       6031 non-null   object \n",
      " 68  instant_bookable                              6366 non-null   object \n",
      " 69  calculated_host_listings_count                6366 non-null   int64  \n",
      " 70  calculated_host_listings_count_entire_homes   6366 non-null   int64  \n",
      " 71  calculated_host_listings_count_private_rooms  6366 non-null   int64  \n",
      " 72  calculated_host_listings_count_shared_rooms   6366 non-null   int64  \n",
      " 73  reviews_per_month                             5282 non-null   float64\n",
      "dtypes: float64(20), int64(20), object(34)\n",
      "memory usage: 3.6+ MB\n"
     ]
    }
   ],
   "source": [
    "# Read in data\n",
    "dat = pd.read_csv('listings.csv')\n",
    "dat.info()"
   ]
  },
  {
   "cell_type": "markdown",
   "id": "ffb15a6d",
   "metadata": {},
   "source": [
    "<h3>Unnecessary Columns</h3>\n",
    "\n",
    "<h4>Drop off irrelevant columns:</h4>\n",
    "\n",
    "* URLs will not be useful\n",
    "* Empty columns: 'neighborhood_group_cleansed', 'bathrooms', 'calendar_updated'\n",
    "* 'neighborhood' column only has blank values or 'Chicago, Illinois, United States' value\n",
    "* 'scrape_id' is all the same value and not useful for our model\n",
    "* 'last_scraped', 'calendar_last_scraped' will not be useful"
   ]
  },
  {
   "cell_type": "code",
   "execution_count": 449,
   "id": "c7ed3178",
   "metadata": {},
   "outputs": [],
   "source": [
    "dat = dat.drop(['scrape_id','listing_url','host_thumbnail_url','host_picture_url','picture_url',\n",
    "               'neighbourhood_group_cleansed','bathrooms','calendar_updated','neighbourhood',\n",
    "               'last_scraped', 'calendar_last_scraped'], axis = 1)"
   ]
  },
  {
   "cell_type": "markdown",
   "id": "89528a5a",
   "metadata": {},
   "source": [
    "<h3>Data Cleansing</h3>\n",
    "\n",
    "First, we will split the bathroom text column into two: one containing a float variable for the number of bathrooms, and the other an additional descriptor of the bathroom (shared/private).\n",
    "\n",
    "<h4>Bathrooms Column:</h4>"
   ]
  },
  {
   "cell_type": "code",
   "execution_count": 451,
   "id": "41b003bf",
   "metadata": {},
   "outputs": [
    {
     "data": {
      "text/plain": [
       "array([ 1. ,  2. ,  1.5,  3. ,  2.5,  0. ,  3.5, 11. ,  5. ,  nan,  0.5,\n",
       "        4. ,  4.5, 11.5,  6.5,  7. ,  5.5,  6. ,  8. , 12.5, 10. ],\n",
       "      dtype=float32)"
      ]
     },
     "execution_count": 451,
     "metadata": {},
     "output_type": "execute_result"
    }
   ],
   "source": [
    "# First let us make all text lowercase to simplify string manipulation\n",
    "\n",
    "dat['bathrooms_text'] = dat['bathrooms_text'].str.lower()\n",
    "\n",
    "# Next we must convert and text 'half' to 0.5 so it is included in the subsequent number extraction\n",
    "\n",
    "dat['bathrooms_text'] = dat['bathrooms_text'].str.replace(r'(half)+','0.5', regex = True)\n",
    "\n",
    "# Then extract the numbers into the new 'bathrooms' float32 data type column\n",
    "\n",
    "dat['bathrooms'] = dat['bathrooms_text'].str.extract(r'(\\d+\\.?\\d*)', expand = True).astype(np.float32)\n",
    "\n",
    "# This leaves us with only float and NaN values\n",
    "\n",
    "dat['bathrooms'].unique()"
   ]
  },
  {
   "cell_type": "markdown",
   "id": "e278c2c0",
   "metadata": {},
   "source": [
    "<h4>Bathrooms Text Column:</h4>"
   ]
  },
  {
   "cell_type": "code",
   "execution_count": 452,
   "id": "97a7fabc",
   "metadata": {},
   "outputs": [],
   "source": [
    "# Remove the text 'bath', unnecessary symbols and whitespace, then extract the leftover text\n",
    "\n",
    "dat['bathrooms_text'] = dat['bathrooms_text'].str.replace(r'(bath)s*|(Bath)s*','', regex = True)\n",
    "dat['bathrooms_text'] = dat['bathrooms_text'].str.replace(r' +|\\.+|\\-+','', regex = True)\n",
    "dat['bathrooms_text'] = dat['bathrooms_text'].str.extract(r'(\\D+)')"
   ]
  },
  {
   "cell_type": "code",
   "execution_count": 459,
   "id": "710870d3",
   "metadata": {},
   "outputs": [
    {
     "data": {
      "text/plain": [
       "array(['shared', nan, 'private'], dtype=object)"
      ]
     },
     "execution_count": 459,
     "metadata": {},
     "output_type": "execute_result"
    }
   ],
   "source": [
    "# This leaves only two bathroom descriptors and NaN values\n",
    "\n",
    "dat['bathrooms_text'].unique()"
   ]
  },
  {
   "cell_type": "markdown",
   "id": "8de8817c",
   "metadata": {},
   "source": [
    "<h4>DateTime Columns:</h4>"
   ]
  },
  {
   "cell_type": "code",
   "execution_count": 455,
   "id": "76914b95",
   "metadata": {},
   "outputs": [],
   "source": [
    "# Convert dates to datetime data type\n",
    "\n",
    "dat['host_since'] = pd.to_datetime(dat['host_since'])\n",
    "dat['first_review'] = pd.to_datetime(dat['first_review'])\n",
    "dat['last_review'] = pd.to_datetime(dat['last_review'])"
   ]
  },
  {
   "cell_type": "markdown",
   "id": "7a63a979",
   "metadata": {},
   "source": [
    "<h4>Rate Columns:</h4>"
   ]
  },
  {
   "cell_type": "code",
   "execution_count": 456,
   "id": "7ca96f35",
   "metadata": {},
   "outputs": [],
   "source": [
    "# Convert host response rate and acceptance rate columns into float\n",
    "\n",
    "dat['host_response_rate'] = dat['host_response_rate'].str.replace(r'(\\D)','', regex = True).astype(np.float32)/100\n",
    "dat['host_acceptance_rate'] = dat['host_acceptance_rate'].str.replace(r'(\\D)','', regex = True).astype(np.float32)/100"
   ]
  },
  {
   "cell_type": "markdown",
   "id": "eb596136",
   "metadata": {},
   "source": [
    "<h4>Boolean Columns:</h4>"
   ]
  },
  {
   "cell_type": "code",
   "execution_count": 460,
   "id": "41586694",
   "metadata": {},
   "outputs": [],
   "source": [
    "# Map superhost column to boolean values\n",
    "\n",
    "# Need to check this, I think empty values are converted to False:\n",
    "dat['host_is_superhost'] = dat['host_is_superhost'].map({'t':True,'f':False}).astype('bool')\n",
    "\n",
    "# These do not convert to boolean, but keeps the empty/nan values:\n",
    "dat['host_has_profile_pic'] = dat['host_has_profile_pic'].map({'t':True,'f':False})\n",
    "dat['host_identity_verified'] = dat['host_identity_verified'].map({'t':True,'f':False})"
   ]
  },
  {
   "cell_type": "code",
   "execution_count": 458,
   "id": "cf10b60e",
   "metadata": {},
   "outputs": [
    {
     "data": {
      "text/plain": [
       "array([ True, False])"
      ]
     },
     "execution_count": 458,
     "metadata": {},
     "output_type": "execute_result"
    }
   ],
   "source": [
    "dat['host_is_superhost'].unique()"
   ]
  },
  {
   "cell_type": "code",
   "execution_count": null,
   "id": "4f1ec395",
   "metadata": {},
   "outputs": [],
   "source": []
  }
 ],
 "metadata": {
  "kernelspec": {
   "display_name": "Python 3 (ipykernel)",
   "language": "python",
   "name": "python3"
  },
  "language_info": {
   "codemirror_mode": {
    "name": "ipython",
    "version": 3
   },
   "file_extension": ".py",
   "mimetype": "text/x-python",
   "name": "python",
   "nbconvert_exporter": "python",
   "pygments_lexer": "ipython3",
   "version": "3.9.6"
  }
 },
 "nbformat": 4,
 "nbformat_minor": 5
}
