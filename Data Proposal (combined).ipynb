{
 "cells": [
  {
   "cell_type": "markdown",
   "id": "3f833979",
   "metadata": {},
   "source": [
    "<h1 align='center'>Milestone 1: Proposal</h1>\n",
    "<h3 align='center'>Group 5：</h3>\n",
    "<h4 align='center'>Abby Ross | Joseph Distler | Nathan Dierkes | Viraj Vilas Rane | Xinyue Chen | Yinkai Xiong</h4>"
   ]
  },
  {
   "cell_type": "markdown",
   "id": "f778d89c",
   "metadata": {},
   "source": [
    "<h2 align=\"center\">Introduction</h2>\n",
    "\n",
    "<h3>Business Problem: </h3>\n",
    "\n",
    "Airbnb is a company that provides a platform users classified as homeowners to rent out rooms, or the entire house, to any of the Airbnb users classified as renters.  This is primarily done in high tourism locations, but is also fairly prevelant in most of the large US cities.  Airbnb would like to increase its user base by identifying potential hosts to convince them to use their property as a rental location. Airbnb receives a percentage of the profit that the rentals on their platform create; therefore it is in their best interest to grow the number of rental properties for their potential customers. The company has already gathered a large amount of data on its current listings and has come to our group to analyze said data. They would like to provide the hosts with suggestions for their property descriptions, which amenities to offer, etc., and use these values to predict the ratings, listing prices, booking percentage of available dates, and more. To pilot this idea, the company would like to focus on one city in the United States before rolling this predictive model out to other locations. The dataset to be used in this analysis will be from Inside Airbnb, specifically the Chicago, Illinois datasets. The company would like to use this analysis to determine the ideal property type, location, and amenities to look for potential rental locations, and then predict how the host’s actions (descriptions, response rate, etc.) would affect the listing’s potential.\n",
    "\n",
    "<h3>Scenarios: </h3>\n",
    "\n",
    "<h4>Price prediction</h4>\n",
    "\n",
    "The hosts want to lease their properties on Airbnb, but they are not sure what prices they should put for their new properties (of differing types). They want to build and use a statistical model to predict the Airbnb rental trend next year. As the economy grows every year, Airbnb is looking for a new price range for their new properties. The hosts can use this price reference to determine whether they should list their properties on Airbnb. Airbnb can use this model to make their marketing plan to recruit their target partners (hosts). \n",
    "\n",
    "<h4>Customer satisfaction prediction</h4>\n",
    "\n",
    "Customers are looking for properties to rent that fit their budget of expenditure in comparison with the amenities offered at the rental locations. Therefore, customers are looking for reliable feedback and rating system that aligns with what they are willing to pay to stay there. Airbnb would use this model to offer the customers the right properties, within their price range, to increase the chance of them using their platform. This model will be based on the feedback that the customer provides after visiting a particular property, and then will use this data to improve its recommendation system for future customers who look at the property. \n",
    "\n",
    "<h4>Recommendation system</h4>\n",
    "\n",
    "As the customers are clicking on the property that they are interested in, Airbnb also offers the customers similar properties they might like. This allows the customers to explore more options related to their search criteria and increases the chances for the customer to go for the options suggested by Airbnb.\n"
   ]
  },
  {
   "cell_type": "markdown",
   "id": "fdd44a23",
   "metadata": {},
   "source": [
    "<h3>The result should help Airbnb to answer multiple questions regarding their future operations, including:</h3>\n",
    "<h4>What will the price for a new property be next year (rise or fall)? (price prediction)</h4>\n",
    "Observations that could help us to predict property price next year:\n",
    "\n",
    "- Room types\n",
    "- Amenities\n",
    "- Zipcodes\n",
    "- Latitude and longitude\n",
    "- Distance from the center of the city\n",
    "\n",
    "\n",
    "<h4>What rating score customers would give to a new property? (customer satisfaction prediction)</h4>\n",
    "Observations that could help us to predict the satisfaction of customers for new properties:\n",
    "\n",
    "- Keywords in “comments”\n",
    "- Historical comments rating\n",
    "- Host response time and/or rate\n",
    "- Host’s “about me” field\n",
    "- Property description keywords\n",
    "- Neighborhood overview entered by the host\n",
    "- Amenities\n",
    "\n",
    "<h4>What types of housings should the company recommend to customers after they click on one specific housing? (Recommendation system)</h4>\n",
    "Observations that could help us to recommend housing to Guests:\n",
    "\n",
    "- Room type\n",
    "- Location\n",
    "- Amenities\n"
   ]
  },
  {
   "cell_type": "markdown",
   "id": "4f940c11",
   "metadata": {},
   "source": [
    "<h2 align=\"center\">Data Source and Collection</h2>\n",
    "\n",
    "<h3>Data Source</h3>\n",
    "\n",
    "The main data is sourced from the Inside Airbnb website at: http://insideairbnb.com/get-the-data.html.  This data was collected by Airbnb and posted online for use by anyone.\n",
    "\n",
    "City of Chicago latitude and longitude sourced from: https://www.latlong.net/place/chicago-il-usa-1855.html\n",
    "\n",
    "<h3>Key Information</h3>\n",
    "\n",
    "Key information in the dataset includes, but is not limited to:\n",
    "\n",
    "- Listing ID, name, description, and neighborhood overview, location (including longitude and latitude), various descriptors (property type, beds, bathrooms, amenities, price, etc.)\n",
    "\n",
    "- Host ID, name, location, “about” description, response rate and time, acceptance rate, number of listings, if they have a profile picture uploaded, if their identity has been verified\n",
    "\n",
    "- Review information including ratings on listing accuracy, cleanliness, location, etc.\n"
   ]
  },
  {
   "cell_type": "markdown",
   "id": "25b4bdfb",
   "metadata": {},
   "source": [
    "<h2 align=\"center\">Data Manipulation</h2>"
   ]
  },
  {
   "cell_type": "markdown",
   "id": "dc24a804",
   "metadata": {},
   "source": [
    "In order to start the data analysis, we will need to import a variety of packages."
   ]
  },
  {
   "cell_type": "code",
   "execution_count": 15,
   "id": "c1faf8bd",
   "metadata": {},
   "outputs": [],
   "source": [
    "import pandas as pd\n",
    "import numpy as np\n",
    "import seaborn as sb\n",
    "import matplotlib.pyplot as plt\n",
    "import math\n",
    "import statsmodels.api as sm\n",
    "from sklearn.preprocessing import scale\n",
    "from sklearn.decomposition import PCA"
   ]
  },
  {
   "cell_type": "markdown",
   "id": "c8354f20",
   "metadata": {},
   "source": [
    "We will read in the data, which was downloaded from the Airbnb website and look at its info."
   ]
  },
  {
   "cell_type": "code",
   "execution_count": 16,
   "id": "ea8ec796",
   "metadata": {},
   "outputs": [
    {
     "name": "stdout",
     "output_type": "stream",
     "text": [
      "<class 'pandas.core.frame.DataFrame'>\n",
      "RangeIndex: 6366 entries, 0 to 6365\n",
      "Data columns (total 74 columns):\n",
      " #   Column                                        Non-Null Count  Dtype  \n",
      "---  ------                                        --------------  -----  \n",
      " 0   id                                            6366 non-null   int64  \n",
      " 1   listing_url                                   6366 non-null   object \n",
      " 2   scrape_id                                     6366 non-null   float64\n",
      " 3   last_scraped                                  6366 non-null   object \n",
      " 4   name                                          6366 non-null   object \n",
      " 5   description                                   6352 non-null   object \n",
      " 6   neighborhood_overview                         4663 non-null   object \n",
      " 7   picture_url                                   6366 non-null   object \n",
      " 8   host_id                                       6366 non-null   int64  \n",
      " 9   host_url                                      6366 non-null   object \n",
      " 10  host_name                                     6365 non-null   object \n",
      " 11  host_since                                    6365 non-null   object \n",
      " 12  host_location                                 6355 non-null   object \n",
      " 13  host_about                                    4381 non-null   object \n",
      " 14  host_response_time                            5187 non-null   object \n",
      " 15  host_response_rate                            5187 non-null   object \n",
      " 16  host_acceptance_rate                          5381 non-null   object \n",
      " 17  host_is_superhost                             6365 non-null   object \n",
      " 18  host_thumbnail_url                            6365 non-null   object \n",
      " 19  host_picture_url                              6365 non-null   object \n",
      " 20  host_neighbourhood                            5869 non-null   object \n",
      " 21  host_listings_count                           6365 non-null   float64\n",
      " 22  host_total_listings_count                     6365 non-null   float64\n",
      " 23  host_verifications                            6366 non-null   object \n",
      " 24  host_has_profile_pic                          6365 non-null   object \n",
      " 25  host_identity_verified                        6365 non-null   object \n",
      " 26  neighbourhood                                 4664 non-null   object \n",
      " 27  neighbourhood_cleansed                        6366 non-null   object \n",
      " 28  neighbourhood_group_cleansed                  0 non-null      float64\n",
      " 29  latitude                                      6366 non-null   float64\n",
      " 30  longitude                                     6366 non-null   float64\n",
      " 31  property_type                                 6366 non-null   object \n",
      " 32  room_type                                     6366 non-null   object \n",
      " 33  accommodates                                  6366 non-null   int64  \n",
      " 34  bathrooms                                     0 non-null      float64\n",
      " 35  bathrooms_text                                6362 non-null   object \n",
      " 36  bedrooms                                      5829 non-null   float64\n",
      " 37  beds                                          6285 non-null   float64\n",
      " 38  amenities                                     6366 non-null   object \n",
      " 39  price                                         6366 non-null   object \n",
      " 40  minimum_nights                                6366 non-null   int64  \n",
      " 41  maximum_nights                                6366 non-null   int64  \n",
      " 42  minimum_minimum_nights                        6366 non-null   int64  \n",
      " 43  maximum_minimum_nights                        6366 non-null   int64  \n",
      " 44  minimum_maximum_nights                        6366 non-null   int64  \n",
      " 45  maximum_maximum_nights                        6366 non-null   int64  \n",
      " 46  minimum_nights_avg_ntm                        6366 non-null   float64\n",
      " 47  maximum_nights_avg_ntm                        6366 non-null   float64\n",
      " 48  calendar_updated                              0 non-null      float64\n",
      " 49  has_availability                              6366 non-null   object \n",
      " 50  availability_30                               6366 non-null   int64  \n",
      " 51  availability_60                               6366 non-null   int64  \n",
      " 52  availability_90                               6366 non-null   int64  \n",
      " 53  availability_365                              6366 non-null   int64  \n",
      " 54  calendar_last_scraped                         6366 non-null   object \n",
      " 55  number_of_reviews                             6366 non-null   int64  \n",
      " 56  number_of_reviews_ltm                         6366 non-null   int64  \n",
      " 57  number_of_reviews_l30d                        6366 non-null   int64  \n",
      " 58  first_review                                  5282 non-null   object \n",
      " 59  last_review                                   5282 non-null   object \n",
      " 60  review_scores_rating                          5282 non-null   float64\n",
      " 61  review_scores_accuracy                        5246 non-null   float64\n",
      " 62  review_scores_cleanliness                     5246 non-null   float64\n",
      " 63  review_scores_checkin                         5245 non-null   float64\n",
      " 64  review_scores_communication                   5244 non-null   float64\n",
      " 65  review_scores_location                        5245 non-null   float64\n",
      " 66  review_scores_value                           5245 non-null   float64\n",
      " 67  license                                       6031 non-null   object \n",
      " 68  instant_bookable                              6366 non-null   object \n",
      " 69  calculated_host_listings_count                6366 non-null   int64  \n",
      " 70  calculated_host_listings_count_entire_homes   6366 non-null   int64  \n",
      " 71  calculated_host_listings_count_private_rooms  6366 non-null   int64  \n",
      " 72  calculated_host_listings_count_shared_rooms   6366 non-null   int64  \n",
      " 73  reviews_per_month                             5282 non-null   float64\n",
      "dtypes: float64(20), int64(20), object(34)\n",
      "memory usage: 3.6+ MB\n"
     ]
    }
   ],
   "source": [
    "# Read in data\n",
    "dat = pd.read_csv('listings.csv')\n",
    "dat.info()"
   ]
  },
  {
   "cell_type": "markdown",
   "id": "dba48da2",
   "metadata": {},
   "source": [
    "We can see that there are 74 columns, and 6,366 observations, however some values are missing in various columns."
   ]
  },
  {
   "cell_type": "markdown",
   "id": "ffb15a6d",
   "metadata": {},
   "source": [
    "<h3>Data Cleansing</h3>\n",
    "\n",
    "<h4>Drop off irrelevant columns:</h4>\n",
    "\n",
    "* URLs will not be useful for analysis\n",
    "* Empty columns will not be useful: 'neighborhood_group_cleansed', 'bathrooms', 'calendar_updated'\n",
    "* The 'neighborhood' column only has blank values or \"Chicago, Illinois, United States\" value, making it useless\n",
    "* 'host_listings_count' and 'host_total_listings_count' are essentially duplicate information, we will use the 'calculated_host_listings_xxx' columns instead\n",
    "* 'scrape_id' is all the same value and not useful for our needs\n",
    "* 'calendar_last_scraped' can be dropped as well since it is the same value as 'last_scraped'"
   ]
  },
  {
   "cell_type": "code",
   "execution_count": 17,
   "id": "c7ed3178",
   "metadata": {},
   "outputs": [],
   "source": [
    "# Drop url columns\n",
    "dat = dat.drop(['listing_url','host_url','host_thumbnail_url','host_picture_url','picture_url'], axis = 1)\n",
    "\n",
    "# Drop empty columns\n",
    "dat = dat.drop(['neighbourhood_group_cleansed','bathrooms','calendar_updated'], axis = 1)\n",
    "\n",
    "# Drop rest\n",
    "dat = dat.drop(['neighbourhood','host_listings_count','host_total_listings_count','scrape_id','calendar_last_scraped'], axis = 1)"
   ]
  },
  {
   "cell_type": "markdown",
   "id": "89528a5a",
   "metadata": {},
   "source": [
    "<h4>Bathrooms Column:</h4>"
   ]
  },
  {
   "cell_type": "code",
   "execution_count": 18,
   "id": "e775bd17",
   "metadata": {},
   "outputs": [
    {
     "data": {
      "text/plain": [
       "432              3 baths\n",
       "270               1 bath\n",
       "685               1 bath\n",
       "4375              1 bath\n",
       "5214      1 private bath\n",
       "4800    1.5 shared baths\n",
       "1681      1 private bath\n",
       "1913              1 bath\n",
       "1380              1 bath\n",
       "4716             2 baths\n",
       "Name: bathrooms_text, dtype: object"
      ]
     },
     "execution_count": 18,
     "metadata": {},
     "output_type": "execute_result"
    }
   ],
   "source": [
    "dat['bathrooms_text'].sample(10)"
   ]
  },
  {
   "cell_type": "markdown",
   "id": "08be853d",
   "metadata": {},
   "source": [
    "Looking at the 'bathrooms_text' column, we see that it is not very usable in its current state.  We will split the bathroom text column into two: one containing a float variable for the number of bathrooms, and the other an additional descriptor of the bathroom (shared/private)."
   ]
  },
  {
   "cell_type": "code",
   "execution_count": 19,
   "id": "41b003bf",
   "metadata": {},
   "outputs": [
    {
     "data": {
      "text/plain": [
       "array([ 1. ,  2. ,  1.5,  3. ,  2.5,  0. ,  3.5, 11. ,  5. ,  nan,  0.5,\n",
       "        4. ,  4.5, 11.5,  6.5,  7. ,  5.5,  6. ,  8. , 12.5, 10. ],\n",
       "      dtype=float32)"
      ]
     },
     "execution_count": 19,
     "metadata": {},
     "output_type": "execute_result"
    }
   ],
   "source": [
    "# First let us make all text lowercase to simplify string manipulation\n",
    "dat['bathrooms_text'] = dat['bathrooms_text'].str.lower()\n",
    "\n",
    "# Next we must convert any text 'half' to 0.5 so it is included in the subsequent number extraction\n",
    "dat['bathrooms_text'] = dat['bathrooms_text'].str.replace(r'(half)+','0.5', regex = True)\n",
    "\n",
    "# Then extract the numbers into the new 'bathrooms' float32 data type column\n",
    "dat['bathrooms'] = dat['bathrooms_text'].str.extract(r'(\\d+\\.?\\d*)', expand = True).astype(np.float32)\n",
    "\n",
    "# This leaves us with only float and NaN values\n",
    "dat['bathrooms'].unique()"
   ]
  },
  {
   "cell_type": "markdown",
   "id": "5825260f",
   "metadata": {},
   "source": [
    "Above are the unique values left for the float variable in the column 'bathrooms'. The test portion requires a little more refining:"
   ]
  },
  {
   "cell_type": "code",
   "execution_count": 20,
   "id": "97a7fabc",
   "metadata": {},
   "outputs": [
    {
     "data": {
      "text/plain": [
       "1587"
      ]
     },
     "execution_count": 20,
     "metadata": {},
     "output_type": "execute_result"
    }
   ],
   "source": [
    "# Remove the text 'bath', unnecessary symbols and whitespace, then extract the leftover text\n",
    "\n",
    "dat['bathrooms_text'] = dat['bathrooms_text'].str.replace(r'(bath)s*|(Bath)s*','', regex = True)\n",
    "dat['bathrooms_text'] = dat['bathrooms_text'].str.replace(r' +|\\.+|\\-+','', regex = True)\n",
    "dat['bathrooms_text'] = dat['bathrooms_text'].str.extract(r'(\\D+)')\n",
    "dat['bathrooms_text'].count()"
   ]
  },
  {
   "cell_type": "code",
   "execution_count": 21,
   "id": "710870d3",
   "metadata": {},
   "outputs": [
    {
     "data": {
      "text/plain": [
       "array(['shared', nan, 'private'], dtype=object)"
      ]
     },
     "execution_count": 21,
     "metadata": {},
     "output_type": "execute_result"
    }
   ],
   "source": [
    "dat['bathrooms_text'].unique()"
   ]
  },
  {
   "cell_type": "markdown",
   "id": "8071219d",
   "metadata": {},
   "source": [
    "This leaves us with only 1,587 observations with one of the bathroom descriptors, 'shared' or 'private'; the rest are missing values since the original data did not contain text for them."
   ]
  },
  {
   "cell_type": "markdown",
   "id": "8de8817c",
   "metadata": {},
   "source": [
    "<h4>DateTime Columns:</h4>\n",
    "\n",
    "Next, let's convert the datetime columns into the proper datatype."
   ]
  },
  {
   "cell_type": "code",
   "execution_count": 22,
   "id": "76914b95",
   "metadata": {},
   "outputs": [],
   "source": [
    "# Convert dates to datetime data type\n",
    "\n",
    "dat['host_since'] = pd.to_datetime(dat['host_since'])\n",
    "dat['first_review'] = pd.to_datetime(dat['first_review'])\n",
    "dat['last_review'] = pd.to_datetime(dat['last_review'])"
   ]
  },
  {
   "cell_type": "markdown",
   "id": "7a63a979",
   "metadata": {},
   "source": [
    "<h4>'Rate' Columns:</h4>"
   ]
  },
  {
   "cell_type": "code",
   "execution_count": 27,
   "id": "036a7ad6",
   "metadata": {},
   "outputs": [
    {
     "data": {
      "text/plain": [
       "2689    100%\n",
       "479      NaN\n",
       "2876     98%\n",
       "2321    100%\n",
       "5109    100%\n",
       "Name: host_response_rate, dtype: object"
      ]
     },
     "execution_count": 27,
     "metadata": {},
     "output_type": "execute_result"
    }
   ],
   "source": [
    "dat['host_response_rate'].sample(5)"
   ]
  },
  {
   "cell_type": "markdown",
   "id": "53201228",
   "metadata": {},
   "source": [
    "We can see that we will need to convert the percentage columns ('host_response_rate' and 'host_acceptance_rate') into float variables."
   ]
  },
  {
   "cell_type": "code",
   "execution_count": 28,
   "id": "7ca96f35",
   "metadata": {},
   "outputs": [
    {
     "data": {
      "text/plain": [
       "3955    1.0\n",
       "1405    1.0\n",
       "1346    NaN\n",
       "1852    1.0\n",
       "2871    1.0\n",
       "Name: host_response_rate, dtype: float32"
      ]
     },
     "execution_count": 28,
     "metadata": {},
     "output_type": "execute_result"
    }
   ],
   "source": [
    "# Convert host response rate and acceptance rate columns into float\n",
    "\n",
    "dat['host_response_rate'] = dat['host_response_rate'].str.replace(r'(\\D)','', regex = True).astype(np.float32)/100\n",
    "dat['host_acceptance_rate'] = dat['host_acceptance_rate'].str.replace(r'(\\D)','', regex = True).astype(np.float32)/100\n",
    "dat['host_response_rate'].sample(5)"
   ]
  },
  {
   "cell_type": "markdown",
   "id": "eb596136",
   "metadata": {},
   "source": [
    "<h4>Boolean Columns:</h4>"
   ]
  },
  {
   "cell_type": "code",
   "execution_count": 29,
   "id": "e7fd59d3",
   "metadata": {},
   "outputs": [
    {
     "data": {
      "text/plain": [
       "array(['t', 'f', nan], dtype=object)"
      ]
     },
     "execution_count": 29,
     "metadata": {},
     "output_type": "execute_result"
    }
   ],
   "source": [
    "dat['host_is_superhost'].unique()"
   ]
  },
  {
   "cell_type": "markdown",
   "id": "84579ac9",
   "metadata": {},
   "source": [
    "We will convert the 't' and 'f' values to binary float values in all of the boolean columns for later analysis, where 1 will mean \"True\"."
   ]
  },
  {
   "cell_type": "code",
   "execution_count": 30,
   "id": "41586694",
   "metadata": {},
   "outputs": [],
   "source": [
    "# Map superhost column to boolean values\n",
    "\n",
    "dat['host_is_superhost'] = dat['host_is_superhost'].map({'t':1,'f':0}).astype('float')\n",
    "dat['host_has_profile_pic'] = dat['host_has_profile_pic'].map({'t':1,'f':0}).astype('float')\n",
    "dat['host_identity_verified'] = dat['host_identity_verified'].map({'t':1,'f':0}).astype('float')\n",
    "dat['has_availability'] = dat['has_availability'].map({'t':1,'f':0}).astype('float')\n",
    "dat['instant_bookable'] = dat['instant_bookable'].map({'t':1,'f':0}).astype('float')"
   ]
  },
  {
   "cell_type": "code",
   "execution_count": 31,
   "id": "cf10b60e",
   "metadata": {},
   "outputs": [
    {
     "data": {
      "text/plain": [
       "array([ 1.,  0., nan])"
      ]
     },
     "execution_count": 31,
     "metadata": {},
     "output_type": "execute_result"
    }
   ],
   "source": [
    "dat['host_is_superhost'].unique()"
   ]
  },
  {
   "cell_type": "markdown",
   "id": "eba7b617",
   "metadata": {},
   "source": [
    "<h4>Price Column:</h4>\n",
    "\n",
    "Convert the price column to a float data type."
   ]
  },
  {
   "cell_type": "code",
   "execution_count": 32,
   "id": "985ed1b9",
   "metadata": {},
   "outputs": [],
   "source": [
    "# Extract only the decimal digits and the period\n",
    "dat['price'] = dat['price'].str.extract(r'(\\d+\\.\\d+)').astype(np.float64)"
   ]
  },
  {
   "cell_type": "code",
   "execution_count": 33,
   "id": "2ebf1094",
   "metadata": {
    "scrolled": true
   },
   "outputs": [
    {
     "data": {
      "text/plain": [
       "622     129.0\n",
       "4499    265.0\n",
       "3508    125.0\n",
       "5094    115.0\n",
       "5409    251.0\n",
       "Name: price, dtype: float64"
      ]
     },
     "execution_count": 33,
     "metadata": {},
     "output_type": "execute_result"
    }
   ],
   "source": [
    "dat['price'].sample(5)"
   ]
  },
  {
   "cell_type": "markdown",
   "id": "d244f831",
   "metadata": {},
   "source": [
    "<h4>License Column:</h4>\n",
    "\n",
    "Since we will not be able to use the individual license numbers, we will convert this column into a categorical variable, where 1 means the listing has a license, and 0 does not."
   ]
  },
  {
   "cell_type": "code",
   "execution_count": 34,
   "id": "2106f034",
   "metadata": {},
   "outputs": [],
   "source": [
    "\n",
    "\n",
    "#dat['license'].sample(20)"
   ]
  },
  {
   "cell_type": "markdown",
   "id": "f9e0f101",
   "metadata": {},
   "source": [
    "<h3>Data Exploration and Visualization</h3>\n",
    "\n",
    "Let us explore the data in the dataset.\n",
    "\n",
    "<h4>Unique Hosts</h4>\n",
    "\n",
    "First, how many unique hosts are there?"
   ]
  },
  {
   "cell_type": "code",
   "execution_count": null,
   "id": "abd2950f",
   "metadata": {},
   "outputs": [],
   "source": [
    "dat['host_id'].nunique()"
   ]
  },
  {
   "cell_type": "code",
   "execution_count": null,
   "id": "4abb982a",
   "metadata": {},
   "outputs": [],
   "source": [
    "listings_by_host = dat['host_id'].value_counts()\n",
    "listings_by_host.describe()"
   ]
  },
  {
   "cell_type": "code",
   "execution_count": null,
   "id": "c6ed7a20",
   "metadata": {},
   "outputs": [],
   "source": [
    "listings_by_host[listings_by_host > 1].count()"
   ]
  },
  {
   "cell_type": "markdown",
   "id": "56e9f13d",
   "metadata": {},
   "source": [
    "Here we can see that out of the 3,371 unique hosts, 799 have more than one listing in the Chicago area.  Interestingly, there is one host id with 260 listings.\n",
    "\n",
    "Let's graph this data to see the distribution of hosts with differing numbers of listings."
   ]
  },
  {
   "cell_type": "code",
   "execution_count": null,
   "id": "473ae38e",
   "metadata": {},
   "outputs": [],
   "source": [
    "plt.figure(figsize=(18,6))\n",
    "p = sb.countplot(x=listings_by_host, order=sorted(listings_by_host.unique()))\n",
    "p.set_xticklabels(labels=p.get_xticklabels(),rotation=90)\n",
    "p.bar_label(p.containers[0])\n",
    "plt.xlabel('Number of Listings by Host')\n",
    "plt.show()"
   ]
  },
  {
   "cell_type": "markdown",
   "id": "48349abb",
   "metadata": {},
   "source": [
    "It is obvious that a vast majority of hosts have only one listing in the Chicago area."
   ]
  },
  {
   "cell_type": "markdown",
   "id": "48162f2e",
   "metadata": {},
   "source": [
    "<h4>Host Response Time</h4>\n"
   ]
  },
  {
   "cell_type": "code",
   "execution_count": null,
   "id": "fc2489bb",
   "metadata": {},
   "outputs": [],
   "source": [
    "dat['host_response_time'].unique()"
   ]
  },
  {
   "cell_type": "code",
   "execution_count": null,
   "id": "b62c75e8",
   "metadata": {},
   "outputs": [],
   "source": [
    "plt.figure(figsize=(6,6))\n",
    "p = sb.countplot(x='host_response_time',data = dat)\n",
    "p.set_xticklabels(labels=p.get_xticklabels(),rotation=45)\n",
    "p.bar_label(p.containers[0])\n",
    "plt.xlabel('Host Response Time')\n",
    "plt.show()"
   ]
  },
  {
   "cell_type": "markdown",
   "id": "a11025ef",
   "metadata": {},
   "source": [
    "Here we can see there are four categories for the response time.  Let's define a system for rating the response time by using floating numbers.  We will assign the values in hours and as follows:\n",
    " * 'within an hour' = 1 hour\n",
    " * 'within a few hours' = 5 hours\n",
    " * 'within a day' = 24 hours\n",
    " * 'a few days or more' = 48 hours"
   ]
  },
  {
   "cell_type": "code",
   "execution_count": null,
   "id": "84a39c9d",
   "metadata": {},
   "outputs": [],
   "source": [
    "dat['host_response_time_float'] = dat['host_response_time'].map({'within an hour':1,'within a few hours':5,\n",
    "                                                           'within a day':24,'a few days or more':48}).astype(np.float32)\n",
    "dat['host_response_time_float'].unique()"
   ]
  },
  {
   "cell_type": "markdown",
   "id": "3973debc",
   "metadata": {},
   "source": [
    "<h4>Host Verifications</h4>\n",
    "\n",
    "In order to simplify future analysis, let us count the number of verifications the host has and list this in a new column."
   ]
  },
  {
   "cell_type": "code",
   "execution_count": null,
   "id": "bc6edec1",
   "metadata": {},
   "outputs": [],
   "source": [
    "dat['host_verifications'].sample(5)"
   ]
  },
  {
   "cell_type": "markdown",
   "id": "30d38643",
   "metadata": {},
   "source": [
    "We can see that the verifications are separated by a comma, so we will use this to count the number of verifications each host has."
   ]
  },
  {
   "cell_type": "code",
   "execution_count": null,
   "id": "4b8de230",
   "metadata": {},
   "outputs": [],
   "source": [
    "dat['no_of_verif'] = dat['host_verifications'].str.count(r',') + 1\n",
    "dat.loc[:, ['host_verifications','no_of_verif']].head()"
   ]
  },
  {
   "cell_type": "markdown",
   "id": "4e7a55e3",
   "metadata": {},
   "source": [
    "In order to catch any observations where hosts have no verifications, we will set the number of verifications to zero where the host_verifications = 'None'.  This is important since the code above would have counted 'none' and an observation without a comma (i.e. only one verification) as 1."
   ]
  },
  {
   "cell_type": "code",
   "execution_count": null,
   "id": "ba14642d",
   "metadata": {},
   "outputs": [],
   "source": [
    "dat['no_of_verif'] = np.where(dat['host_verifications'] == 'None', 0, dat['no_of_verif'])"
   ]
  },
  {
   "cell_type": "code",
   "execution_count": null,
   "id": "7de2a9c2",
   "metadata": {},
   "outputs": [],
   "source": [
    "dat['no_of_verif'].describe()"
   ]
  },
  {
   "cell_type": "markdown",
   "id": "dfe69ae8",
   "metadata": {},
   "source": [
    "On average, hosts have about 5-6 different identity verifications. "
   ]
  },
  {
   "cell_type": "code",
   "execution_count": null,
   "id": "60e4977b",
   "metadata": {},
   "outputs": [],
   "source": [
    "plt.figure(figsize=(18,6))\n",
    "p = sb.countplot(x='no_of_verif',data = dat)\n",
    "p.bar_label(p.containers[0])\n",
    "plt.xlabel('Nomber of Identity Verifications by Host')\n",
    "plt.show()"
   ]
  },
  {
   "cell_type": "markdown",
   "id": "6436c9ed",
   "metadata": {},
   "source": [
    "<h4>Amenities</h4>\n",
    "\n",
    "Repeat the same process for number of amenities listed."
   ]
  },
  {
   "cell_type": "code",
   "execution_count": null,
   "id": "c77d6087",
   "metadata": {},
   "outputs": [],
   "source": [
    "dat['no_of_amen'] = dat['amenities'].str.count(r',') + 1\n",
    "dat.loc[:, ['amenities','no_of_amen']].head()"
   ]
  },
  {
   "cell_type": "code",
   "execution_count": null,
   "id": "a7118e5f",
   "metadata": {},
   "outputs": [],
   "source": [
    "dat['no_of_amen'].describe()"
   ]
  },
  {
   "cell_type": "code",
   "execution_count": null,
   "id": "26ed39bb",
   "metadata": {
    "scrolled": true
   },
   "outputs": [],
   "source": [
    "plt.figure(figsize=(18,6))\n",
    "p = sb.countplot(x='no_of_amen',data = dat)\n",
    "p.set_xticklabels(labels=p.get_xticklabels(),rotation=90)\n",
    "plt.xlabel('Number of Amenities Listed by the Host')\n",
    "plt.show()"
   ]
  },
  {
   "cell_type": "markdown",
   "id": "be9aafe9",
   "metadata": {},
   "source": [
    "<h4>Distance from Center of Chicago</h4>\n",
    "\n",
    "Let's calculate the distance of the listing from the center of the city of Chicago.  We will use the following coordinates: 41.8781° N, 87.6298° W (source needed?).\n",
    "\n",
    "We will use the Haversine formula to calculate the distance in miles.  In order to do so, we will first define a function to perform the calculation."
   ]
  },
  {
   "cell_type": "code",
   "execution_count": null,
   "id": "65ea79c9",
   "metadata": {},
   "outputs": [],
   "source": [
    "# Coordinates for center of Chicago in degrees\n",
    "lat1 = 41.881832\n",
    "long1 = -87.623177\n",
    "\n",
    "# Constant, radius of the Earth in miles\n",
    "r = 3958.8\n",
    "\n",
    "# Define a function to calculate the distance\n",
    "def haversine(lat2, long2):\n",
    "    # First convert degrees into radians:\n",
    "    rlat1 = lat1 * (math.pi / 180)\n",
    "    rlat2 = lat2 * (math.pi / 180)\n",
    "    rlong1 = long1 * (math.pi / 180)\n",
    "    rlong2 = long2 * (math.pi / 180)\n",
    "    \n",
    "    # Calculate the differnce between the latitudes and longitudes\n",
    "    dlat = rlat1 - rlat2\n",
    "    dlong = rlong1 - rlong2\n",
    "    \n",
    "    # Use the Haversine formula (broken into 3 terms for simplification here)\n",
    "    a = (math.sin(dlat / 2) ** 2)         # First term\n",
    "    b = math.cos(rlat1) * math.cos(rlat2) # Second term\n",
    "    c = (math.sin(dlong / 2) ** 2)        # Third term\n",
    "    e = math.sqrt(a + b * c)\n",
    "    d = 2 * r * e                         # where r is the radius of the Earth\n",
    "    return d"
   ]
  },
  {
   "cell_type": "markdown",
   "id": "66990162",
   "metadata": {},
   "source": [
    "Then, apply the formula to each observation in the data set, returning the answer in a new column for the distance from the center of the city."
   ]
  },
  {
   "cell_type": "code",
   "execution_count": null,
   "id": "eb060ecb",
   "metadata": {},
   "outputs": [],
   "source": [
    "dat['d_center'] = dat.apply(\n",
    "    lambda row: haversine(row['latitude'], row['longitude']),\n",
    "    axis=1)\n",
    "dat['d_center'].sample(5)"
   ]
  },
  {
   "cell_type": "code",
   "execution_count": null,
   "id": "1ecde93e",
   "metadata": {},
   "outputs": [],
   "source": [
    "dat['d_center'].describe()"
   ]
  },
  {
   "cell_type": "markdown",
   "id": "945e459e",
   "metadata": {},
   "source": [
    "In order to visualize the distances, let us plot them against the listing price values."
   ]
  },
  {
   "cell_type": "code",
   "execution_count": null,
   "id": "76e49893",
   "metadata": {},
   "outputs": [],
   "source": [
    "plt.figure(figsize=(12,8))\n",
    "sb.regplot(x=\"d_center\", y=\"price\", \n",
    "            line_kws={\"color\":\"r\",\"alpha\":0.5,\"lw\":3}, data=dat)\n",
    "plt.xlabel('Distance from center of city (miles)')\n",
    "plt.ylabel('Price ($)')\n",
    "plt.show()"
   ]
  },
  {
   "cell_type": "markdown",
   "id": "8d43981d",
   "metadata": {},
   "source": [
    "On first look, it appears that the listings further from the city are less valuable on average."
   ]
  },
  {
   "cell_type": "markdown",
   "id": "29cb2868",
   "metadata": {},
   "source": [
    "<h4>Property and Room Types</h4>"
   ]
  },
  {
   "cell_type": "code",
   "execution_count": null,
   "id": "529b531e",
   "metadata": {},
   "outputs": [],
   "source": [
    "plt.figure(figsize=(18,6))\n",
    "p = sb.countplot(x='property_type',data = dat)\n",
    "p.set_xticklabels(labels=p.get_xticklabels(),rotation=90)\n",
    "plt.xlabel('Number of Amenities Listed by the Host')\n",
    "plt.show()"
   ]
  },
  {
   "cell_type": "code",
   "execution_count": null,
   "id": "945c1fc5",
   "metadata": {},
   "outputs": [],
   "source": [
    "plt.figure(figsize=(12,6))\n",
    "p = sb.countplot(x='room_type',data = dat)\n",
    "plt.xlabel('Room Type')\n",
    "plt.show()"
   ]
  },
  {
   "cell_type": "markdown",
   "id": "58d461ba",
   "metadata": {},
   "source": [
    "<h2>Dimension Reduction</h2>\n",
    "\n"
   ]
  },
  {
   "cell_type": "code",
   "execution_count": null,
   "id": "bc209efc",
   "metadata": {},
   "outputs": [],
   "source": [
    "dat.info()"
   ]
  },
  {
   "cell_type": "markdown",
   "id": "45441879",
   "metadata": {},
   "source": [
    "In order to complete a Principal Component Analysis, we need to only select the numeric values and drop values with NaNs."
   ]
  },
  {
   "cell_type": "code",
   "execution_count": null,
   "id": "c294a6cc",
   "metadata": {},
   "outputs": [],
   "source": [
    "# Select only numeric values\n",
    "dat_pre_norm = dat.loc[:,['host_response_rate','host_acceptance_rate','host_is_superhost',\n",
    "                         'host_total_listings_count','host_has_profile_pic',\n",
    "                          'host_identity_verified','latitude','longitude','accommodates','bedrooms','beds',\n",
    "                         'price','minimum_minimum_nights','maximum_minimum_nights',\n",
    "                         'minimum_maximum_nights','maximum_maximum_nights','minimum_nights_avg_ntm',\n",
    "                         'maximum_nights_avg_ntm','number_of_reviews','number_of_reviews_ltm','number_of_reviews_l30d',\n",
    "                         'review_scores_rating','review_scores_accuracy','review_scores_cleanliness',\n",
    "                         'review_scores_checkin','review_scores_communication','review_scores_location',\n",
    "                         'review_scores_value','reviews_per_month']]\n",
    "dat_pre_norm = dat_pre_norm.dropna()"
   ]
  },
  {
   "cell_type": "code",
   "execution_count": null,
   "id": "c3112176",
   "metadata": {},
   "outputs": [],
   "source": [
    "dat_norm = scale(dat_pre_norm)"
   ]
  },
  {
   "cell_type": "markdown",
   "id": "e084530d",
   "metadata": {},
   "source": [
    "For the fist PCA, we will include all of the variables (i.e. columns from the selection above)."
   ]
  },
  {
   "cell_type": "code",
   "execution_count": null,
   "id": "60ccbd95",
   "metadata": {},
   "outputs": [],
   "source": [
    "pca1 = PCA(n_components=len(dat_pre_norm.columns))\n",
    "\n",
    "pca1.fit(dat_norm)"
   ]
  },
  {
   "cell_type": "code",
   "execution_count": null,
   "id": "419b0bae",
   "metadata": {},
   "outputs": [],
   "source": [
    "var = pca1.explained_variance_ratio_\n",
    "var1 = np.cumsum(np.round(pca1.explained_variance_ratio_, decimals=4)*100)\n",
    "print(var1)"
   ]
  },
  {
   "cell_type": "code",
   "execution_count": null,
   "id": "e139d75e",
   "metadata": {},
   "outputs": [],
   "source": [
    "var1 = pd.DataFrame(var1, index=np.arange(1,int(len(dat_pre_norm.columns))+1))\n",
    "plt.plot(var1,color='blue')\n",
    "plt.title('Scree Plot')\n",
    "plt.xlabel('Number of Principal Components')\n",
    "plt.ylabel('Cumulative Variance Explained')\n",
    "plt.show()"
   ]
  },
  {
   "cell_type": "markdown",
   "id": "47aedfc2",
   "metadata": {},
   "source": [
    "Taking the first 18 principal components will correspond to 90% of the variance explained."
   ]
  },
  {
   "cell_type": "code",
   "execution_count": null,
   "id": "a7b29f06",
   "metadata": {},
   "outputs": [],
   "source": [
    "pca18 = PCA(n_components=18)\n",
    "pca18.fit(dat_norm)\n",
    "data_pca18 = pca18.transform(dat_norm)\n",
    "\n",
    "# Convert the numpy array to pandas DataFrame\n",
    "data_pca18 = pd.DataFrame(data_pca18)\n",
    "data_pca18.columns = [\"PC\"+str(i) for i in range(1,19)]"
   ]
  },
  {
   "cell_type": "code",
   "execution_count": null,
   "id": "fde7c309",
   "metadata": {},
   "outputs": [],
   "source": [
    "data_pca18.corr()"
   ]
  },
  {
   "cell_type": "markdown",
   "id": "efba1484",
   "metadata": {},
   "source": [
    "From the above correlation table, we can find that the pairwise correlations between two components are close to zeros. This means that all these components are orthogonal (not correlated). There is no multicollinearity among principal components."
   ]
  },
  {
   "cell_type": "code",
   "execution_count": null,
   "id": "fa63a552",
   "metadata": {},
   "outputs": [],
   "source": []
  }
 ],
 "metadata": {
  "kernelspec": {
   "display_name": "Python 3 (ipykernel)",
   "language": "python",
   "name": "python3"
  },
  "language_info": {
   "codemirror_mode": {
    "name": "ipython",
    "version": 3
   },
   "file_extension": ".py",
   "mimetype": "text/x-python",
   "name": "python",
   "nbconvert_exporter": "python",
   "pygments_lexer": "ipython3",
   "version": "3.9.7"
  }
 },
 "nbformat": 4,
 "nbformat_minor": 5
}
